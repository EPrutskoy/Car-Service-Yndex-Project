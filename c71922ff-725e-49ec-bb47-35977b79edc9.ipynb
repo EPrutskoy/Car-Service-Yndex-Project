{
 "cells": [
  {
   "cell_type": "markdown",
   "metadata": {},
   "source": [
    "# Определение стоимости автомобилей"
   ]
  },
  {
   "cell_type": "markdown",
   "metadata": {},
   "source": [
    "Сервис по продаже автомобилей с пробегом «Не бит, не крашен» разрабатывает приложение для привлечения новых клиентов. В нём можно быстро узнать рыночную стоимость своего автомобиля. В вашем распоряжении исторические данные: технические характеристики, комплектации и цены автомобилей. Вам нужно построить модель для определения стоимости. \n",
    "\n",
    "Заказчику важны:\n",
    "\n",
    "- качество предсказания;\n",
    "- скорость предсказания;\n",
    "- время обучения."
   ]
  },
  {
   "cell_type": "markdown",
   "metadata": {},
   "source": [
    "## Описание данных\n",
    "\n",
    "**Признаки**\n",
    "* `DateCrawled` — дата скачивания анкеты из базы\n",
    "* `VehicleType` — тип автомобильного кузова\n",
    "* `RegistrationYear` — год регистрации автомобиля\n",
    "* `Gearbox` — тип коробки передач\n",
    "* `Power` — мощность (л. с.)\n",
    "* `Model` — модель автомобиля\n",
    "* `Kilometer` — пробег (км)\n",
    "* Reg`istrationMonth — месяц регистрации автомобиля\n",
    "* `FuelType` — тип топлива\n",
    "* `Brand` — марка автомобиля\n",
    "* `Repaired` — была машина в ремонте или нет\n",
    "* `DateCreated` — дата создания анкеты\n",
    "* `NumberOfPictures` — количество фотографий автомобиля\n",
    "* `PostalCode` — почтовый индекс владельца анкеты (пользователя)\n",
    "* `LastSeen` — дата последней активности пользователя\n",
    "\n",
    "**Целевой признак**\n",
    "* Price — цена (евро)"
   ]
  },
  {
   "cell_type": "markdown",
   "metadata": {},
   "source": [
    "## Подготовка данных"
   ]
  },
  {
   "cell_type": "code",
   "execution_count": 1,
   "metadata": {},
   "outputs": [],
   "source": [
    "#pip install shap"
   ]
  },
  {
   "cell_type": "code",
   "execution_count": 2,
   "metadata": {},
   "outputs": [],
   "source": [
    "#pip install catboost"
   ]
  },
  {
   "cell_type": "markdown",
   "metadata": {},
   "source": [
    "### Установка библиотек и настройка окружения"
   ]
  },
  {
   "cell_type": "code",
   "execution_count": 3,
   "metadata": {},
   "outputs": [
    {
     "name": "stderr",
     "output_type": "stream",
     "text": [
      "c:\\Users\\eprutskoy\\Anaconda3\\lib\\site-packages\\pandas\\core\\computation\\expressions.py:21: UserWarning: Pandas requires version '2.8.4' or newer of 'numexpr' (version '2.8.1' currently installed).\n",
      "  from pandas.core.computation.check import NUMEXPR_INSTALLED\n",
      "c:\\Users\\eprutskoy\\Anaconda3\\lib\\site-packages\\pandas\\core\\arrays\\masked.py:60: UserWarning: Pandas requires version '1.3.6' or newer of 'bottleneck' (version '1.3.4' currently installed).\n",
      "  from pandas.core import (\n"
     ]
    }
   ],
   "source": [
    "import pandas as pd \n",
    "import numpy as np\n",
    "import seaborn as sns \n",
    "import matplotlib.pyplot as plt\n",
    "from IPython.display import display\n",
    "import warnings\n",
    "from sklearn.model_selection import GridSearchCV\n",
    "from sklearn.metrics import make_scorer, f1_score\n",
    "from catboost import CatBoostClassifier\n",
    "\n",
    "from sklearn.metrics import make_scorer, f1_score\n",
    "from sklearn.model_selection import RandomizedSearchCV\n",
    "from sklearn.ensemble import RandomForestClassifier\n",
    "from sklearn.pipeline import Pipeline\n",
    "from sklearn.compose import ColumnTransformer\n",
    "\n",
    "import shap\n",
    "\n",
    "from sklearn.impute import SimpleImputer\n",
    "from sklearn.preprocessing import StandardScaler, OneHotEncoder, FunctionTransformer\n",
    "from sklearn.model_selection import train_test_split\n",
    "from sklearn.tree import DecisionTreeClassifier\n",
    "from sklearn.model_selection import cross_val_score\n",
    "from sklearn.pipeline import Pipeline\n",
    "from sklearn.compose import ColumnTransformer\n",
    "from sklearn.preprocessing import FunctionTransformer, StandardScaler, OneHotEncoder\n",
    "from sklearn.impute import SimpleImputer\n",
    "from sklearn.ensemble import RandomForestClassifier\n",
    "from sklearn.model_selection import train_test_split\n",
    "\n",
    "import scipy.stats as stats\n",
    "import scipy\n",
    "import scipy.stats.stats\n",
    "from scipy.stats import poisson\n",
    "import scipy.stats\n",
    "import phik"
   ]
  },
  {
   "cell_type": "code",
   "execution_count": 4,
   "metadata": {},
   "outputs": [],
   "source": [
    "pd.set_option('display.min_rows', 20)\n",
    "pd.set_option('display.max_rows', 20)\n",
    "pd.options.display.float_format = '{:,.2f}'.format\n",
    "\n",
    "warnings.filterwarnings('ignore')"
   ]
  },
  {
   "cell_type": "markdown",
   "metadata": {},
   "source": [
    "### Инициализация полезных функций"
   ]
  },
  {
   "cell_type": "code",
   "execution_count": 5,
   "metadata": {},
   "outputs": [],
   "source": [
    "# функция информации по таблице\n",
    "def dataframe_summary(df, string):\n",
    "    # Вывод общей информации\n",
    "    print(\"Общая информация по таблице:\", string)\n",
    "    df.info()\n",
    "\n",
    "    # Вывод статистического описания\n",
    "    print(\"\\n Статистическое описание:\")\n",
    "    display(df.describe().transpose())\n",
    "\n",
    "    # Вывод случайных примеров\n",
    "    print(\"\\nСлучайные примеры:\")\n",
    "    display(df.sample(5))\n",
    "\n",
    "    # Вывод количества строк и столбцов\n",
    "    print(\"\\nКоличество строк и столбцов:\", df.shape)\n",
    "    \n",
    "    # Вывод количества явных дубликатов\n",
    "    print(\"\\nКоличество явных дубликатов:\", df.duplicated().sum())\n",
    "    print('')"
   ]
  },
  {
   "cell_type": "code",
   "execution_count": 6,
   "metadata": {},
   "outputs": [],
   "source": [
    "# функция поиска пропусков\n",
    "def analyze_missing_values(df, string):\n",
    "        total = df.isnull().sum().sort_values(ascending=False)\n",
    "        percent = (df.isnull().sum()/df.isnull().count()*100).sort_values(ascending=False)\n",
    "        missing_data = pd.concat([total, percent], axis=1, keys=['Total', 'Percent'])\n",
    "        missing_data = missing_data.query('Total > 0')\n",
    "\n",
    "        # Вывод информации о пропусках\n",
    "        print(f\"Пропуски в датафрейме {string}:\\n{missing_data}\\n\")\n",
    "\n",
    "        # Создание и отображение тепловой карты\n",
    "        plt.figure(figsize=(12, 8))\n",
    "        sns.heatmap(df.isnull(), cbar=False, yticklabels=False)\n",
    "        plt.title(f\"Heatmap пропусков для {string}\")\n",
    "        plt.show()"
   ]
  },
  {
   "cell_type": "markdown",
   "metadata": {},
   "source": [
    "### Обзор данных, работа с дубликатами, пропусками и выбросами"
   ]
  },
  {
   "cell_type": "markdown",
   "metadata": {},
   "source": [
    "План работы:\n",
    "1) Анализ описательной статитстики по данным;\n",
    "2) Очистка явных дубликатов "
   ]
  },
  {
   "cell_type": "code",
   "execution_count": 7,
   "metadata": {},
   "outputs": [],
   "source": [
    "data = pd.read_csv('autos.csv')\n",
    "\n",
    "# Создадим отдельный датасет, который мы оставим в исходном состоянии. \n",
    "# Все необходимые преобразования\n",
    "# data_model = data.copy()"
   ]
  },
  {
   "cell_type": "code",
   "execution_count": 8,
   "metadata": {},
   "outputs": [
    {
     "name": "stdout",
     "output_type": "stream",
     "text": [
      "Общая информация по таблице: Автомобили (data)\n",
      "<class 'pandas.core.frame.DataFrame'>\n",
      "RangeIndex: 354369 entries, 0 to 354368\n",
      "Data columns (total 16 columns):\n",
      " #   Column             Non-Null Count   Dtype \n",
      "---  ------             --------------   ----- \n",
      " 0   DateCrawled        354369 non-null  object\n",
      " 1   Price              354369 non-null  int64 \n",
      " 2   VehicleType        316879 non-null  object\n",
      " 3   RegistrationYear   354369 non-null  int64 \n",
      " 4   Gearbox            334536 non-null  object\n",
      " 5   Power              354369 non-null  int64 \n",
      " 6   Model              334664 non-null  object\n",
      " 7   Kilometer          354369 non-null  int64 \n",
      " 8   RegistrationMonth  354369 non-null  int64 \n",
      " 9   FuelType           321474 non-null  object\n",
      " 10  Brand              354369 non-null  object\n",
      " 11  Repaired           283215 non-null  object\n",
      " 12  DateCreated        354369 non-null  object\n",
      " 13  NumberOfPictures   354369 non-null  int64 \n",
      " 14  PostalCode         354369 non-null  int64 \n",
      " 15  LastSeen           354369 non-null  object\n",
      "dtypes: int64(7), object(9)\n",
      "memory usage: 43.3+ MB\n",
      "\n",
      " Статистическое описание:\n"
     ]
    },
    {
     "data": {
      "text/html": [
       "<div>\n",
       "<style scoped>\n",
       "    .dataframe tbody tr th:only-of-type {\n",
       "        vertical-align: middle;\n",
       "    }\n",
       "\n",
       "    .dataframe tbody tr th {\n",
       "        vertical-align: top;\n",
       "    }\n",
       "\n",
       "    .dataframe thead th {\n",
       "        text-align: right;\n",
       "    }\n",
       "</style>\n",
       "<table border=\"1\" class=\"dataframe\">\n",
       "  <thead>\n",
       "    <tr style=\"text-align: right;\">\n",
       "      <th></th>\n",
       "      <th>count</th>\n",
       "      <th>mean</th>\n",
       "      <th>std</th>\n",
       "      <th>min</th>\n",
       "      <th>25%</th>\n",
       "      <th>50%</th>\n",
       "      <th>75%</th>\n",
       "      <th>max</th>\n",
       "    </tr>\n",
       "  </thead>\n",
       "  <tbody>\n",
       "    <tr>\n",
       "      <th>Price</th>\n",
       "      <td>354,369.00</td>\n",
       "      <td>4,416.66</td>\n",
       "      <td>4,514.16</td>\n",
       "      <td>0.00</td>\n",
       "      <td>1,050.00</td>\n",
       "      <td>2,700.00</td>\n",
       "      <td>6,400.00</td>\n",
       "      <td>20,000.00</td>\n",
       "    </tr>\n",
       "    <tr>\n",
       "      <th>RegistrationYear</th>\n",
       "      <td>354,369.00</td>\n",
       "      <td>2,004.23</td>\n",
       "      <td>90.23</td>\n",
       "      <td>1,000.00</td>\n",
       "      <td>1,999.00</td>\n",
       "      <td>2,003.00</td>\n",
       "      <td>2,008.00</td>\n",
       "      <td>9,999.00</td>\n",
       "    </tr>\n",
       "    <tr>\n",
       "      <th>Power</th>\n",
       "      <td>354,369.00</td>\n",
       "      <td>110.09</td>\n",
       "      <td>189.85</td>\n",
       "      <td>0.00</td>\n",
       "      <td>69.00</td>\n",
       "      <td>105.00</td>\n",
       "      <td>143.00</td>\n",
       "      <td>20,000.00</td>\n",
       "    </tr>\n",
       "    <tr>\n",
       "      <th>Kilometer</th>\n",
       "      <td>354,369.00</td>\n",
       "      <td>128,211.17</td>\n",
       "      <td>37,905.34</td>\n",
       "      <td>5,000.00</td>\n",
       "      <td>125,000.00</td>\n",
       "      <td>150,000.00</td>\n",
       "      <td>150,000.00</td>\n",
       "      <td>150,000.00</td>\n",
       "    </tr>\n",
       "    <tr>\n",
       "      <th>RegistrationMonth</th>\n",
       "      <td>354,369.00</td>\n",
       "      <td>5.71</td>\n",
       "      <td>3.73</td>\n",
       "      <td>0.00</td>\n",
       "      <td>3.00</td>\n",
       "      <td>6.00</td>\n",
       "      <td>9.00</td>\n",
       "      <td>12.00</td>\n",
       "    </tr>\n",
       "    <tr>\n",
       "      <th>NumberOfPictures</th>\n",
       "      <td>354,369.00</td>\n",
       "      <td>0.00</td>\n",
       "      <td>0.00</td>\n",
       "      <td>0.00</td>\n",
       "      <td>0.00</td>\n",
       "      <td>0.00</td>\n",
       "      <td>0.00</td>\n",
       "      <td>0.00</td>\n",
       "    </tr>\n",
       "    <tr>\n",
       "      <th>PostalCode</th>\n",
       "      <td>354,369.00</td>\n",
       "      <td>50,508.69</td>\n",
       "      <td>25,783.10</td>\n",
       "      <td>1,067.00</td>\n",
       "      <td>30,165.00</td>\n",
       "      <td>49,413.00</td>\n",
       "      <td>71,083.00</td>\n",
       "      <td>99,998.00</td>\n",
       "    </tr>\n",
       "  </tbody>\n",
       "</table>\n",
       "</div>"
      ],
      "text/plain": [
       "                       count       mean       std      min        25%  \\\n",
       "Price             354,369.00   4,416.66  4,514.16     0.00   1,050.00   \n",
       "RegistrationYear  354,369.00   2,004.23     90.23 1,000.00   1,999.00   \n",
       "Power             354,369.00     110.09    189.85     0.00      69.00   \n",
       "Kilometer         354,369.00 128,211.17 37,905.34 5,000.00 125,000.00   \n",
       "RegistrationMonth 354,369.00       5.71      3.73     0.00       3.00   \n",
       "NumberOfPictures  354,369.00       0.00      0.00     0.00       0.00   \n",
       "PostalCode        354,369.00  50,508.69 25,783.10 1,067.00  30,165.00   \n",
       "\n",
       "                         50%        75%        max  \n",
       "Price               2,700.00   6,400.00  20,000.00  \n",
       "RegistrationYear    2,003.00   2,008.00   9,999.00  \n",
       "Power                 105.00     143.00  20,000.00  \n",
       "Kilometer         150,000.00 150,000.00 150,000.00  \n",
       "RegistrationMonth       6.00       9.00      12.00  \n",
       "NumberOfPictures        0.00       0.00       0.00  \n",
       "PostalCode         49,413.00  71,083.00  99,998.00  "
      ]
     },
     "metadata": {},
     "output_type": "display_data"
    },
    {
     "name": "stdout",
     "output_type": "stream",
     "text": [
      "\n",
      "Случайные примеры:\n"
     ]
    },
    {
     "data": {
      "text/html": [
       "<div>\n",
       "<style scoped>\n",
       "    .dataframe tbody tr th:only-of-type {\n",
       "        vertical-align: middle;\n",
       "    }\n",
       "\n",
       "    .dataframe tbody tr th {\n",
       "        vertical-align: top;\n",
       "    }\n",
       "\n",
       "    .dataframe thead th {\n",
       "        text-align: right;\n",
       "    }\n",
       "</style>\n",
       "<table border=\"1\" class=\"dataframe\">\n",
       "  <thead>\n",
       "    <tr style=\"text-align: right;\">\n",
       "      <th></th>\n",
       "      <th>DateCrawled</th>\n",
       "      <th>Price</th>\n",
       "      <th>VehicleType</th>\n",
       "      <th>RegistrationYear</th>\n",
       "      <th>Gearbox</th>\n",
       "      <th>Power</th>\n",
       "      <th>Model</th>\n",
       "      <th>Kilometer</th>\n",
       "      <th>RegistrationMonth</th>\n",
       "      <th>FuelType</th>\n",
       "      <th>Brand</th>\n",
       "      <th>Repaired</th>\n",
       "      <th>DateCreated</th>\n",
       "      <th>NumberOfPictures</th>\n",
       "      <th>PostalCode</th>\n",
       "      <th>LastSeen</th>\n",
       "    </tr>\n",
       "  </thead>\n",
       "  <tbody>\n",
       "    <tr>\n",
       "      <th>353546</th>\n",
       "      <td>2016-03-22 23:37:38</td>\n",
       "      <td>3600</td>\n",
       "      <td>convertible</td>\n",
       "      <td>1995</td>\n",
       "      <td>manual</td>\n",
       "      <td>88</td>\n",
       "      <td>escort</td>\n",
       "      <td>150000</td>\n",
       "      <td>5</td>\n",
       "      <td>petrol</td>\n",
       "      <td>ford</td>\n",
       "      <td>no</td>\n",
       "      <td>2016-03-22 00:00:00</td>\n",
       "      <td>0</td>\n",
       "      <td>92271</td>\n",
       "      <td>2016-04-07 05:45:19</td>\n",
       "    </tr>\n",
       "    <tr>\n",
       "      <th>62480</th>\n",
       "      <td>2016-04-03 00:50:43</td>\n",
       "      <td>5000</td>\n",
       "      <td>sedan</td>\n",
       "      <td>2009</td>\n",
       "      <td>auto</td>\n",
       "      <td>88</td>\n",
       "      <td>other</td>\n",
       "      <td>100000</td>\n",
       "      <td>10</td>\n",
       "      <td>hybrid</td>\n",
       "      <td>honda</td>\n",
       "      <td>no</td>\n",
       "      <td>2016-04-02 00:00:00</td>\n",
       "      <td>0</td>\n",
       "      <td>45888</td>\n",
       "      <td>2016-04-03 07:42:54</td>\n",
       "    </tr>\n",
       "    <tr>\n",
       "      <th>95555</th>\n",
       "      <td>2016-03-27 14:37:21</td>\n",
       "      <td>850</td>\n",
       "      <td>sedan</td>\n",
       "      <td>1993</td>\n",
       "      <td>manual</td>\n",
       "      <td>60</td>\n",
       "      <td>golf</td>\n",
       "      <td>125000</td>\n",
       "      <td>4</td>\n",
       "      <td>petrol</td>\n",
       "      <td>volkswagen</td>\n",
       "      <td>no</td>\n",
       "      <td>2016-03-27 00:00:00</td>\n",
       "      <td>0</td>\n",
       "      <td>46354</td>\n",
       "      <td>2016-04-07 10:45:27</td>\n",
       "    </tr>\n",
       "    <tr>\n",
       "      <th>270046</th>\n",
       "      <td>2016-03-22 21:47:42</td>\n",
       "      <td>2500</td>\n",
       "      <td>wagon</td>\n",
       "      <td>2009</td>\n",
       "      <td>manual</td>\n",
       "      <td>75</td>\n",
       "      <td>logan</td>\n",
       "      <td>150000</td>\n",
       "      <td>4</td>\n",
       "      <td>petrol</td>\n",
       "      <td>dacia</td>\n",
       "      <td>no</td>\n",
       "      <td>2016-03-22 00:00:00</td>\n",
       "      <td>0</td>\n",
       "      <td>66538</td>\n",
       "      <td>2016-03-24 06:16:20</td>\n",
       "    </tr>\n",
       "    <tr>\n",
       "      <th>16647</th>\n",
       "      <td>2016-03-10 20:52:59</td>\n",
       "      <td>13500</td>\n",
       "      <td>small</td>\n",
       "      <td>2014</td>\n",
       "      <td>manual</td>\n",
       "      <td>82</td>\n",
       "      <td>fiesta</td>\n",
       "      <td>10000</td>\n",
       "      <td>12</td>\n",
       "      <td>petrol</td>\n",
       "      <td>ford</td>\n",
       "      <td>no</td>\n",
       "      <td>2016-03-10 00:00:00</td>\n",
       "      <td>0</td>\n",
       "      <td>89233</td>\n",
       "      <td>2016-04-06 09:16:56</td>\n",
       "    </tr>\n",
       "  </tbody>\n",
       "</table>\n",
       "</div>"
      ],
      "text/plain": [
       "                DateCrawled  Price  VehicleType  RegistrationYear Gearbox  \\\n",
       "353546  2016-03-22 23:37:38   3600  convertible              1995  manual   \n",
       "62480   2016-04-03 00:50:43   5000        sedan              2009    auto   \n",
       "95555   2016-03-27 14:37:21    850        sedan              1993  manual   \n",
       "270046  2016-03-22 21:47:42   2500        wagon              2009  manual   \n",
       "16647   2016-03-10 20:52:59  13500        small              2014  manual   \n",
       "\n",
       "        Power   Model  Kilometer  RegistrationMonth FuelType       Brand  \\\n",
       "353546     88  escort     150000                  5   petrol        ford   \n",
       "62480      88   other     100000                 10   hybrid       honda   \n",
       "95555      60    golf     125000                  4   petrol  volkswagen   \n",
       "270046     75   logan     150000                  4   petrol       dacia   \n",
       "16647      82  fiesta      10000                 12   petrol        ford   \n",
       "\n",
       "       Repaired          DateCreated  NumberOfPictures  PostalCode  \\\n",
       "353546       no  2016-03-22 00:00:00                 0       92271   \n",
       "62480        no  2016-04-02 00:00:00                 0       45888   \n",
       "95555        no  2016-03-27 00:00:00                 0       46354   \n",
       "270046       no  2016-03-22 00:00:00                 0       66538   \n",
       "16647        no  2016-03-10 00:00:00                 0       89233   \n",
       "\n",
       "                   LastSeen  \n",
       "353546  2016-04-07 05:45:19  \n",
       "62480   2016-04-03 07:42:54  \n",
       "95555   2016-04-07 10:45:27  \n",
       "270046  2016-03-24 06:16:20  \n",
       "16647   2016-04-06 09:16:56  "
      ]
     },
     "metadata": {},
     "output_type": "display_data"
    },
    {
     "name": "stdout",
     "output_type": "stream",
     "text": [
      "\n",
      "Количество строк и столбцов: (354369, 16)\n",
      "\n",
      "Количество явных дубликатов: 4\n",
      "\n"
     ]
    }
   ],
   "source": [
    "dataframe_summary(data, 'Автомобили (data)')"
   ]
  },
  {
   "cell_type": "code",
   "execution_count": null,
   "metadata": {},
   "outputs": [],
   "source": [
    "# удалим явные дубликаты\n",
    "data.drop_duplicates(inplace=True)"
   ]
  },
  {
   "cell_type": "code",
   "execution_count": 9,
   "metadata": {},
   "outputs": [
    {
     "name": "stdout",
     "output_type": "stream",
     "text": [
      "Пропуски в датафрейме data:\n",
      "             Total  Percent\n",
      "Repaired     71154    20.08\n",
      "VehicleType  37490    10.58\n",
      "FuelType     32895     9.28\n",
      "Gearbox      19833     5.60\n",
      "Model        19705     5.56\n",
      "\n"
     ]
    },
    {
     "data": {
      "image/png": "[encoded data removed]",
      "text/plain": [
       "<Figure size 864x576 with 1 Axes>"
      ]
     },
     "metadata": {
      "needs_background": "light"
     },
     "output_type": "display_data"
    }
   ],
   "source": [
    "analyze_missing_values(data, 'data')"
   ]
  },
  {
   "cell_type": "markdown",
   "metadata": {},
   "source": [
    "Избавимся от явных дубликатов, возможно, после обработки датасета и удаления ненужных переменных дубликатов станет больше."
   ]
  },
  {
   "cell_type": "markdown",
   "metadata": {},
   "source": [
    "## Обучение моделей"
   ]
  },
  {
   "cell_type": "code",
   "execution_count": null,
   "metadata": {},
   "outputs": [],
   "source": []
  },
  {
   "cell_type": "markdown",
   "metadata": {},
   "source": [
    "## Анализ моделей"
   ]
  },
  {
   "cell_type": "code",
   "execution_count": null,
   "metadata": {},
   "outputs": [],
   "source": []
  },
  {
   "cell_type": "markdown",
   "metadata": {},
   "source": [
    "## Чек-лист проверки"
   ]
  },
  {
   "cell_type": "markdown",
   "metadata": {},
   "source": [
    "Поставьте 'x' в выполненных пунктах. Далее нажмите Shift+Enter."
   ]
  },
  {
   "cell_type": "markdown",
   "metadata": {},
   "source": [
    "- [x]  Jupyter Notebook открыт\n",
    "- [ ]  Весь код выполняется без ошибок\n",
    "- [ ]  Ячейки с кодом расположены в порядке исполнения\n",
    "- [ ]  Выполнена загрузка и подготовка данных\n",
    "- [ ]  Выполнено обучение моделей\n",
    "- [ ]  Есть анализ скорости работы и качества моделей"
   ]
  },
  {
   "cell_type": "code",
   "execution_count": null,
   "metadata": {},
   "outputs": [],
   "source": []
  }
 ],
 "metadata": {
  "kernelspec": {
   "display_name": "Python 3 (ipykernel)",
   "language": "python",
   "name": "python3"
  },
  "language_info": {
   "codemirror_mode": {
    "name": "ipython",
    "version": 3
   },
   "file_extension": ".py",
   "mimetype": "text/x-python",
   "name": "python",
   "nbconvert_exporter": "python",
   "pygments_lexer": "ipython3",
   "version": "3.9.12"
  },
  "toc": {
   "base_numbering": 1,
   "nav_menu": {},
   "number_sections": true,
   "sideBar": true,
   "skip_h1_title": true,
   "title_cell": "Table of Contents",
   "title_sidebar": "Contents",
   "toc_cell": false,
   "toc_position": {},
   "toc_section_display": true,
   "toc_window_display": false
  }
 },
 "nbformat": 4,
 "nbformat_minor": 2
}
