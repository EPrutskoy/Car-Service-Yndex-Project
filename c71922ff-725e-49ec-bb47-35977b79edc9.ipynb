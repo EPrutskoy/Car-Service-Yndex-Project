{
 "cells": [
  {
   "cell_type": "markdown",
   "metadata": {},
   "source": [
    "# Определение стоимости автомобилей"
   ]
  },
  {
   "cell_type": "markdown",
   "metadata": {},
   "source": [
    "Сервис по продаже автомобилей с пробегом «Не бит, не крашен» разрабатывает приложение для привлечения новых клиентов. В нём можно быстро узнать рыночную стоимость своего автомобиля. В вашем распоряжении исторические данные: технические характеристики, комплектации и цены автомобилей. Вам нужно построить модель для определения стоимости. \n",
    "\n",
    "Заказчику важны:\n",
    "\n",
    "- качество предсказания;\n",
    "- скорость предсказания;\n",
    "- время обучения."
   ]
  },
  {
   "cell_type": "markdown",
   "metadata": {},
   "source": [
    "## Описание данных\n",
    "\n",
    "**Признаки**\n",
    "* `DateCrawled` — дата скачивания анкеты из базы\n",
    "* `VehicleType` — тип автомобильного кузова\n",
    "* `RegistrationYear` — год регистрации автомобиля\n",
    "* `Gearbox` — тип коробки передач\n",
    "* `Power` — мощность (л. с.)\n",
    "* `Model` — модель автомобиля\n",
    "* `Kilometer` — пробег (км)\n",
    "* `RegistrationMonth` — месяц регистрации автомобиля\n",
    "* `FuelType` — тип топлива\n",
    "* `Brand` — марка автомобиля\n",
    "* `Repaired` — была машина в ремонте или нет\n",
    "* `DateCreated` — дата создания анкеты\n",
    "* `NumberOfPictures` — количество фотографий автомобиля\n",
    "* `PostalCode` — почтовый индекс владельца анкеты (пользователя)\n",
    "* `LastSeen` — дата последней активности пользователя\n",
    "\n",
    "**Целевой признак**\n",
    "* Price — цена (евро)"
   ]
  },
  {
   "cell_type": "markdown",
   "metadata": {},
   "source": [
    "## Подготовка данных"
   ]
  },
  {
   "cell_type": "markdown",
   "metadata": {},
   "source": [
    "### Установка библиотек и настройка окружения"
   ]
  },
  {
   "cell_type": "code",
   "execution_count": 1,
   "metadata": {},
   "outputs": [
    {
     "name": "stderr",
     "output_type": "stream",
     "text": [
      "c:\\Users\\eprutskoy\\Anaconda3\\lib\\site-packages\\pandas\\core\\computation\\expressions.py:21: UserWarning: Pandas requires version '2.8.4' or newer of 'numexpr' (version '2.8.1' currently installed).\n",
      "  from pandas.core.computation.check import NUMEXPR_INSTALLED\n",
      "c:\\Users\\eprutskoy\\Anaconda3\\lib\\site-packages\\pandas\\core\\arrays\\masked.py:60: UserWarning: Pandas requires version '1.3.6' or newer of 'bottleneck' (version '1.3.4' currently installed).\n",
      "  from pandas.core import (\n"
     ]
    }
   ],
   "source": [
    "import pandas as pd \n",
    "import numpy as np\n",
    "import seaborn as sns \n",
    "import matplotlib.pyplot as plt\n",
    "import warnings\n",
    "import shap\n",
    "\n",
    "from IPython.display import display\n",
    "\n",
    "from sklearn.metrics import make_scorer, f1_score\n",
    "from sklearn.preprocessing import StandardScaler, OneHotEncoder, FunctionTransformer\n",
    "from sklearn.model_selection import RandomizedSearchCV, GridSearchCV, train_test_split, cross_val_score\n",
    "from sklearn.ensemble import RandomForestClassifier\n",
    "from sklearn.pipeline import Pipeline\n",
    "from sklearn.compose import ColumnTransformer\n",
    "from sklearn.impute import SimpleImputer\n",
    "from sklearn.tree import DecisionTreeClassifier\n",
    "\n",
    "from catboost import CatBoostClassifier\n",
    "\n",
    "import scipy\n",
    "import scipy.stats as stats\n",
    "from scipy.stats import poisson\n",
    "\n",
    "import phik\n",
    "from phik import resources, report\n",
    "\n",
    "warnings.filterwarnings('ignore')"
   ]
  },
  {
   "cell_type": "code",
   "execution_count": 2,
   "metadata": {},
   "outputs": [],
   "source": [
    "pd.set_option('display.min_rows', 20)\n",
    "pd.set_option('display.max_rows', 20)\n",
    "pd.options.display.float_format = '{:,.2f}'.format"
   ]
  },
  {
   "cell_type": "markdown",
   "metadata": {},
   "source": [
    "### Инициализация полезных функций"
   ]
  },
  {
   "cell_type": "code",
   "execution_count": 3,
   "metadata": {},
   "outputs": [],
   "source": [
    "def get_stratified_sample(data, stratify_column='column_for_stratification', sample_size=100000):\n",
    "    \"\"\"\n",
    "    Возвращает случайные sample_size строк из датафрейма data, сохраняя пропорциональное представление значений в stratify_column.\n",
    "    \n",
    "    Parameters:\n",
    "    data (pd.DataFrame): Исходный датафрейм.\n",
    "    stratify_column (str): Название колонки, по которой нужно стратифицировать выборку.\n",
    "    sample_size (int): Размер выборки.\n",
    "    \n",
    "    Returns:\n",
    "    pd.DataFrame: Датафрейм, содержащий случайную стратифицированную выборку указанного размера.\n",
    "    \"\"\"\n",
    "    # Разделение данных на \"обучающий\" набор (который будет отброшен) и \"тестовый\" набор, который является нужной выборкой\n",
    "    _, data_sample = train_test_split(data, test_size=sample_size, stratify=data[stratify_column], random_state=42)\n",
    "    \n",
    "    return data_sample"
   ]
  },
  {
   "cell_type": "code",
   "execution_count": 4,
   "metadata": {},
   "outputs": [],
   "source": [
    "class DatasetSizeTracker:\n",
    "    def __init__(self):\n",
    "        self.initial_size = None\n",
    "        self.previous_size = None\n",
    "\n",
    "    def track(self, data):\n",
    "        # Если исходный размер не был установлен, запоминаем его и текущий размер как первоначальный\n",
    "        if self.initial_size is None:\n",
    "            self.initial_size = len(data)\n",
    "            self.previous_size = len(data)\n",
    "            loss_from_initial = 0\n",
    "            loss_from_previous = 0\n",
    "            loss_percent_overoll = 0\n",
    "        else:\n",
    "            # Считаем, сколько строк потеряно относительно исходного размера и с прошлого вызова\n",
    "            current_size = len(data)\n",
    "            loss_from_initial = self.initial_size - current_size\n",
    "            loss_from_previous = self.previous_size - current_size\n",
    "            loss_percent_overoll = ((self.initial_size - current_size)/self.initial_size)*100\n",
    "            # Обновляем предыдущий размер для следующего вызова\n",
    "            self.previous_size = current_size\n",
    "        \n",
    "        return {\"Потери от исходного размера\": loss_from_initial, \"Потери с предыдущего раза\": loss_from_previous,\n",
    "                'Общие потери в процентах' : loss_percent_overoll}\n",
    "\n",
    "# Создание экземпляра класса для трекинга размера датасета\n",
    "tracker = DatasetSizeTracker()"
   ]
  },
  {
   "cell_type": "code",
   "execution_count": 5,
   "metadata": {},
   "outputs": [],
   "source": [
    "# функция информации по таблице\n",
    "def dataframe_summary(df, string):\n",
    "    # Вывод общей информации\n",
    "    print(\"Общая информация по таблице:\", string)\n",
    "    df.info()\n",
    "\n",
    "    # Вывод статистического описания\n",
    "    print(\"\\n Статистическое описание:\")\n",
    "    display(df.describe().transpose())\n",
    "\n",
    "    # Вывод случайных примеров\n",
    "    print(\"\\nСлучайные примеры:\")\n",
    "    display(df.sample(5))\n",
    "\n",
    "    # Вывод количества строк и столбцов\n",
    "    print(\"\\nКоличество строк и столбцов:\", df.shape)\n",
    "    \n",
    "    # Вывод количества явных дубликатов\n",
    "    print(\"\\nКоличество явных дубликатов:\", df.duplicated().sum())\n",
    "    print('')"
   ]
  },
  {
   "cell_type": "code",
   "execution_count": 6,
   "metadata": {},
   "outputs": [],
   "source": [
    "# функция поиска пропусков\n",
    "def analyze_missing_values(df, string):\n",
    "        total = df.isnull().sum().sort_values(ascending=False)\n",
    "        percent = (df.isnull().sum()/df.isnull().count()*100).sort_values(ascending=False)\n",
    "        missing_data = pd.concat([total, percent], axis=1, keys=['Total', 'Percent'])\n",
    "        missing_data = missing_data.query('Total > 0')\n",
    "\n",
    "        # Вывод информации о пропусках\n",
    "        print(f\"Пропуски в датафрейме {string}:\\n{missing_data}\\n\")\n",
    "\n",
    "        # Создание и отображение тепловой карты\n",
    "        plt.figure(figsize=(12, 8))\n",
    "        sns.heatmap(df.isnull(), cbar=False, yticklabels=False)\n",
    "        plt.title(f\"Heatmap пропусков для {string}\")\n",
    "        plt.show()"
   ]
  },
  {
   "cell_type": "code",
   "execution_count": 7,
   "metadata": {},
   "outputs": [],
   "source": [
    "# Функция для преобразования названий в змеиный регистр (snake_case) \n",
    "def to_snake_case(name): \n",
    "    s1 = name[0].lower() \n",
    "    for c in name[1:]: \n",
    "        if c.isupper(): \n",
    "            s1 += '_' \n",
    "            s1 += c.lower() \n",
    "        else: \n",
    "            s1 += c \n",
    "    return s1 \n",
    " "
   ]
  },
  {
   "cell_type": "code",
   "execution_count": 8,
   "metadata": {},
   "outputs": [],
   "source": [
    "def fill_missing_values_by_brand_and_model(data, column_name):\n",
    "    \"\"\"\n",
    "    Заполняет пропуски в указанной колонке на основе самого частого значения,\n",
    "    характерного для сгруппированных данных по 'brand' и 'model'.\n",
    "    \n",
    "    Parameters:\n",
    "    data (pd.DataFrame): Исходный датафрейм.\n",
    "    column_name (str): Название колонки, в которой нужно заполнить пропуски.\n",
    "    \n",
    "    Returns:\n",
    "    pd.DataFrame: Датафрейм с заполненными пропусками в указанной колонке.\n",
    "    \"\"\"\n",
    "    # Считаем самое частое значение для каждой группы 'brand' и 'model'\n",
    "    most_frequent_values = data.groupby(['brand', 'model'])[column_name].apply(lambda x: x.mode().iloc[0] if not x.mode().empty else None)\n",
    "    \n",
    "    # Функция для заполнения пропуска\n",
    "    def fill_value(row):\n",
    "        if pd.isnull(row[column_name]):\n",
    "            return most_frequent_values.get((row['brand'], row['model']), row[column_name])\n",
    "        else:\n",
    "            return row[column_name]\n",
    "    \n",
    "    # Заполнение пропусков\n",
    "    data[column_name] = data.apply(fill_value, axis=1)\n",
    "    \n",
    "    return data"
   ]
  },
  {
   "cell_type": "markdown",
   "metadata": {},
   "source": [
    "### Обзор данных, работа с дубликатами, пропусками и выбросами"
   ]
  },
  {
   "cell_type": "markdown",
   "metadata": {},
   "source": [
    "План работы:\n",
    "1) Анализ описательной статитстики по данным;\n",
    "2) Очистка явных дубликатов;\n",
    "3) Обработка пропусков;\n",
    "4) Обработка выбросов;\n",
    "5) Анализ визуальной статистики."
   ]
  },
  {
   "cell_type": "markdown",
   "metadata": {},
   "source": [
    "#### Обзор данных"
   ]
  },
  {
   "cell_type": "code",
   "execution_count": 9,
   "metadata": {},
   "outputs": [],
   "source": [
    "data = pd.read_csv('autos.csv')\n",
    "\n",
    "# Создадим отдельный датасет, который мы оставим в исходном состоянии. \n",
    "# Все необходимые преобразования\n",
    "# data_model = data.copy()"
   ]
  },
  {
   "cell_type": "code",
   "execution_count": 10,
   "metadata": {},
   "outputs": [],
   "source": [
    "# Для использования функции, укажите DataFrame, колонку для стратификации и желаемый размер выборки:\n",
    "data = get_stratified_sample(data, 'Brand', 150000)"
   ]
  },
  {
   "cell_type": "code",
   "execution_count": 11,
   "metadata": {},
   "outputs": [
    {
     "name": "stdout",
     "output_type": "stream",
     "text": [
      "Общая информация по таблице: Автомобили (data)\n",
      "<class 'pandas.core.frame.DataFrame'>\n",
      "Index: 150000 entries, 160315 to 305182\n",
      "Data columns (total 16 columns):\n",
      " #   Column             Non-Null Count   Dtype \n",
      "---  ------             --------------   ----- \n",
      " 0   DateCrawled        150000 non-null  object\n",
      " 1   Price              150000 non-null  int64 \n",
      " 2   VehicleType        134018 non-null  object\n",
      " 3   RegistrationYear   150000 non-null  int64 \n",
      " 4   Gearbox            141624 non-null  object\n",
      " 5   Power              150000 non-null  int64 \n",
      " 6   Model              141599 non-null  object\n",
      " 7   Kilometer          150000 non-null  int64 \n",
      " 8   RegistrationMonth  150000 non-null  int64 \n",
      " 9   FuelType           135984 non-null  object\n",
      " 10  Brand              150000 non-null  object\n",
      " 11  Repaired           119923 non-null  object\n",
      " 12  DateCreated        150000 non-null  object\n",
      " 13  NumberOfPictures   150000 non-null  int64 \n",
      " 14  PostalCode         150000 non-null  int64 \n",
      " 15  LastSeen           150000 non-null  object\n",
      "dtypes: int64(7), object(9)\n",
      "memory usage: 19.5+ MB\n",
      "\n",
      " Статистическое описание:\n"
     ]
    },
    {
     "data": {
      "text/html": [
       "<div>\n",
       "<style scoped>\n",
       "    .dataframe tbody tr th:only-of-type {\n",
       "        vertical-align: middle;\n",
       "    }\n",
       "\n",
       "    .dataframe tbody tr th {\n",
       "        vertical-align: top;\n",
       "    }\n",
       "\n",
       "    .dataframe thead th {\n",
       "        text-align: right;\n",
       "    }\n",
       "</style>\n",
       "<table border=\"1\" class=\"dataframe\">\n",
       "  <thead>\n",
       "    <tr style=\"text-align: right;\">\n",
       "      <th></th>\n",
       "      <th>count</th>\n",
       "      <th>mean</th>\n",
       "      <th>std</th>\n",
       "      <th>min</th>\n",
       "      <th>25%</th>\n",
       "      <th>50%</th>\n",
       "      <th>75%</th>\n",
       "      <th>max</th>\n",
       "    </tr>\n",
       "  </thead>\n",
       "  <tbody>\n",
       "    <tr>\n",
       "      <th>Price</th>\n",
       "      <td>150,000.00</td>\n",
       "      <td>4,403.21</td>\n",
       "      <td>4,497.12</td>\n",
       "      <td>0.00</td>\n",
       "      <td>1,050.00</td>\n",
       "      <td>2,700.00</td>\n",
       "      <td>6,390.00</td>\n",
       "      <td>20,000.00</td>\n",
       "    </tr>\n",
       "    <tr>\n",
       "      <th>RegistrationYear</th>\n",
       "      <td>150,000.00</td>\n",
       "      <td>2,003.86</td>\n",
       "      <td>74.56</td>\n",
       "      <td>1,000.00</td>\n",
       "      <td>1,999.00</td>\n",
       "      <td>2,003.00</td>\n",
       "      <td>2,008.00</td>\n",
       "      <td>9,999.00</td>\n",
       "    </tr>\n",
       "    <tr>\n",
       "      <th>Power</th>\n",
       "      <td>150,000.00</td>\n",
       "      <td>110.28</td>\n",
       "      <td>196.23</td>\n",
       "      <td>0.00</td>\n",
       "      <td>69.00</td>\n",
       "      <td>105.00</td>\n",
       "      <td>141.00</td>\n",
       "      <td>20,000.00</td>\n",
       "    </tr>\n",
       "    <tr>\n",
       "      <th>Kilometer</th>\n",
       "      <td>150,000.00</td>\n",
       "      <td>128,305.50</td>\n",
       "      <td>37,843.45</td>\n",
       "      <td>5,000.00</td>\n",
       "      <td>125,000.00</td>\n",
       "      <td>150,000.00</td>\n",
       "      <td>150,000.00</td>\n",
       "      <td>150,000.00</td>\n",
       "    </tr>\n",
       "    <tr>\n",
       "      <th>RegistrationMonth</th>\n",
       "      <td>150,000.00</td>\n",
       "      <td>5.71</td>\n",
       "      <td>3.72</td>\n",
       "      <td>0.00</td>\n",
       "      <td>3.00</td>\n",
       "      <td>6.00</td>\n",
       "      <td>9.00</td>\n",
       "      <td>12.00</td>\n",
       "    </tr>\n",
       "    <tr>\n",
       "      <th>NumberOfPictures</th>\n",
       "      <td>150,000.00</td>\n",
       "      <td>0.00</td>\n",
       "      <td>0.00</td>\n",
       "      <td>0.00</td>\n",
       "      <td>0.00</td>\n",
       "      <td>0.00</td>\n",
       "      <td>0.00</td>\n",
       "      <td>0.00</td>\n",
       "    </tr>\n",
       "    <tr>\n",
       "      <th>PostalCode</th>\n",
       "      <td>150,000.00</td>\n",
       "      <td>50,463.42</td>\n",
       "      <td>25,799.89</td>\n",
       "      <td>1,067.00</td>\n",
       "      <td>30,161.00</td>\n",
       "      <td>49,377.00</td>\n",
       "      <td>71,065.00</td>\n",
       "      <td>99,998.00</td>\n",
       "    </tr>\n",
       "  </tbody>\n",
       "</table>\n",
       "</div>"
      ],
      "text/plain": [
       "                       count       mean       std      min        25%  \\\n",
       "Price             150,000.00   4,403.21  4,497.12     0.00   1,050.00   \n",
       "RegistrationYear  150,000.00   2,003.86     74.56 1,000.00   1,999.00   \n",
       "Power             150,000.00     110.28    196.23     0.00      69.00   \n",
       "Kilometer         150,000.00 128,305.50 37,843.45 5,000.00 125,000.00   \n",
       "RegistrationMonth 150,000.00       5.71      3.72     0.00       3.00   \n",
       "NumberOfPictures  150,000.00       0.00      0.00     0.00       0.00   \n",
       "PostalCode        150,000.00  50,463.42 25,799.89 1,067.00  30,161.00   \n",
       "\n",
       "                         50%        75%        max  \n",
       "Price               2,700.00   6,390.00  20,000.00  \n",
       "RegistrationYear    2,003.00   2,008.00   9,999.00  \n",
       "Power                 105.00     141.00  20,000.00  \n",
       "Kilometer         150,000.00 150,000.00 150,000.00  \n",
       "RegistrationMonth       6.00       9.00      12.00  \n",
       "NumberOfPictures        0.00       0.00       0.00  \n",
       "PostalCode         49,377.00  71,065.00  99,998.00  "
      ]
     },
     "metadata": {},
     "output_type": "display_data"
    },
    {
     "name": "stdout",
     "output_type": "stream",
     "text": [
      "\n",
      "Случайные примеры:\n"
     ]
    },
    {
     "data": {
      "text/html": [
       "<div>\n",
       "<style scoped>\n",
       "    .dataframe tbody tr th:only-of-type {\n",
       "        vertical-align: middle;\n",
       "    }\n",
       "\n",
       "    .dataframe tbody tr th {\n",
       "        vertical-align: top;\n",
       "    }\n",
       "\n",
       "    .dataframe thead th {\n",
       "        text-align: right;\n",
       "    }\n",
       "</style>\n",
       "<table border=\"1\" class=\"dataframe\">\n",
       "  <thead>\n",
       "    <tr style=\"text-align: right;\">\n",
       "      <th></th>\n",
       "      <th>DateCrawled</th>\n",
       "      <th>Price</th>\n",
       "      <th>VehicleType</th>\n",
       "      <th>RegistrationYear</th>\n",
       "      <th>Gearbox</th>\n",
       "      <th>Power</th>\n",
       "      <th>Model</th>\n",
       "      <th>Kilometer</th>\n",
       "      <th>RegistrationMonth</th>\n",
       "      <th>FuelType</th>\n",
       "      <th>Brand</th>\n",
       "      <th>Repaired</th>\n",
       "      <th>DateCreated</th>\n",
       "      <th>NumberOfPictures</th>\n",
       "      <th>PostalCode</th>\n",
       "      <th>LastSeen</th>\n",
       "    </tr>\n",
       "  </thead>\n",
       "  <tbody>\n",
       "    <tr>\n",
       "      <th>137101</th>\n",
       "      <td>2016-03-29 21:39:15</td>\n",
       "      <td>10890</td>\n",
       "      <td>wagon</td>\n",
       "      <td>2007</td>\n",
       "      <td>auto</td>\n",
       "      <td>272</td>\n",
       "      <td>e_klasse</td>\n",
       "      <td>150000</td>\n",
       "      <td>7</td>\n",
       "      <td>petrol</td>\n",
       "      <td>mercedes_benz</td>\n",
       "      <td>NaN</td>\n",
       "      <td>2016-03-29 00:00:00</td>\n",
       "      <td>0</td>\n",
       "      <td>82362</td>\n",
       "      <td>2016-04-06 07:46:22</td>\n",
       "    </tr>\n",
       "    <tr>\n",
       "      <th>47878</th>\n",
       "      <td>2016-04-01 13:50:14</td>\n",
       "      <td>999</td>\n",
       "      <td>small</td>\n",
       "      <td>2002</td>\n",
       "      <td>manual</td>\n",
       "      <td>75</td>\n",
       "      <td>clio</td>\n",
       "      <td>150000</td>\n",
       "      <td>5</td>\n",
       "      <td>petrol</td>\n",
       "      <td>renault</td>\n",
       "      <td>no</td>\n",
       "      <td>2016-04-01 00:00:00</td>\n",
       "      <td>0</td>\n",
       "      <td>73730</td>\n",
       "      <td>2016-04-01 13:50:14</td>\n",
       "    </tr>\n",
       "    <tr>\n",
       "      <th>205690</th>\n",
       "      <td>2016-03-26 12:51:53</td>\n",
       "      <td>8500</td>\n",
       "      <td>bus</td>\n",
       "      <td>2009</td>\n",
       "      <td>manual</td>\n",
       "      <td>110</td>\n",
       "      <td>berlingo</td>\n",
       "      <td>150000</td>\n",
       "      <td>12</td>\n",
       "      <td>gasoline</td>\n",
       "      <td>citroen</td>\n",
       "      <td>no</td>\n",
       "      <td>2016-03-26 00:00:00</td>\n",
       "      <td>0</td>\n",
       "      <td>39108</td>\n",
       "      <td>2016-03-31 07:46:09</td>\n",
       "    </tr>\n",
       "    <tr>\n",
       "      <th>21875</th>\n",
       "      <td>2016-03-24 20:58:22</td>\n",
       "      <td>1350</td>\n",
       "      <td>sedan</td>\n",
       "      <td>1998</td>\n",
       "      <td>manual</td>\n",
       "      <td>101</td>\n",
       "      <td>passat</td>\n",
       "      <td>150000</td>\n",
       "      <td>9</td>\n",
       "      <td>petrol</td>\n",
       "      <td>volkswagen</td>\n",
       "      <td>no</td>\n",
       "      <td>2016-03-24 00:00:00</td>\n",
       "      <td>0</td>\n",
       "      <td>38530</td>\n",
       "      <td>2016-03-26 06:47:23</td>\n",
       "    </tr>\n",
       "    <tr>\n",
       "      <th>77387</th>\n",
       "      <td>2016-03-10 00:48:54</td>\n",
       "      <td>1950</td>\n",
       "      <td>other</td>\n",
       "      <td>1984</td>\n",
       "      <td>manual</td>\n",
       "      <td>34</td>\n",
       "      <td>kaefer</td>\n",
       "      <td>150000</td>\n",
       "      <td>12</td>\n",
       "      <td>petrol</td>\n",
       "      <td>volkswagen</td>\n",
       "      <td>no</td>\n",
       "      <td>2016-03-09 00:00:00</td>\n",
       "      <td>0</td>\n",
       "      <td>27476</td>\n",
       "      <td>2016-03-10 16:49:31</td>\n",
       "    </tr>\n",
       "  </tbody>\n",
       "</table>\n",
       "</div>"
      ],
      "text/plain": [
       "                DateCrawled  Price VehicleType  RegistrationYear Gearbox  \\\n",
       "137101  2016-03-29 21:39:15  10890       wagon              2007    auto   \n",
       "47878   2016-04-01 13:50:14    999       small              2002  manual   \n",
       "205690  2016-03-26 12:51:53   8500         bus              2009  manual   \n",
       "21875   2016-03-24 20:58:22   1350       sedan              1998  manual   \n",
       "77387   2016-03-10 00:48:54   1950       other              1984  manual   \n",
       "\n",
       "        Power     Model  Kilometer  RegistrationMonth  FuelType  \\\n",
       "137101    272  e_klasse     150000                  7    petrol   \n",
       "47878      75      clio     150000                  5    petrol   \n",
       "205690    110  berlingo     150000                 12  gasoline   \n",
       "21875     101    passat     150000                  9    petrol   \n",
       "77387      34    kaefer     150000                 12    petrol   \n",
       "\n",
       "                Brand Repaired          DateCreated  NumberOfPictures  \\\n",
       "137101  mercedes_benz      NaN  2016-03-29 00:00:00                 0   \n",
       "47878         renault       no  2016-04-01 00:00:00                 0   \n",
       "205690        citroen       no  2016-03-26 00:00:00                 0   \n",
       "21875      volkswagen       no  2016-03-24 00:00:00                 0   \n",
       "77387      volkswagen       no  2016-03-09 00:00:00                 0   \n",
       "\n",
       "        PostalCode             LastSeen  \n",
       "137101       82362  2016-04-06 07:46:22  \n",
       "47878        73730  2016-04-01 13:50:14  \n",
       "205690       39108  2016-03-31 07:46:09  \n",
       "21875        38530  2016-03-26 06:47:23  \n",
       "77387        27476  2016-03-10 16:49:31  "
      ]
     },
     "metadata": {},
     "output_type": "display_data"
    },
    {
     "name": "stdout",
     "output_type": "stream",
     "text": [
      "\n",
      "Количество строк и столбцов: (150000, 16)\n",
      "\n",
      "Количество явных дубликатов: 2\n",
      "\n"
     ]
    }
   ],
   "source": [
    "dataframe_summary(data, 'Автомобили (data)')"
   ]
  },
  {
   "cell_type": "code",
   "execution_count": 12,
   "metadata": {},
   "outputs": [
    {
     "data": {
      "text/plain": [
       "{'Потери от исходного размера': 0,\n",
       " 'Потери с предыдущего раза': 0,\n",
       " 'Общие потери в процентах': 0}"
      ]
     },
     "execution_count": 12,
     "metadata": {},
     "output_type": "execute_result"
    }
   ],
   "source": [
    "tracker = DatasetSizeTracker()\n",
    "\n",
    "tracker.track(data)  # Посмотреть, сколько строк потеряно с исходного момента и с последнего вызова"
   ]
  },
  {
   "cell_type": "markdown",
   "metadata": {},
   "source": [
    "Изменим названия переменных, избавимся от дубликатов"
   ]
  },
  {
   "cell_type": "code",
   "execution_count": 13,
   "metadata": {},
   "outputs": [
    {
     "data": {
      "text/plain": [
       "Index(['date_crawled', 'price', 'vehicle_type', 'registration_year', 'gearbox',\n",
       "       'power', 'model', 'kilometer', 'registration_month', 'fuel_type',\n",
       "       'brand', 'repaired', 'date_created', 'number_of_pictures',\n",
       "       'postal_code', 'last_seen'],\n",
       "      dtype='object')"
      ]
     },
     "execution_count": 13,
     "metadata": {},
     "output_type": "execute_result"
    }
   ],
   "source": [
    "data.columns = [to_snake_case(name) for name in data.columns] \n",
    "data.columns"
   ]
  },
  {
   "cell_type": "code",
   "execution_count": 14,
   "metadata": {},
   "outputs": [],
   "source": [
    "# удалим явные дубликаты\n",
    "data.drop_duplicates(inplace=True)"
   ]
  },
  {
   "cell_type": "markdown",
   "metadata": {},
   "source": [
    "В данных есть объявления с ценой равной 0. Тк это целевой признак - менять нельзя, но лучше удалить строки с такой ценой."
   ]
  },
  {
   "cell_type": "code",
   "execution_count": 15,
   "metadata": {},
   "outputs": [
    {
     "name": "stdout",
     "output_type": "stream",
     "text": [
      "Сколько людей готовы \"подарить\" автомобиль: 4495\n",
      "Сколько людей готовы \"подарить\" автомобиль теперь: 0\n"
     ]
    }
   ],
   "source": [
    "print('Сколько людей готовы \"подарить\" автомобиль:',len(data.loc[data['price'] == 0]))\n",
    "data = data.loc[data['price'] != 0]\n",
    "print('Сколько людей готовы \"подарить\" автомобиль теперь:',len(data.loc[data['price'] == 0]))"
   ]
  },
  {
   "cell_type": "code",
   "execution_count": 16,
   "metadata": {},
   "outputs": [
    {
     "data": {
      "text/plain": [
       "{'Потери от исходного размера': 4497,\n",
       " 'Потери с предыдущего раза': 4497,\n",
       " 'Общие потери в процентах': 2.9979999999999998}"
      ]
     },
     "execution_count": 16,
     "metadata": {},
     "output_type": "execute_result"
    }
   ],
   "source": [
    "tracker.track(data) "
   ]
  },
  {
   "cell_type": "code",
   "execution_count": 17,
   "metadata": {},
   "outputs": [
    {
     "name": "stdout",
     "output_type": "stream",
     "text": [
      "Пропуски в датафрейме data:\n",
      "              Total  Percent\n",
      "repaired      27876    19.16\n",
      "vehicle_type  14437     9.92\n",
      "fuel_type     12622     8.67\n",
      "model          7501     5.16\n",
      "gearbox        7378     5.07\n",
      "\n"
     ]
    },
    {
     "data": {
      "image/png": "[encoded data removed]",
      "text/plain": [
       "<Figure size 864x576 with 1 Axes>"
      ]
     },
     "metadata": {
      "needs_background": "light"
     },
     "output_type": "display_data"
    }
   ],
   "source": [
    "analyze_missing_values(data, 'data')"
   ]
  },
  {
   "cell_type": "markdown",
   "metadata": {},
   "source": [
    "Избавимся от явных дубликатов, возможно, после обработки датасета и удаления ненужных переменных дубликатов станет больше."
   ]
  },
  {
   "cell_type": "code",
   "execution_count": 18,
   "metadata": {},
   "outputs": [],
   "source": [
    "data = data.drop(['date_crawled', 'registration_month', 'date_created', \n",
    "                  'number_of_pictures', 'postal_code', 'last_seen'], axis =1) "
   ]
  },
  {
   "cell_type": "code",
   "execution_count": 19,
   "metadata": {},
   "outputs": [
    {
     "data": {
      "text/plain": [
       "Index(['price', 'vehicle_type', 'registration_year', 'gearbox', 'power',\n",
       "       'model', 'kilometer', 'fuel_type', 'brand', 'repaired'],\n",
       "      dtype='object')"
      ]
     },
     "execution_count": 19,
     "metadata": {},
     "output_type": "execute_result"
    }
   ],
   "source": [
    "data.columns"
   ]
  },
  {
   "cell_type": "code",
   "execution_count": 20,
   "metadata": {},
   "outputs": [
    {
     "data": {
      "text/html": [
       "<div>\n",
       "<style scoped>\n",
       "    .dataframe tbody tr th:only-of-type {\n",
       "        vertical-align: middle;\n",
       "    }\n",
       "\n",
       "    .dataframe tbody tr th {\n",
       "        vertical-align: top;\n",
       "    }\n",
       "\n",
       "    .dataframe thead th {\n",
       "        text-align: right;\n",
       "    }\n",
       "</style>\n",
       "<table border=\"1\" class=\"dataframe\">\n",
       "  <thead>\n",
       "    <tr style=\"text-align: right;\">\n",
       "      <th></th>\n",
       "      <th>brand</th>\n",
       "      <th>model</th>\n",
       "      <th>vehicle_type</th>\n",
       "      <th>fuel_type</th>\n",
       "      <th>gearbox</th>\n",
       "      <th>power</th>\n",
       "      <th>repaired</th>\n",
       "      <th>price</th>\n",
       "    </tr>\n",
       "  </thead>\n",
       "  <tbody>\n",
       "    <tr>\n",
       "      <th>283640</th>\n",
       "      <td>renault</td>\n",
       "      <td>twingo</td>\n",
       "      <td>small</td>\n",
       "      <td>petrol</td>\n",
       "      <td>manual</td>\n",
       "      <td>58</td>\n",
       "      <td>no</td>\n",
       "      <td>275</td>\n",
       "    </tr>\n",
       "    <tr>\n",
       "      <th>279572</th>\n",
       "      <td>bmw</td>\n",
       "      <td>3er</td>\n",
       "      <td>sedan</td>\n",
       "      <td>petrol</td>\n",
       "      <td>manual</td>\n",
       "      <td>143</td>\n",
       "      <td>no</td>\n",
       "      <td>2500</td>\n",
       "    </tr>\n",
       "    <tr>\n",
       "      <th>152159</th>\n",
       "      <td>opel</td>\n",
       "      <td>astra</td>\n",
       "      <td>sedan</td>\n",
       "      <td>petrol</td>\n",
       "      <td>manual</td>\n",
       "      <td>75</td>\n",
       "      <td>no</td>\n",
       "      <td>2200</td>\n",
       "    </tr>\n",
       "    <tr>\n",
       "      <th>194042</th>\n",
       "      <td>volkswagen</td>\n",
       "      <td>passat</td>\n",
       "      <td>wagon</td>\n",
       "      <td>gasoline</td>\n",
       "      <td>manual</td>\n",
       "      <td>150</td>\n",
       "      <td>no</td>\n",
       "      <td>2250</td>\n",
       "    </tr>\n",
       "    <tr>\n",
       "      <th>249380</th>\n",
       "      <td>bmw</td>\n",
       "      <td>3er</td>\n",
       "      <td>small</td>\n",
       "      <td>petrol</td>\n",
       "      <td>manual</td>\n",
       "      <td>118</td>\n",
       "      <td>no</td>\n",
       "      <td>2350</td>\n",
       "    </tr>\n",
       "    <tr>\n",
       "      <th>40192</th>\n",
       "      <td>citroen</td>\n",
       "      <td>other</td>\n",
       "      <td>sedan</td>\n",
       "      <td>petrol</td>\n",
       "      <td>manual</td>\n",
       "      <td>75</td>\n",
       "      <td>NaN</td>\n",
       "      <td>300</td>\n",
       "    </tr>\n",
       "    <tr>\n",
       "      <th>219414</th>\n",
       "      <td>volkswagen</td>\n",
       "      <td>golf</td>\n",
       "      <td>NaN</td>\n",
       "      <td>gasoline</td>\n",
       "      <td>manual</td>\n",
       "      <td>116</td>\n",
       "      <td>yes</td>\n",
       "      <td>1299</td>\n",
       "    </tr>\n",
       "    <tr>\n",
       "      <th>318990</th>\n",
       "      <td>volvo</td>\n",
       "      <td>other</td>\n",
       "      <td>sedan</td>\n",
       "      <td>petrol</td>\n",
       "      <td>manual</td>\n",
       "      <td>75</td>\n",
       "      <td>no</td>\n",
       "      <td>9500</td>\n",
       "    </tr>\n",
       "    <tr>\n",
       "      <th>209674</th>\n",
       "      <td>bmw</td>\n",
       "      <td>3er</td>\n",
       "      <td>sedan</td>\n",
       "      <td>NaN</td>\n",
       "      <td>manual</td>\n",
       "      <td>150</td>\n",
       "      <td>NaN</td>\n",
       "      <td>1700</td>\n",
       "    </tr>\n",
       "    <tr>\n",
       "      <th>215302</th>\n",
       "      <td>fiat</td>\n",
       "      <td>500</td>\n",
       "      <td>sedan</td>\n",
       "      <td>petrol</td>\n",
       "      <td>manual</td>\n",
       "      <td>99</td>\n",
       "      <td>no</td>\n",
       "      <td>5500</td>\n",
       "    </tr>\n",
       "  </tbody>\n",
       "</table>\n",
       "</div>"
      ],
      "text/plain": [
       "             brand   model vehicle_type fuel_type gearbox  power repaired  \\\n",
       "283640     renault  twingo        small    petrol  manual     58       no   \n",
       "279572         bmw     3er        sedan    petrol  manual    143       no   \n",
       "152159        opel   astra        sedan    petrol  manual     75       no   \n",
       "194042  volkswagen  passat        wagon  gasoline  manual    150       no   \n",
       "249380         bmw     3er        small    petrol  manual    118       no   \n",
       "40192      citroen   other        sedan    petrol  manual     75      NaN   \n",
       "219414  volkswagen    golf          NaN  gasoline  manual    116      yes   \n",
       "318990       volvo   other        sedan    petrol  manual     75       no   \n",
       "209674         bmw     3er        sedan       NaN  manual    150      NaN   \n",
       "215302        fiat     500        sedan    petrol  manual     99       no   \n",
       "\n",
       "        price  \n",
       "283640    275  \n",
       "279572   2500  \n",
       "152159   2200  \n",
       "194042   2250  \n",
       "249380   2350  \n",
       "40192     300  \n",
       "219414   1299  \n",
       "318990   9500  \n",
       "209674   1700  \n",
       "215302   5500  "
      ]
     },
     "metadata": {},
     "output_type": "display_data"
    }
   ],
   "source": [
    "display(data[['brand', 'model','vehicle_type', 'fuel_type', 'gearbox', 'power' ,'repaired','price']].sample(10))"
   ]
  },
  {
   "cell_type": "markdown",
   "metadata": {},
   "source": [
    "#### Работа с пропусками"
   ]
  },
  {
   "cell_type": "markdown",
   "metadata": {},
   "source": [
    "##### Пропуски в `model`"
   ]
  },
  {
   "cell_type": "markdown",
   "metadata": {},
   "source": [
    "Пропуски в `model`, на мой взгляд, критичны. Фактор модели может играть значительную роль в определении цены машины. Восполнить пропуски здесь никак, заглушка тоже может в данном случае не подойти или нарушить связи. "
   ]
  },
  {
   "cell_type": "code",
   "execution_count": 21,
   "metadata": {},
   "outputs": [
    {
     "data": {
      "text/plain": [
       "{'Потери от исходного размера': 11998,\n",
       " 'Потери с предыдущего раза': 7501,\n",
       " 'Общие потери в процентах': 7.998666666666667}"
      ]
     },
     "execution_count": 21,
     "metadata": {},
     "output_type": "execute_result"
    }
   ],
   "source": [
    "data = data.loc[~data['model'].isna()]\n",
    "tracker.track(data) "
   ]
  },
  {
   "cell_type": "markdown",
   "metadata": {},
   "source": [
    "##### Пропуски в `repaired`"
   ]
  },
  {
   "cell_type": "markdown",
   "metadata": {},
   "source": [
    "Пропусков в repaired довольно много, порядка 20% от изначального размера данных.\\\n",
    "Фактор довольно важный, при написании объявления обязательно указывать, если машина ремонтировалась. Возможно, значения в этом столбце пропущены, если машина не чинилась и продавцы оставляли незаполненным этот пропуск. \\\n",
    "Если качество модели будет неудовлетворительным, можно попробовать применить заглушку.\n"
   ]
  },
  {
   "cell_type": "code",
   "execution_count": 22,
   "metadata": {},
   "outputs": [
    {
     "data": {
      "text/plain": [
       "repaired\n",
       "no     99857\n",
       "yes    13523\n",
       "Name: count, dtype: int64"
      ]
     },
     "execution_count": 22,
     "metadata": {},
     "output_type": "execute_result"
    }
   ],
   "source": [
    "data.repaired.value_counts()"
   ]
  },
  {
   "cell_type": "code",
   "execution_count": 23,
   "metadata": {},
   "outputs": [],
   "source": [
    "data.repaired.fillna('no', inplace=True)"
   ]
  },
  {
   "cell_type": "code",
   "execution_count": 24,
   "metadata": {},
   "outputs": [
    {
     "name": "stdout",
     "output_type": "stream",
     "text": [
      "Пропуски в датафрейме data:\n",
      "              Total  Percent\n",
      "vehicle_type  12065     8.74\n",
      "fuel_type     10076     7.30\n",
      "gearbox        6029     4.37\n",
      "\n"
     ]
    },
    {
     "data": {
      "image/png": "[encoded data removed]",
      "text/plain": [
       "<Figure size 864x576 with 1 Axes>"
      ]
     },
     "metadata": {
      "needs_background": "light"
     },
     "output_type": "display_data"
    }
   ],
   "source": [
    "analyze_missing_values(data, 'data')"
   ]
  },
  {
   "cell_type": "markdown",
   "metadata": {},
   "source": [
    "Остались пропуски в `vehicle_type`,  `fuel_type` и `gearbox` - их заполним на основе данных из `model` и `brand`. "
   ]
  },
  {
   "cell_type": "code",
   "execution_count": 25,
   "metadata": {},
   "outputs": [
    {
     "name": "stdout",
     "output_type": "stream",
     "text": [
      "vehicle_type\n",
      "sedan          36542\n",
      "small          31559\n",
      "wagon          26143\n",
      "bus            11652\n",
      "convertible     8013\n",
      "coupe           6285\n",
      "suv             4627\n",
      "other           1116\n",
      "Name: count, dtype: int64\n",
      "fuel_type\n",
      "petrol      85495\n",
      "gasoline    39976\n",
      "lpg          2037\n",
      "cng           233\n",
      "hybrid        110\n",
      "other          46\n",
      "electric       29\n",
      "Name: count, dtype: int64\n",
      "gearbox\n",
      "manual    105831\n",
      "auto       26142\n",
      "Name: count, dtype: int64\n"
     ]
    }
   ],
   "source": [
    "print(data['vehicle_type'].value_counts())\n",
    "print(data['fuel_type'].value_counts())\n",
    "print(data['gearbox'].value_counts())"
   ]
  },
  {
   "cell_type": "code",
   "execution_count": 26,
   "metadata": {},
   "outputs": [],
   "source": [
    "# используем функцию для заполнения пропусков на основе сгрупиированных данных по brand и model\n",
    "missing_list = ['vehicle_type', 'fuel_type', 'gearbox']\n",
    "for i in missing_list:\n",
    "    data = fill_missing_values_by_brand_and_model(data, i)\n"
   ]
  },
  {
   "cell_type": "code",
   "execution_count": 27,
   "metadata": {},
   "outputs": [
    {
     "name": "stdout",
     "output_type": "stream",
     "text": [
      "vehicle_type\n",
      "sedan          41465\n",
      "small          35173\n",
      "wagon          27584\n",
      "bus            13091\n",
      "convertible     8151\n",
      "coupe           6538\n",
      "suv             4883\n",
      "other           1117\n",
      "Name: count, dtype: int64\n",
      "fuel_type\n",
      "petrol      93645\n",
      "gasoline    41902\n",
      "lpg          2037\n",
      "cng           233\n",
      "hybrid        110\n",
      "other          46\n",
      "electric       29\n",
      "Name: count, dtype: int64\n",
      "gearbox\n",
      "manual    111086\n",
      "auto       26916\n",
      "Name: count, dtype: int64\n"
     ]
    }
   ],
   "source": [
    "print(data['vehicle_type'].value_counts())\n",
    "print(data['fuel_type'].value_counts())\n",
    "print(data['gearbox'].value_counts())"
   ]
  },
  {
   "cell_type": "markdown",
   "metadata": {},
   "source": [
    "#### Обработка аномальных значений"
   ]
  },
  {
   "cell_type": "code",
   "execution_count": 28,
   "metadata": {},
   "outputs": [
    {
     "data": {
      "text/html": [
       "<div>\n",
       "<style scoped>\n",
       "    .dataframe tbody tr th:only-of-type {\n",
       "        vertical-align: middle;\n",
       "    }\n",
       "\n",
       "    .dataframe tbody tr th {\n",
       "        vertical-align: top;\n",
       "    }\n",
       "\n",
       "    .dataframe thead th {\n",
       "        text-align: right;\n",
       "    }\n",
       "</style>\n",
       "<table border=\"1\" class=\"dataframe\">\n",
       "  <thead>\n",
       "    <tr style=\"text-align: right;\">\n",
       "      <th></th>\n",
       "      <th>price</th>\n",
       "      <th>registration_year</th>\n",
       "      <th>power</th>\n",
       "      <th>kilometer</th>\n",
       "    </tr>\n",
       "  </thead>\n",
       "  <tbody>\n",
       "    <tr>\n",
       "      <th>count</th>\n",
       "      <td>138,002.00</td>\n",
       "      <td>138,002.00</td>\n",
       "      <td>138,002.00</td>\n",
       "      <td>138,002.00</td>\n",
       "    </tr>\n",
       "    <tr>\n",
       "      <th>mean</th>\n",
       "      <td>4,611.23</td>\n",
       "      <td>2,003.84</td>\n",
       "      <td>112.27</td>\n",
       "      <td>128,648.24</td>\n",
       "    </tr>\n",
       "    <tr>\n",
       "      <th>std</th>\n",
       "      <td>4,516.39</td>\n",
       "      <td>59.78</td>\n",
       "      <td>190.68</td>\n",
       "      <td>36,959.39</td>\n",
       "    </tr>\n",
       "    <tr>\n",
       "      <th>min</th>\n",
       "      <td>1.00</td>\n",
       "      <td>1,000.00</td>\n",
       "      <td>0.00</td>\n",
       "      <td>5,000.00</td>\n",
       "    </tr>\n",
       "    <tr>\n",
       "      <th>25%</th>\n",
       "      <td>1,200.00</td>\n",
       "      <td>1,999.00</td>\n",
       "      <td>72.00</td>\n",
       "      <td>125,000.00</td>\n",
       "    </tr>\n",
       "    <tr>\n",
       "      <th>50%</th>\n",
       "      <td>2,950.00</td>\n",
       "      <td>2,003.00</td>\n",
       "      <td>105.00</td>\n",
       "      <td>150,000.00</td>\n",
       "    </tr>\n",
       "    <tr>\n",
       "      <th>75%</th>\n",
       "      <td>6,600.00</td>\n",
       "      <td>2,008.00</td>\n",
       "      <td>143.00</td>\n",
       "      <td>150,000.00</td>\n",
       "    </tr>\n",
       "    <tr>\n",
       "      <th>max</th>\n",
       "      <td>20,000.00</td>\n",
       "      <td>9,999.00</td>\n",
       "      <td>20,000.00</td>\n",
       "      <td>150,000.00</td>\n",
       "    </tr>\n",
       "  </tbody>\n",
       "</table>\n",
       "</div>"
      ],
      "text/plain": [
       "           price  registration_year      power  kilometer\n",
       "count 138,002.00         138,002.00 138,002.00 138,002.00\n",
       "mean    4,611.23           2,003.84     112.27 128,648.24\n",
       "std     4,516.39              59.78     190.68  36,959.39\n",
       "min         1.00           1,000.00       0.00   5,000.00\n",
       "25%     1,200.00           1,999.00      72.00 125,000.00\n",
       "50%     2,950.00           2,003.00     105.00 150,000.00\n",
       "75%     6,600.00           2,008.00     143.00 150,000.00\n",
       "max    20,000.00           9,999.00  20,000.00 150,000.00"
      ]
     },
     "execution_count": 28,
     "metadata": {},
     "output_type": "execute_result"
    }
   ],
   "source": [
    "data.describe()"
   ]
  },
  {
   "cell_type": "code",
   "execution_count": 29,
   "metadata": {},
   "outputs": [
    {
     "data": {
      "image/png": "[encoded data removed]",
      "text/plain": [
       "<Figure size 720x432 with 1 Axes>"
      ]
     },
     "metadata": {},
     "output_type": "display_data"
    }
   ],
   "source": [
    "# Установка стиля для графиков\n",
    "sns.set(style=\"whitegrid\")\n",
    "\n",
    "# Создание графика распределения значений по годам\n",
    "plt.figure(figsize=(10, 6))  # Установка размера фигуры\n",
    "sns.violinplot(data['registration_year'])\n",
    "\n",
    "plt.title('Распределение автомобилей по году регистрации')  # Заголовок графика\n",
    "plt.xlabel('Год регистрации')  # Подпись оси X\n",
    "plt.ylabel('Количество автомобилей')  # Подпись оси Y\n",
    "plt.xticks(rotation=45)  # Поворот меток на оси X для лучшего отображения\n",
    "\n",
    "plt.show() "
   ]
  },
  {
   "cell_type": "markdown",
   "metadata": {},
   "source": [
    "В данном столбце много выбросов, обработаем выбивающиеся значения. \\\n",
    "Границы отбора данных на изменение предлагаю определить такие:\n",
    " * Верхний потолок - 2024 год (машины из 2025года+ пока не производят, к сожалению не придумали)\n",
    " * Нижний потолок - машины старше 1980 года. Машин с более поздним годом выпуска совсем немного. "
   ]
  },
  {
   "cell_type": "code",
   "execution_count": 30,
   "metadata": {},
   "outputs": [
    {
     "name": "stdout",
     "output_type": "stream",
     "text": [
      "Строки с годом регистрации до 1980 или после 2024 составляют 0.75% от всего датасета.\n"
     ]
    }
   ],
   "source": [
    "print(f\"Строки с годом регистрации до 1980 или после 2024 составляют {(len(data[(data['registration_year'] < 1980) |  (data['registration_year'] > 2024)]) / len(data)) * 100:.2f}% от всего датасета.\")"
   ]
  },
  {
   "cell_type": "code",
   "execution_count": 31,
   "metadata": {},
   "outputs": [
    {
     "data": {
      "text/plain": [
       "{'Потери от исходного размера': 11998,\n",
       " 'Потери с предыдущего раза': 0,\n",
       " 'Общие потери в процентах': 7.998666666666667}"
      ]
     },
     "execution_count": 31,
     "metadata": {},
     "output_type": "execute_result"
    }
   ],
   "source": [
    "tracker.track(data) "
   ]
  },
  {
   "cell_type": "code",
   "execution_count": 32,
   "metadata": {},
   "outputs": [],
   "source": [
    "data = data[(data['registration_year'] >= 1985) & (data['registration_year'] <= 2024)]"
   ]
  },
  {
   "cell_type": "code",
   "execution_count": 33,
   "metadata": {},
   "outputs": [
    {
     "data": {
      "text/plain": [
       "{'Потери от исходного размера': 13710,\n",
       " 'Потери с предыдущего раза': 1712,\n",
       " 'Общие потери в процентах': 9.139999999999999}"
      ]
     },
     "execution_count": 33,
     "metadata": {},
     "output_type": "execute_result"
    }
   ],
   "source": [
    "tracker.track(data) "
   ]
  },
  {
   "cell_type": "code",
   "execution_count": 34,
   "metadata": {},
   "outputs": [
    {
     "data": {
      "image/png": "[encoded data removed]",
      "text/plain": [
       "<Figure size 720x432 with 1 Axes>"
      ]
     },
     "metadata": {},
     "output_type": "display_data"
    }
   ],
   "source": [
    "sns.set(style=\"whitegrid\")\n",
    "plt.figure(figsize=(10, 6))\n",
    "sns.boxplot(data['registration_year'])\n",
    "plt.title('Распределение автомобилей по году регистрации')\n",
    "plt.xlabel('Год регистрации') \n",
    "plt.ylabel('Количество автомобилей') \n",
    "plt.xticks(rotation=45)\n",
    "plt.show() "
   ]
  },
  {
   "cell_type": "code",
   "execution_count": 39,
   "metadata": {},
   "outputs": [
    {
     "data": {
      "image/png": "[encoded data removed]",
      "text/plain": [
       "<Figure size 720x432 with 1 Axes>"
      ]
     },
     "metadata": {},
     "output_type": "display_data"
    }
   ],
   "source": [
    "sns.set(style=\"whitegrid\")\n",
    "plt.figure(figsize=(10, 6))\n",
    "sns.boxplot(data['power'])\n",
    "plt.title('Распределение автомобилей по году регистрации')\n",
    "plt.xlabel('Год регистрации') \n",
    "plt.ylabel('Количество автомобилей') \n",
    "plt.xticks(rotation=45)\n",
    "plt.show() "
   ]
  },
  {
   "cell_type": "code",
   "execution_count": 38,
   "metadata": {},
   "outputs": [
    {
     "name": "stdout",
     "output_type": "stream",
     "text": [
      "Строки с слишком большой или малой мощностью составляют 0.82% от всего датасета.\n"
     ]
    }
   ],
   "source": [
    "print(f\"Строки с слишком большой или малой мощностью составляют {(len(data[(data['power'] < 45) |   (data['power'] > 450)]) / len(data)) * 100:.2f}% от всего датасета.\")"
   ]
  },
  {
   "cell_type": "code",
   "execution_count": 87,
   "metadata": {},
   "outputs": [],
   "source": [
    "data_grp = data.groupby(['brand', 'model', 'vehicle_type'])['power'].apply(lambda x: x.median())"
   ]
  },
  {
   "cell_type": "code",
   "execution_count": 36,
   "metadata": {},
   "outputs": [],
   "source": [
    "def replace_outliers(data, column_name):\n",
    "    # Считаем самое частое значение для каждой группы 'brand' и 'model'\n",
    "    most_frequent_values = data.groupby(['brand', 'model', 'vehicle_type'])[column_name].apply(lambda x: x.mode().iloc[0] if not x.mode().empty else None)\n",
    "    \n",
    "    # Функция для заполнения пропуска\n",
    "    def fill_value(row):\n",
    "        if row['power'] < 45 or row['power'] > 450:\n",
    "            return most_frequent_values.get((row['brand'], row['model'], row['vehicle_type']), row[column_name])\n",
    "        else:\n",
    "            return row[column_name]\n",
    "    \n",
    "    # Заполнение пропусков\n",
    "    data[column_name] = data.apply(fill_value, axis=1)\n",
    "\n",
    "    return data"
   ]
  },
  {
   "cell_type": "code",
   "execution_count": 37,
   "metadata": {},
   "outputs": [
    {
     "data": {
      "text/html": [
       "<div>\n",
       "<style scoped>\n",
       "    .dataframe tbody tr th:only-of-type {\n",
       "        vertical-align: middle;\n",
       "    }\n",
       "\n",
       "    .dataframe tbody tr th {\n",
       "        vertical-align: top;\n",
       "    }\n",
       "\n",
       "    .dataframe thead th {\n",
       "        text-align: right;\n",
       "    }\n",
       "</style>\n",
       "<table border=\"1\" class=\"dataframe\">\n",
       "  <thead>\n",
       "    <tr style=\"text-align: right;\">\n",
       "      <th></th>\n",
       "      <th>price</th>\n",
       "      <th>vehicle_type</th>\n",
       "      <th>registration_year</th>\n",
       "      <th>gearbox</th>\n",
       "      <th>power</th>\n",
       "      <th>model</th>\n",
       "      <th>kilometer</th>\n",
       "      <th>fuel_type</th>\n",
       "      <th>brand</th>\n",
       "      <th>repaired</th>\n",
       "    </tr>\n",
       "  </thead>\n",
       "  <tbody>\n",
       "    <tr>\n",
       "      <th>160315</th>\n",
       "      <td>799</td>\n",
       "      <td>sedan</td>\n",
       "      <td>1998</td>\n",
       "      <td>manual</td>\n",
       "      <td>75</td>\n",
       "      <td>colt</td>\n",
       "      <td>150000</td>\n",
       "      <td>petrol</td>\n",
       "      <td>mitsubishi</td>\n",
       "      <td>no</td>\n",
       "    </tr>\n",
       "    <tr>\n",
       "      <th>266699</th>\n",
       "      <td>2900</td>\n",
       "      <td>sedan</td>\n",
       "      <td>2001</td>\n",
       "      <td>auto</td>\n",
       "      <td>170</td>\n",
       "      <td>e_klasse</td>\n",
       "      <td>150000</td>\n",
       "      <td>petrol</td>\n",
       "      <td>mercedes_benz</td>\n",
       "      <td>no</td>\n",
       "    </tr>\n",
       "    <tr>\n",
       "      <th>40687</th>\n",
       "      <td>1995</td>\n",
       "      <td>small</td>\n",
       "      <td>2009</td>\n",
       "      <td>manual</td>\n",
       "      <td>75</td>\n",
       "      <td>sandero</td>\n",
       "      <td>10000</td>\n",
       "      <td>petrol</td>\n",
       "      <td>dacia</td>\n",
       "      <td>yes</td>\n",
       "    </tr>\n",
       "    <tr>\n",
       "      <th>34216</th>\n",
       "      <td>11800</td>\n",
       "      <td>wagon</td>\n",
       "      <td>2013</td>\n",
       "      <td>manual</td>\n",
       "      <td>131</td>\n",
       "      <td>megane</td>\n",
       "      <td>30000</td>\n",
       "      <td>petrol</td>\n",
       "      <td>renault</td>\n",
       "      <td>no</td>\n",
       "    </tr>\n",
       "    <tr>\n",
       "      <th>248075</th>\n",
       "      <td>2999</td>\n",
       "      <td>suv</td>\n",
       "      <td>1994</td>\n",
       "      <td>auto</td>\n",
       "      <td>184</td>\n",
       "      <td>cherokee</td>\n",
       "      <td>150000</td>\n",
       "      <td>petrol</td>\n",
       "      <td>jeep</td>\n",
       "      <td>no</td>\n",
       "    </tr>\n",
       "    <tr>\n",
       "      <th>99116</th>\n",
       "      <td>1800</td>\n",
       "      <td>small</td>\n",
       "      <td>2000</td>\n",
       "      <td>manual</td>\n",
       "      <td>75</td>\n",
       "      <td>polo</td>\n",
       "      <td>125000</td>\n",
       "      <td>petrol</td>\n",
       "      <td>volkswagen</td>\n",
       "      <td>no</td>\n",
       "    </tr>\n",
       "    <tr>\n",
       "      <th>75285</th>\n",
       "      <td>16450</td>\n",
       "      <td>sedan</td>\n",
       "      <td>2013</td>\n",
       "      <td>manual</td>\n",
       "      <td>140</td>\n",
       "      <td>leon</td>\n",
       "      <td>20000</td>\n",
       "      <td>petrol</td>\n",
       "      <td>seat</td>\n",
       "      <td>no</td>\n",
       "    </tr>\n",
       "    <tr>\n",
       "      <th>186944</th>\n",
       "      <td>590</td>\n",
       "      <td>small</td>\n",
       "      <td>1998</td>\n",
       "      <td>manual</td>\n",
       "      <td>45</td>\n",
       "      <td>corsa</td>\n",
       "      <td>150000</td>\n",
       "      <td>petrol</td>\n",
       "      <td>opel</td>\n",
       "      <td>no</td>\n",
       "    </tr>\n",
       "    <tr>\n",
       "      <th>159314</th>\n",
       "      <td>2299</td>\n",
       "      <td>wagon</td>\n",
       "      <td>1999</td>\n",
       "      <td>manual</td>\n",
       "      <td>101</td>\n",
       "      <td>golf</td>\n",
       "      <td>150000</td>\n",
       "      <td>petrol</td>\n",
       "      <td>volkswagen</td>\n",
       "      <td>no</td>\n",
       "    </tr>\n",
       "    <tr>\n",
       "      <th>149488</th>\n",
       "      <td>12500</td>\n",
       "      <td>bus</td>\n",
       "      <td>1999</td>\n",
       "      <td>manual</td>\n",
       "      <td>180</td>\n",
       "      <td>transporter</td>\n",
       "      <td>150000</td>\n",
       "      <td>gasoline</td>\n",
       "      <td>volkswagen</td>\n",
       "      <td>no</td>\n",
       "    </tr>\n",
       "    <tr>\n",
       "      <th>...</th>\n",
       "      <td>...</td>\n",
       "      <td>...</td>\n",
       "      <td>...</td>\n",
       "      <td>...</td>\n",
       "      <td>...</td>\n",
       "      <td>...</td>\n",
       "      <td>...</td>\n",
       "      <td>...</td>\n",
       "      <td>...</td>\n",
       "      <td>...</td>\n",
       "    </tr>\n",
       "    <tr>\n",
       "      <th>278353</th>\n",
       "      <td>5900</td>\n",
       "      <td>bus</td>\n",
       "      <td>2006</td>\n",
       "      <td>manual</td>\n",
       "      <td>140</td>\n",
       "      <td>s_max</td>\n",
       "      <td>150000</td>\n",
       "      <td>gasoline</td>\n",
       "      <td>ford</td>\n",
       "      <td>no</td>\n",
       "    </tr>\n",
       "    <tr>\n",
       "      <th>288871</th>\n",
       "      <td>8990</td>\n",
       "      <td>bus</td>\n",
       "      <td>2006</td>\n",
       "      <td>auto</td>\n",
       "      <td>140</td>\n",
       "      <td>touran</td>\n",
       "      <td>150000</td>\n",
       "      <td>gasoline</td>\n",
       "      <td>volkswagen</td>\n",
       "      <td>no</td>\n",
       "    </tr>\n",
       "    <tr>\n",
       "      <th>180823</th>\n",
       "      <td>8000</td>\n",
       "      <td>bus</td>\n",
       "      <td>2010</td>\n",
       "      <td>manual</td>\n",
       "      <td>144</td>\n",
       "      <td>other</td>\n",
       "      <td>50000</td>\n",
       "      <td>petrol</td>\n",
       "      <td>kia</td>\n",
       "      <td>no</td>\n",
       "    </tr>\n",
       "    <tr>\n",
       "      <th>77639</th>\n",
       "      <td>10950</td>\n",
       "      <td>sedan</td>\n",
       "      <td>2011</td>\n",
       "      <td>manual</td>\n",
       "      <td>105</td>\n",
       "      <td>golf</td>\n",
       "      <td>90000</td>\n",
       "      <td>petrol</td>\n",
       "      <td>volkswagen</td>\n",
       "      <td>no</td>\n",
       "    </tr>\n",
       "    <tr>\n",
       "      <th>307975</th>\n",
       "      <td>2400</td>\n",
       "      <td>sedan</td>\n",
       "      <td>1999</td>\n",
       "      <td>manual</td>\n",
       "      <td>170</td>\n",
       "      <td>3er</td>\n",
       "      <td>150000</td>\n",
       "      <td>petrol</td>\n",
       "      <td>bmw</td>\n",
       "      <td>no</td>\n",
       "    </tr>\n",
       "    <tr>\n",
       "      <th>326509</th>\n",
       "      <td>6450</td>\n",
       "      <td>bus</td>\n",
       "      <td>2004</td>\n",
       "      <td>auto</td>\n",
       "      <td>204</td>\n",
       "      <td>sharan</td>\n",
       "      <td>150000</td>\n",
       "      <td>petrol</td>\n",
       "      <td>volkswagen</td>\n",
       "      <td>no</td>\n",
       "    </tr>\n",
       "    <tr>\n",
       "      <th>157888</th>\n",
       "      <td>15800</td>\n",
       "      <td>convertible</td>\n",
       "      <td>2011</td>\n",
       "      <td>manual</td>\n",
       "      <td>143</td>\n",
       "      <td>1er</td>\n",
       "      <td>60000</td>\n",
       "      <td>petrol</td>\n",
       "      <td>bmw</td>\n",
       "      <td>no</td>\n",
       "    </tr>\n",
       "    <tr>\n",
       "      <th>332785</th>\n",
       "      <td>3350</td>\n",
       "      <td>bus</td>\n",
       "      <td>1999</td>\n",
       "      <td>manual</td>\n",
       "      <td>102</td>\n",
       "      <td>transporter</td>\n",
       "      <td>150000</td>\n",
       "      <td>gasoline</td>\n",
       "      <td>volkswagen</td>\n",
       "      <td>no</td>\n",
       "    </tr>\n",
       "    <tr>\n",
       "      <th>307066</th>\n",
       "      <td>6500</td>\n",
       "      <td>sedan</td>\n",
       "      <td>2001</td>\n",
       "      <td>manual</td>\n",
       "      <td>231</td>\n",
       "      <td>3er</td>\n",
       "      <td>90000</td>\n",
       "      <td>petrol</td>\n",
       "      <td>bmw</td>\n",
       "      <td>no</td>\n",
       "    </tr>\n",
       "    <tr>\n",
       "      <th>305182</th>\n",
       "      <td>1800</td>\n",
       "      <td>wagon</td>\n",
       "      <td>2002</td>\n",
       "      <td>manual</td>\n",
       "      <td>101</td>\n",
       "      <td>focus</td>\n",
       "      <td>150000</td>\n",
       "      <td>petrol</td>\n",
       "      <td>ford</td>\n",
       "      <td>no</td>\n",
       "    </tr>\n",
       "  </tbody>\n",
       "</table>\n",
       "<p>136290 rows × 10 columns</p>\n",
       "</div>"
      ],
      "text/plain": [
       "        price vehicle_type  registration_year gearbox  power        model  \\\n",
       "160315    799        sedan               1998  manual     75         colt   \n",
       "266699   2900        sedan               2001    auto    170     e_klasse   \n",
       "40687    1995        small               2009  manual     75      sandero   \n",
       "34216   11800        wagon               2013  manual    131       megane   \n",
       "248075   2999          suv               1994    auto    184     cherokee   \n",
       "99116    1800        small               2000  manual     75         polo   \n",
       "75285   16450        sedan               2013  manual    140         leon   \n",
       "186944    590        small               1998  manual     45        corsa   \n",
       "159314   2299        wagon               1999  manual    101         golf   \n",
       "149488  12500          bus               1999  manual    180  transporter   \n",
       "...       ...          ...                ...     ...    ...          ...   \n",
       "278353   5900          bus               2006  manual    140        s_max   \n",
       "288871   8990          bus               2006    auto    140       touran   \n",
       "180823   8000          bus               2010  manual    144        other   \n",
       "77639   10950        sedan               2011  manual    105         golf   \n",
       "307975   2400        sedan               1999  manual    170          3er   \n",
       "326509   6450          bus               2004    auto    204       sharan   \n",
       "157888  15800  convertible               2011  manual    143          1er   \n",
       "332785   3350          bus               1999  manual    102  transporter   \n",
       "307066   6500        sedan               2001  manual    231          3er   \n",
       "305182   1800        wagon               2002  manual    101        focus   \n",
       "\n",
       "        kilometer fuel_type          brand repaired  \n",
       "160315     150000    petrol     mitsubishi       no  \n",
       "266699     150000    petrol  mercedes_benz       no  \n",
       "40687       10000    petrol          dacia      yes  \n",
       "34216       30000    petrol        renault       no  \n",
       "248075     150000    petrol           jeep       no  \n",
       "99116      125000    petrol     volkswagen       no  \n",
       "75285       20000    petrol           seat       no  \n",
       "186944     150000    petrol           opel       no  \n",
       "159314     150000    petrol     volkswagen       no  \n",
       "149488     150000  gasoline     volkswagen       no  \n",
       "...           ...       ...            ...      ...  \n",
       "278353     150000  gasoline           ford       no  \n",
       "288871     150000  gasoline     volkswagen       no  \n",
       "180823      50000    petrol            kia       no  \n",
       "77639       90000    petrol     volkswagen       no  \n",
       "307975     150000    petrol            bmw       no  \n",
       "326509     150000    petrol     volkswagen       no  \n",
       "157888      60000    petrol            bmw       no  \n",
       "332785     150000  gasoline     volkswagen       no  \n",
       "307066      90000    petrol            bmw       no  \n",
       "305182     150000    petrol           ford       no  \n",
       "\n",
       "[136290 rows x 10 columns]"
      ]
     },
     "execution_count": 37,
     "metadata": {},
     "output_type": "execute_result"
    }
   ],
   "source": [
    "replace_outliers(data, 'power')"
   ]
  },
  {
   "cell_type": "code",
   "execution_count": 40,
   "metadata": {},
   "outputs": [
    {
     "data": {
      "text/plain": [
       "{'Потери от исходного размера': 14829,\n",
       " 'Потери с предыдущего раза': 1119,\n",
       " 'Общие потери в процентах': 9.886000000000001}"
      ]
     },
     "execution_count": 40,
     "metadata": {},
     "output_type": "execute_result"
    }
   ],
   "source": [
    "data = data[(data['power'] <= 450) & (data['power'] >= 45)]\n",
    "\n",
    "tracker.track(data) "
   ]
  },
  {
   "cell_type": "code",
   "execution_count": 41,
   "metadata": {},
   "outputs": [
    {
     "data": {
      "image/png": "[encoded data removed]",
      "text/plain": [
       "<Figure size 720x432 with 1 Axes>"
      ]
     },
     "metadata": {},
     "output_type": "display_data"
    }
   ],
   "source": [
    "replace_outliers(data, 'power')\n",
    "sns.set(style=\"whitegrid\")\n",
    "plt.figure(figsize=(10, 6))\n",
    "sns.boxplot(data['power'])\n",
    "plt.title('Распределение автомобилей по году регистрации')\n",
    "plt.xlabel('Год регистрации') \n",
    "plt.ylabel('Количество автомобилей') \n",
    "plt.xticks(rotation=45)\n",
    "plt.show() "
   ]
  },
  {
   "cell_type": "code",
   "execution_count": 95,
   "metadata": {},
   "outputs": [
    {
     "name": "stdout",
     "output_type": "stream",
     "text": [
      "Общая информация по таблице: data\n",
      "<class 'pandas.core.frame.DataFrame'>\n",
      "Index: 319204 entries, 0 to 354368\n",
      "Data columns (total 10 columns):\n",
      " #   Column             Non-Null Count   Dtype \n",
      "---  ------             --------------   ----- \n",
      " 0   price              319204 non-null  int64 \n",
      " 1   vehicle_type       319204 non-null  object\n",
      " 2   registration_year  319204 non-null  int64 \n",
      " 3   gearbox            319204 non-null  object\n",
      " 4   power              319204 non-null  int64 \n",
      " 5   model              319204 non-null  object\n",
      " 6   kilometer          319204 non-null  int64 \n",
      " 7   fuel_type          319204 non-null  object\n",
      " 8   brand              319204 non-null  object\n",
      " 9   repaired           319204 non-null  object\n",
      "dtypes: int64(4), object(6)\n",
      "memory usage: 34.9+ MB\n",
      "\n",
      " Статистическое описание:\n"
     ]
    },
    {
     "data": {
      "text/html": [
       "<div>\n",
       "<style scoped>\n",
       "    .dataframe tbody tr th:only-of-type {\n",
       "        vertical-align: middle;\n",
       "    }\n",
       "\n",
       "    .dataframe tbody tr th {\n",
       "        vertical-align: top;\n",
       "    }\n",
       "\n",
       "    .dataframe thead th {\n",
       "        text-align: right;\n",
       "    }\n",
       "</style>\n",
       "<table border=\"1\" class=\"dataframe\">\n",
       "  <thead>\n",
       "    <tr style=\"text-align: right;\">\n",
       "      <th></th>\n",
       "      <th>count</th>\n",
       "      <th>mean</th>\n",
       "      <th>std</th>\n",
       "      <th>min</th>\n",
       "      <th>25%</th>\n",
       "      <th>50%</th>\n",
       "      <th>75%</th>\n",
       "      <th>max</th>\n",
       "    </tr>\n",
       "  </thead>\n",
       "  <tbody>\n",
       "    <tr>\n",
       "      <th>price</th>\n",
       "      <td>319,204.00</td>\n",
       "      <td>4,620.54</td>\n",
       "      <td>4,525.41</td>\n",
       "      <td>1.00</td>\n",
       "      <td>1,200.00</td>\n",
       "      <td>2,950.00</td>\n",
       "      <td>6,600.00</td>\n",
       "      <td>20,000.00</td>\n",
       "    </tr>\n",
       "    <tr>\n",
       "      <th>registration_year</th>\n",
       "      <td>319,204.00</td>\n",
       "      <td>2,003.64</td>\n",
       "      <td>6.24</td>\n",
       "      <td>1,985.00</td>\n",
       "      <td>1,999.00</td>\n",
       "      <td>2,003.00</td>\n",
       "      <td>2,008.00</td>\n",
       "      <td>2,019.00</td>\n",
       "    </tr>\n",
       "    <tr>\n",
       "      <th>power</th>\n",
       "      <td>319,204.00</td>\n",
       "      <td>118.96</td>\n",
       "      <td>51.93</td>\n",
       "      <td>45.00</td>\n",
       "      <td>75.00</td>\n",
       "      <td>110.00</td>\n",
       "      <td>147.00</td>\n",
       "      <td>450.00</td>\n",
       "    </tr>\n",
       "    <tr>\n",
       "      <th>kilometer</th>\n",
       "      <td>319,204.00</td>\n",
       "      <td>129,039.34</td>\n",
       "      <td>36,481.41</td>\n",
       "      <td>5,000.00</td>\n",
       "      <td>125,000.00</td>\n",
       "      <td>150,000.00</td>\n",
       "      <td>150,000.00</td>\n",
       "      <td>150,000.00</td>\n",
       "    </tr>\n",
       "  </tbody>\n",
       "</table>\n",
       "</div>"
      ],
      "text/plain": [
       "                       count       mean       std      min        25%  \\\n",
       "price             319,204.00   4,620.54  4,525.41     1.00   1,200.00   \n",
       "registration_year 319,204.00   2,003.64      6.24 1,985.00   1,999.00   \n",
       "power             319,204.00     118.96     51.93    45.00      75.00   \n",
       "kilometer         319,204.00 129,039.34 36,481.41 5,000.00 125,000.00   \n",
       "\n",
       "                         50%        75%        max  \n",
       "price               2,950.00   6,600.00  20,000.00  \n",
       "registration_year   2,003.00   2,008.00   2,019.00  \n",
       "power                 110.00     147.00     450.00  \n",
       "kilometer         150,000.00 150,000.00 150,000.00  "
      ]
     },
     "metadata": {},
     "output_type": "display_data"
    },
    {
     "name": "stdout",
     "output_type": "stream",
     "text": [
      "\n",
      "Случайные примеры:\n"
     ]
    },
    {
     "data": {
      "text/html": [
       "<div>\n",
       "<style scoped>\n",
       "    .dataframe tbody tr th:only-of-type {\n",
       "        vertical-align: middle;\n",
       "    }\n",
       "\n",
       "    .dataframe tbody tr th {\n",
       "        vertical-align: top;\n",
       "    }\n",
       "\n",
       "    .dataframe thead th {\n",
       "        text-align: right;\n",
       "    }\n",
       "</style>\n",
       "<table border=\"1\" class=\"dataframe\">\n",
       "  <thead>\n",
       "    <tr style=\"text-align: right;\">\n",
       "      <th></th>\n",
       "      <th>price</th>\n",
       "      <th>vehicle_type</th>\n",
       "      <th>registration_year</th>\n",
       "      <th>gearbox</th>\n",
       "      <th>power</th>\n",
       "      <th>model</th>\n",
       "      <th>kilometer</th>\n",
       "      <th>fuel_type</th>\n",
       "      <th>brand</th>\n",
       "      <th>repaired</th>\n",
       "    </tr>\n",
       "  </thead>\n",
       "  <tbody>\n",
       "    <tr>\n",
       "      <th>189977</th>\n",
       "      <td>5500</td>\n",
       "      <td>sedan</td>\n",
       "      <td>2007</td>\n",
       "      <td>manual</td>\n",
       "      <td>185</td>\n",
       "      <td>s60</td>\n",
       "      <td>150000</td>\n",
       "      <td>gasoline</td>\n",
       "      <td>volvo</td>\n",
       "      <td>no</td>\n",
       "    </tr>\n",
       "    <tr>\n",
       "      <th>125578</th>\n",
       "      <td>15300</td>\n",
       "      <td>sedan</td>\n",
       "      <td>2010</td>\n",
       "      <td>auto</td>\n",
       "      <td>190</td>\n",
       "      <td>a6</td>\n",
       "      <td>150000</td>\n",
       "      <td>gasoline</td>\n",
       "      <td>audi</td>\n",
       "      <td>no</td>\n",
       "    </tr>\n",
       "    <tr>\n",
       "      <th>38948</th>\n",
       "      <td>1500</td>\n",
       "      <td>small</td>\n",
       "      <td>2001</td>\n",
       "      <td>manual</td>\n",
       "      <td>60</td>\n",
       "      <td>lupo</td>\n",
       "      <td>150000</td>\n",
       "      <td>gasoline</td>\n",
       "      <td>volkswagen</td>\n",
       "      <td>no</td>\n",
       "    </tr>\n",
       "    <tr>\n",
       "      <th>37123</th>\n",
       "      <td>1</td>\n",
       "      <td>convertible</td>\n",
       "      <td>2000</td>\n",
       "      <td>manual</td>\n",
       "      <td>107</td>\n",
       "      <td>megane</td>\n",
       "      <td>150000</td>\n",
       "      <td>petrol</td>\n",
       "      <td>renault</td>\n",
       "      <td>no</td>\n",
       "    </tr>\n",
       "    <tr>\n",
       "      <th>303816</th>\n",
       "      <td>11900</td>\n",
       "      <td>sedan</td>\n",
       "      <td>2005</td>\n",
       "      <td>manual</td>\n",
       "      <td>150</td>\n",
       "      <td>x_reihe</td>\n",
       "      <td>150000</td>\n",
       "      <td>gasoline</td>\n",
       "      <td>bmw</td>\n",
       "      <td>no</td>\n",
       "    </tr>\n",
       "  </tbody>\n",
       "</table>\n",
       "</div>"
      ],
      "text/plain": [
       "        price vehicle_type  registration_year gearbox  power    model  \\\n",
       "189977   5500        sedan               2007  manual    185      s60   \n",
       "125578  15300        sedan               2010    auto    190       a6   \n",
       "38948    1500        small               2001  manual     60     lupo   \n",
       "37123       1  convertible               2000  manual    107   megane   \n",
       "303816  11900        sedan               2005  manual    150  x_reihe   \n",
       "\n",
       "        kilometer fuel_type       brand repaired  \n",
       "189977     150000  gasoline       volvo       no  \n",
       "125578     150000  gasoline        audi       no  \n",
       "38948      150000  gasoline  volkswagen       no  \n",
       "37123      150000    petrol     renault       no  \n",
       "303816     150000  gasoline         bmw       no  "
      ]
     },
     "metadata": {},
     "output_type": "display_data"
    },
    {
     "name": "stdout",
     "output_type": "stream",
     "text": [
      "\n",
      "Количество строк и столбцов: (319204, 10)\n",
      "\n",
      "Количество явных дубликатов: 56647\n",
      "\n"
     ]
    }
   ],
   "source": [
    "dataframe_summary(data, 'data')"
   ]
  },
  {
   "cell_type": "markdown",
   "metadata": {},
   "source": [
    "## Обучение моделей"
   ]
  },
  {
   "cell_type": "code",
   "execution_count": null,
   "metadata": {},
   "outputs": [],
   "source": []
  },
  {
   "cell_type": "markdown",
   "metadata": {},
   "source": [
    "## Анализ моделей"
   ]
  },
  {
   "cell_type": "code",
   "execution_count": null,
   "metadata": {},
   "outputs": [],
   "source": []
  },
  {
   "cell_type": "markdown",
   "metadata": {},
   "source": [
    "## Чек-лист проверки"
   ]
  },
  {
   "cell_type": "markdown",
   "metadata": {},
   "source": [
    "Поставьте 'x' в выполненных пунктах. Далее нажмите Shift+Enter."
   ]
  },
  {
   "cell_type": "markdown",
   "metadata": {},
   "source": [
    "- [x]  Jupyter Notebook открыт\n",
    "- [ ]  Весь код выполняется без ошибок\n",
    "- [ ]  Ячейки с кодом расположены в порядке исполнения\n",
    "- [ ]  Выполнена загрузка и подготовка данных\n",
    "- [ ]  Выполнено обучение моделей\n",
    "- [ ]  Есть анализ скорости работы и качества моделей"
   ]
  },
  {
   "cell_type": "code",
   "execution_count": null,
   "metadata": {},
   "outputs": [],
   "source": []
  }
 ],
 "metadata": {
  "kernelspec": {
   "display_name": "Python 3 (ipykernel)",
   "language": "python",
   "name": "python3"
  },
  "language_info": {
   "codemirror_mode": {
    "name": "ipython",
    "version": 3
   },
   "file_extension": ".py",
   "mimetype": "text/x-python",
   "name": "python",
   "nbconvert_exporter": "python",
   "pygments_lexer": "ipython3",
   "version": "3.9.12"
  },
  "toc": {
   "base_numbering": 1,
   "nav_menu": {},
   "number_sections": true,
   "sideBar": true,
   "skip_h1_title": true,
   "title_cell": "Table of Contents",
   "title_sidebar": "Contents",
   "toc_cell": false,
   "toc_position": {},
   "toc_section_display": true,
   "toc_window_display": false
  }
 },
 "nbformat": 4,
 "nbformat_minor": 2
}
