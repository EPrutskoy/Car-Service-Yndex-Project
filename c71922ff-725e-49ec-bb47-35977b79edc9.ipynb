{
 "cells": [
  {
   "cell_type": "markdown",
   "metadata": {},
   "source": [
    "# Определение стоимости автомобилей"
   ]
  },
  {
   "cell_type": "markdown",
   "metadata": {},
   "source": [
    "Сервис по продаже автомобилей с пробегом «Не бит, не крашен» разрабатывает приложение для привлечения новых клиентов. В нём можно быстро узнать рыночную стоимость своего автомобиля. В вашем распоряжении исторические данные: технические характеристики, комплектации и цены автомобилей. Вам нужно построить модель для определения стоимости. \n",
    "\n",
    "Заказчику важны:\n",
    "\n",
    "- качество предсказания;\n",
    "- скорость предсказания;\n",
    "- время обучения."
   ]
  },
  {
   "cell_type": "markdown",
   "metadata": {},
   "source": [
    "## Описание данных\n",
    "\n",
    "**Признаки**\n",
    "* `DateCrawled` — дата скачивания анкеты из базы\n",
    "* `VehicleType` — тип автомобильного кузова\n",
    "* `RegistrationYear` — год регистрации автомобиля\n",
    "* `Gearbox` — тип коробки передач\n",
    "* `Power` — мощность (л. с.)\n",
    "* `Model` — модель автомобиля\n",
    "* `Kilometer` — пробег (км)\n",
    "* `RegistrationMonth` — месяц регистрации автомобиля\n",
    "* `FuelType` — тип топлива\n",
    "* `Brand` — марка автомобиля\n",
    "* `Repaired` — была машина в ремонте или нет\n",
    "* `DateCreated` — дата создания анкеты\n",
    "* `NumberOfPictures` — количество фотографий автомобиля\n",
    "* `PostalCode` — почтовый индекс владельца анкеты (пользователя)\n",
    "* `LastSeen` — дата последней активности пользователя\n",
    "\n",
    "**Целевой признак**\n",
    "* Price — цена (евро)"
   ]
  },
  {
   "cell_type": "markdown",
   "metadata": {},
   "source": [
    "## Подготовка данных"
   ]
  },
  {
   "cell_type": "markdown",
   "metadata": {},
   "source": [
    "### Установка библиотек и настройка окружения"
   ]
  },
  {
   "cell_type": "code",
   "execution_count": 1,
   "metadata": {},
   "outputs": [
    {
     "name": "stderr",
     "output_type": "stream",
     "text": [
      "c:\\Users\\42\\anaconda3\\lib\\site-packages\\dask\\dataframe\\_pyarrow_compat.py:23: UserWarning: You are using pyarrow version 11.0.0 which is known to be insecure. See https://www.cve.org/CVERecord?id=CVE-2023-47248 for further details. Please upgrade to pyarrow>=14.0.1 or install pyarrow-hotfix to patch your current version.\n",
      "  warnings.warn(\n"
     ]
    }
   ],
   "source": [
    "# Базовые библиотеки для работы с данными\n",
    "import pandas as pd\n",
    "import numpy as np\n",
    "\n",
    "# Визуализация\n",
    "import seaborn as sns\n",
    "import matplotlib.pyplot as plt\n",
    "\n",
    "# Модели и инструменты машинного обучения\n",
    "from sklearn.model_selection import train_test_split, RandomizedSearchCV, GridSearchCV, cross_val_score\n",
    "from sklearn.preprocessing import StandardScaler, OneHotEncoder, OrdinalEncoder, FunctionTransformer\n",
    "from sklearn.compose import ColumnTransformer\n",
    "from sklearn.pipeline import Pipeline\n",
    "from sklearn.impute import SimpleImputer\n",
    "from sklearn.metrics import make_scorer, mean_squared_error, f1_score\n",
    "from sklearn.tree import DecisionTreeClassifier\n",
    "from sklearn.ensemble import RandomForestClassifier, RandomForestRegressor\n",
    "from sklearn.linear_model import LinearRegression\n",
    "\n",
    "# Модели градиентного бустинга\n",
    "from catboost import CatBoostRegressor, CatBoostClassifier\n",
    "import lightgbm as lgb\n",
    "\n",
    "# Статистика и оптимизация\n",
    "import scipy.stats as stats\n",
    "from scipy.stats import randint as sp_randint, uniform, poisson\n",
    "from scipy.stats import randint\n",
    "# Анализ и интерпретация моделей\n",
    "import shap\n",
    "\n",
    "# Утилиты\n",
    "from IPython.display import display\n",
    "import warnings\n",
    "import time\n",
    "\n",
    "# Библиотеки для анализа данных\n",
    "import phik\n",
    "from phik import report\n",
    "\n",
    "# Игнорирование предупреждений\n",
    "warnings.filterwarnings('ignore')"
   ]
  },
  {
   "cell_type": "code",
   "execution_count": 2,
   "metadata": {},
   "outputs": [],
   "source": [
    "pd.set_option('display.min_rows', 15)\n",
    "pd.set_option('display.max_rows', 20)\n",
    "pd.options.display.float_format = '{:,.2f}'.format"
   ]
  },
  {
   "cell_type": "markdown",
   "metadata": {},
   "source": [
    "### Инициализация полезных функций"
   ]
  },
  {
   "cell_type": "code",
   "execution_count": 3,
   "metadata": {},
   "outputs": [],
   "source": [
    "# вначале работал с урезанным датасетом, чтобы быстрее все прогружалось\n",
    "def get_stratified_sample(data, stratify_column='column_for_stratification', sample_size=100000):\n",
    "    # Разделение данных на обучающий набор (который будет отброшен) и \"тестовый\" набор, который является нужной выборкой\n",
    "    _, data_sample = train_test_split(data, test_size=sample_size, stratify=data[stratify_column], random_state=42)\n",
    "    \n",
    "    return data_sample"
   ]
  },
  {
   "cell_type": "code",
   "execution_count": 4,
   "metadata": {},
   "outputs": [],
   "source": [
    "class DatasetSizeTracker:\n",
    "    def __init__(self):\n",
    "        self.initial_size = None\n",
    "        self.previous_size = None\n",
    "\n",
    "    def track(self, data):\n",
    "        # Если исходный размер не был установлен, запоминаем его и текущий размер как первоначальный\n",
    "        if self.initial_size is None:\n",
    "            self.initial_size = len(data)\n",
    "            self.previous_size = len(data)\n",
    "            loss_from_initial = 0\n",
    "            loss_from_previous = 0\n",
    "            loss_percent_overoll = 0\n",
    "        else:\n",
    "            # Считаем, сколько строк потеряно относительно исходного размера и с прошлого вызова\n",
    "            current_size = len(data)\n",
    "            loss_from_initial = self.initial_size - current_size\n",
    "            loss_from_previous = self.previous_size - current_size\n",
    "            loss_percent_overoll = ((self.initial_size - current_size)/self.initial_size)*100\n",
    "            # обновляем преддущий размер для следующего вызова\n",
    "            self.previous_size = current_size\n",
    "        \n",
    "        return {\"Потери от исходного размера\": loss_from_initial, \"Потери с предыдущего раза\": loss_from_previous,\n",
    "                'Общие потери в процентах' : loss_percent_overoll}\n",
    "\n",
    "# Создание экземпляра класса для трекинга \n",
    "tracker = DatasetSizeTracker()"
   ]
  },
  {
   "cell_type": "code",
   "execution_count": 5,
   "metadata": {},
   "outputs": [],
   "source": [
    "# функция информации по таблице\n",
    "def dataframe_summary(df, string):\n",
    "    # Вывод общей информации\n",
    "    print(\"Общая информация по таблице:\", string)\n",
    "    df.info()\n",
    "\n",
    "    print(\"\\n Статистическое описание:\")\n",
    "    display(df.describe().transpose())\n",
    "\n",
    "    print(\"\\nСлучайные примеры:\")\n",
    "    display(df.sample(5))\n",
    "\n",
    "    print(\"\\nКоличество строк и столбцов:\", df.shape)\n",
    "\n",
    "    print(\"\\nКоличество явных дубликатов:\", df.duplicated().sum())\n",
    "    print('')"
   ]
  },
  {
   "cell_type": "code",
   "execution_count": 6,
   "metadata": {},
   "outputs": [],
   "source": [
    "# функция поиска пропусков\n",
    "def analyze_missing_values(df, string):\n",
    "        total = df.isnull().sum().sort_values(ascending=False)\n",
    "        percent = (df.isnull().sum()/df.isnull().count()*100).sort_values(ascending=False)\n",
    "        missing_data = pd.concat([total, percent], axis=1, keys=['Total', 'Percent'])\n",
    "        missing_data = missing_data.query('Total > 0')\n",
    "\n",
    "        # Вывод информации о пропусках\n",
    "        print(f\"Пропуски в датафрейме {string}:\\n{missing_data}\\n\")\n",
    "\n",
    "        # Создание и отображение тепловой карты\n",
    "        plt.figure(figsize=(12, 8))\n",
    "        sns.heatmap(df.isnull(), cbar=False, yticklabels=False)\n",
    "        plt.title(f\"Heatmap пропусков для {string}\")\n",
    "        plt.show()"
   ]
  },
  {
   "cell_type": "code",
   "execution_count": 7,
   "metadata": {},
   "outputs": [],
   "source": [
    "# Функция для преобразования названий в змеиный регистр (snake_case) \n",
    "def to_snake_case(name): \n",
    "    s1 = name[0].lower() \n",
    "    for c in name[1:]: \n",
    "        if c.isupper(): \n",
    "            s1 += '_' \n",
    "            s1 += c.lower() \n",
    "        else: \n",
    "            s1 += c \n",
    "    return s1 \n",
    " "
   ]
  },
  {
   "cell_type": "code",
   "execution_count": 8,
   "metadata": {},
   "outputs": [],
   "source": [
    "def fill_missing_values_by_brand_and_model(data, column_name):\n",
    "    # Считаем самое частое значение для каждой группы 'brand' и 'model'\n",
    "    most_frequent_values = data.groupby(['brand', 'model'])[column_name].apply(lambda x: x.mode().iloc[0] if not x.mode().empty else None)\n",
    "    \n",
    "    # Функция для заполнения пропуска\n",
    "    def fill_value(row):\n",
    "        if pd.isnull(row[column_name]):\n",
    "            return most_frequent_values.get((row['brand'], row['model']), row[column_name])\n",
    "        else:\n",
    "            return row[column_name]\n",
    "\n",
    "    data[column_name] = data.apply(fill_value, axis=1)\n",
    "    \n",
    "    return data"
   ]
  },
  {
   "cell_type": "markdown",
   "metadata": {},
   "source": [
    "### Обзор данных, работа с дубликатами, пропусками и выбросами"
   ]
  },
  {
   "cell_type": "markdown",
   "metadata": {},
   "source": [
    "План работы:\n",
    "1) Анализ описательной статитстики по данным;\n",
    "2) Очистка явных дубликатов;\n",
    "3) Обработка пропусков;\n",
    "4) Обработка выбросов;\n",
    "5) Анализ визуальной статистики."
   ]
  },
  {
   "cell_type": "markdown",
   "metadata": {},
   "source": [
    "#### Обзор данных"
   ]
  },
  {
   "cell_type": "code",
   "execution_count": 9,
   "metadata": {},
   "outputs": [],
   "source": [
    "data = pd.read_csv('autos.csv')"
   ]
  },
  {
   "cell_type": "code",
   "execution_count": 10,
   "metadata": {},
   "outputs": [],
   "source": [
    "# Для использования функции, укажите DataFrame, колонку для стратификации и желаемый размер выборки:\n",
    "# data = get_stratified_sample(data, 'Brand', 150000)"
   ]
  },
  {
   "cell_type": "code",
   "execution_count": 11,
   "metadata": {},
   "outputs": [
    {
     "name": "stdout",
     "output_type": "stream",
     "text": [
      "Общая информация по таблице: Автомобили (data)\n",
      "<class 'pandas.core.frame.DataFrame'>\n",
      "RangeIndex: 354369 entries, 0 to 354368\n",
      "Data columns (total 16 columns):\n",
      " #   Column             Non-Null Count   Dtype \n",
      "---  ------             --------------   ----- \n",
      " 0   DateCrawled        354369 non-null  object\n",
      " 1   Price              354369 non-null  int64 \n",
      " 2   VehicleType        316879 non-null  object\n",
      " 3   RegistrationYear   354369 non-null  int64 \n",
      " 4   Gearbox            334536 non-null  object\n",
      " 5   Power              354369 non-null  int64 \n",
      " 6   Model              334664 non-null  object\n",
      " 7   Kilometer          354369 non-null  int64 \n",
      " 8   RegistrationMonth  354369 non-null  int64 \n",
      " 9   FuelType           321474 non-null  object\n",
      " 10  Brand              354369 non-null  object\n",
      " 11  Repaired           283215 non-null  object\n",
      " 12  DateCreated        354369 non-null  object\n",
      " 13  NumberOfPictures   354369 non-null  int64 \n",
      " 14  PostalCode         354369 non-null  int64 \n",
      " 15  LastSeen           354369 non-null  object\n",
      "dtypes: int64(7), object(9)\n",
      "memory usage: 43.3+ MB\n",
      "\n",
      " Статистическое описание:\n"
     ]
    },
    {
     "data": {
      "text/html": [
       "<div>\n",
       "<style scoped>\n",
       "    .dataframe tbody tr th:only-of-type {\n",
       "        vertical-align: middle;\n",
       "    }\n",
       "\n",
       "    .dataframe tbody tr th {\n",
       "        vertical-align: top;\n",
       "    }\n",
       "\n",
       "    .dataframe thead th {\n",
       "        text-align: right;\n",
       "    }\n",
       "</style>\n",
       "<table border=\"1\" class=\"dataframe\">\n",
       "  <thead>\n",
       "    <tr style=\"text-align: right;\">\n",
       "      <th></th>\n",
       "      <th>count</th>\n",
       "      <th>mean</th>\n",
       "      <th>std</th>\n",
       "      <th>min</th>\n",
       "      <th>25%</th>\n",
       "      <th>50%</th>\n",
       "      <th>75%</th>\n",
       "      <th>max</th>\n",
       "    </tr>\n",
       "  </thead>\n",
       "  <tbody>\n",
       "    <tr>\n",
       "      <th>Price</th>\n",
       "      <td>354,369.00</td>\n",
       "      <td>4,416.66</td>\n",
       "      <td>4,514.16</td>\n",
       "      <td>0.00</td>\n",
       "      <td>1,050.00</td>\n",
       "      <td>2,700.00</td>\n",
       "      <td>6,400.00</td>\n",
       "      <td>20,000.00</td>\n",
       "    </tr>\n",
       "    <tr>\n",
       "      <th>RegistrationYear</th>\n",
       "      <td>354,369.00</td>\n",
       "      <td>2,004.23</td>\n",
       "      <td>90.23</td>\n",
       "      <td>1,000.00</td>\n",
       "      <td>1,999.00</td>\n",
       "      <td>2,003.00</td>\n",
       "      <td>2,008.00</td>\n",
       "      <td>9,999.00</td>\n",
       "    </tr>\n",
       "    <tr>\n",
       "      <th>Power</th>\n",
       "      <td>354,369.00</td>\n",
       "      <td>110.09</td>\n",
       "      <td>189.85</td>\n",
       "      <td>0.00</td>\n",
       "      <td>69.00</td>\n",
       "      <td>105.00</td>\n",
       "      <td>143.00</td>\n",
       "      <td>20,000.00</td>\n",
       "    </tr>\n",
       "    <tr>\n",
       "      <th>Kilometer</th>\n",
       "      <td>354,369.00</td>\n",
       "      <td>128,211.17</td>\n",
       "      <td>37,905.34</td>\n",
       "      <td>5,000.00</td>\n",
       "      <td>125,000.00</td>\n",
       "      <td>150,000.00</td>\n",
       "      <td>150,000.00</td>\n",
       "      <td>150,000.00</td>\n",
       "    </tr>\n",
       "    <tr>\n",
       "      <th>RegistrationMonth</th>\n",
       "      <td>354,369.00</td>\n",
       "      <td>5.71</td>\n",
       "      <td>3.73</td>\n",
       "      <td>0.00</td>\n",
       "      <td>3.00</td>\n",
       "      <td>6.00</td>\n",
       "      <td>9.00</td>\n",
       "      <td>12.00</td>\n",
       "    </tr>\n",
       "    <tr>\n",
       "      <th>NumberOfPictures</th>\n",
       "      <td>354,369.00</td>\n",
       "      <td>0.00</td>\n",
       "      <td>0.00</td>\n",
       "      <td>0.00</td>\n",
       "      <td>0.00</td>\n",
       "      <td>0.00</td>\n",
       "      <td>0.00</td>\n",
       "      <td>0.00</td>\n",
       "    </tr>\n",
       "    <tr>\n",
       "      <th>PostalCode</th>\n",
       "      <td>354,369.00</td>\n",
       "      <td>50,508.69</td>\n",
       "      <td>25,783.10</td>\n",
       "      <td>1,067.00</td>\n",
       "      <td>30,165.00</td>\n",
       "      <td>49,413.00</td>\n",
       "      <td>71,083.00</td>\n",
       "      <td>99,998.00</td>\n",
       "    </tr>\n",
       "  </tbody>\n",
       "</table>\n",
       "</div>"
      ],
      "text/plain": [
       "                       count       mean       std      min        25%  \\\n",
       "Price             354,369.00   4,416.66  4,514.16     0.00   1,050.00   \n",
       "RegistrationYear  354,369.00   2,004.23     90.23 1,000.00   1,999.00   \n",
       "Power             354,369.00     110.09    189.85     0.00      69.00   \n",
       "Kilometer         354,369.00 128,211.17 37,905.34 5,000.00 125,000.00   \n",
       "RegistrationMonth 354,369.00       5.71      3.73     0.00       3.00   \n",
       "NumberOfPictures  354,369.00       0.00      0.00     0.00       0.00   \n",
       "PostalCode        354,369.00  50,508.69 25,783.10 1,067.00  30,165.00   \n",
       "\n",
       "                         50%        75%        max  \n",
       "Price               2,700.00   6,400.00  20,000.00  \n",
       "RegistrationYear    2,003.00   2,008.00   9,999.00  \n",
       "Power                 105.00     143.00  20,000.00  \n",
       "Kilometer         150,000.00 150,000.00 150,000.00  \n",
       "RegistrationMonth       6.00       9.00      12.00  \n",
       "NumberOfPictures        0.00       0.00       0.00  \n",
       "PostalCode         49,413.00  71,083.00  99,998.00  "
      ]
     },
     "metadata": {},
     "output_type": "display_data"
    },
    {
     "name": "stdout",
     "output_type": "stream",
     "text": [
      "\n",
      "Случайные примеры:\n"
     ]
    },
    {
     "data": {
      "text/html": [
       "<div>\n",
       "<style scoped>\n",
       "    .dataframe tbody tr th:only-of-type {\n",
       "        vertical-align: middle;\n",
       "    }\n",
       "\n",
       "    .dataframe tbody tr th {\n",
       "        vertical-align: top;\n",
       "    }\n",
       "\n",
       "    .dataframe thead th {\n",
       "        text-align: right;\n",
       "    }\n",
       "</style>\n",
       "<table border=\"1\" class=\"dataframe\">\n",
       "  <thead>\n",
       "    <tr style=\"text-align: right;\">\n",
       "      <th></th>\n",
       "      <th>DateCrawled</th>\n",
       "      <th>Price</th>\n",
       "      <th>VehicleType</th>\n",
       "      <th>RegistrationYear</th>\n",
       "      <th>Gearbox</th>\n",
       "      <th>Power</th>\n",
       "      <th>Model</th>\n",
       "      <th>Kilometer</th>\n",
       "      <th>RegistrationMonth</th>\n",
       "      <th>FuelType</th>\n",
       "      <th>Brand</th>\n",
       "      <th>Repaired</th>\n",
       "      <th>DateCreated</th>\n",
       "      <th>NumberOfPictures</th>\n",
       "      <th>PostalCode</th>\n",
       "      <th>LastSeen</th>\n",
       "    </tr>\n",
       "  </thead>\n",
       "  <tbody>\n",
       "    <tr>\n",
       "      <th>293023</th>\n",
       "      <td>2016-04-02 12:58:54</td>\n",
       "      <td>250</td>\n",
       "      <td>sedan</td>\n",
       "      <td>1996</td>\n",
       "      <td>manual</td>\n",
       "      <td>116</td>\n",
       "      <td>3er</td>\n",
       "      <td>150000</td>\n",
       "      <td>11</td>\n",
       "      <td>petrol</td>\n",
       "      <td>bmw</td>\n",
       "      <td>NaN</td>\n",
       "      <td>2016-04-02 00:00:00</td>\n",
       "      <td>0</td>\n",
       "      <td>64319</td>\n",
       "      <td>2016-04-02 12:58:54</td>\n",
       "    </tr>\n",
       "    <tr>\n",
       "      <th>353633</th>\n",
       "      <td>2016-03-23 23:55:21</td>\n",
       "      <td>2400</td>\n",
       "      <td>sedan</td>\n",
       "      <td>2007</td>\n",
       "      <td>manual</td>\n",
       "      <td>650</td>\n",
       "      <td>c2</td>\n",
       "      <td>150000</td>\n",
       "      <td>8</td>\n",
       "      <td>petrol</td>\n",
       "      <td>citroen</td>\n",
       "      <td>NaN</td>\n",
       "      <td>2016-03-23 00:00:00</td>\n",
       "      <td>0</td>\n",
       "      <td>45277</td>\n",
       "      <td>2016-03-27 01:15:17</td>\n",
       "    </tr>\n",
       "    <tr>\n",
       "      <th>220226</th>\n",
       "      <td>2016-03-25 18:46:48</td>\n",
       "      <td>2990</td>\n",
       "      <td>bus</td>\n",
       "      <td>2002</td>\n",
       "      <td>manual</td>\n",
       "      <td>116</td>\n",
       "      <td>sharan</td>\n",
       "      <td>150000</td>\n",
       "      <td>4</td>\n",
       "      <td>petrol</td>\n",
       "      <td>volkswagen</td>\n",
       "      <td>no</td>\n",
       "      <td>2016-03-25 00:00:00</td>\n",
       "      <td>0</td>\n",
       "      <td>54453</td>\n",
       "      <td>2016-04-07 00:17:30</td>\n",
       "    </tr>\n",
       "    <tr>\n",
       "      <th>66668</th>\n",
       "      <td>2016-03-22 19:50:52</td>\n",
       "      <td>1760</td>\n",
       "      <td>wagon</td>\n",
       "      <td>1999</td>\n",
       "      <td>manual</td>\n",
       "      <td>101</td>\n",
       "      <td>passat</td>\n",
       "      <td>150000</td>\n",
       "      <td>4</td>\n",
       "      <td>petrol</td>\n",
       "      <td>volkswagen</td>\n",
       "      <td>no</td>\n",
       "      <td>2016-03-22 00:00:00</td>\n",
       "      <td>0</td>\n",
       "      <td>48161</td>\n",
       "      <td>2016-03-25 12:17:51</td>\n",
       "    </tr>\n",
       "    <tr>\n",
       "      <th>209840</th>\n",
       "      <td>2016-03-26 18:40:10</td>\n",
       "      <td>5555</td>\n",
       "      <td>bus</td>\n",
       "      <td>2004</td>\n",
       "      <td>manual</td>\n",
       "      <td>116</td>\n",
       "      <td>sharan</td>\n",
       "      <td>150000</td>\n",
       "      <td>5</td>\n",
       "      <td>gasoline</td>\n",
       "      <td>volkswagen</td>\n",
       "      <td>no</td>\n",
       "      <td>2016-03-26 00:00:00</td>\n",
       "      <td>0</td>\n",
       "      <td>31515</td>\n",
       "      <td>2016-04-02 10:15:23</td>\n",
       "    </tr>\n",
       "  </tbody>\n",
       "</table>\n",
       "</div>"
      ],
      "text/plain": [
       "                DateCrawled  Price VehicleType  RegistrationYear Gearbox  \\\n",
       "293023  2016-04-02 12:58:54    250       sedan              1996  manual   \n",
       "353633  2016-03-23 23:55:21   2400       sedan              2007  manual   \n",
       "220226  2016-03-25 18:46:48   2990         bus              2002  manual   \n",
       "66668   2016-03-22 19:50:52   1760       wagon              1999  manual   \n",
       "209840  2016-03-26 18:40:10   5555         bus              2004  manual   \n",
       "\n",
       "        Power   Model  Kilometer  RegistrationMonth  FuelType       Brand  \\\n",
       "293023    116     3er     150000                 11    petrol         bmw   \n",
       "353633    650      c2     150000                  8    petrol     citroen   \n",
       "220226    116  sharan     150000                  4    petrol  volkswagen   \n",
       "66668     101  passat     150000                  4    petrol  volkswagen   \n",
       "209840    116  sharan     150000                  5  gasoline  volkswagen   \n",
       "\n",
       "       Repaired          DateCreated  NumberOfPictures  PostalCode  \\\n",
       "293023      NaN  2016-04-02 00:00:00                 0       64319   \n",
       "353633      NaN  2016-03-23 00:00:00                 0       45277   \n",
       "220226       no  2016-03-25 00:00:00                 0       54453   \n",
       "66668        no  2016-03-22 00:00:00                 0       48161   \n",
       "209840       no  2016-03-26 00:00:00                 0       31515   \n",
       "\n",
       "                   LastSeen  \n",
       "293023  2016-04-02 12:58:54  \n",
       "353633  2016-03-27 01:15:17  \n",
       "220226  2016-04-07 00:17:30  \n",
       "66668   2016-03-25 12:17:51  \n",
       "209840  2016-04-02 10:15:23  "
      ]
     },
     "metadata": {},
     "output_type": "display_data"
    },
    {
     "name": "stdout",
     "output_type": "stream",
     "text": [
      "\n",
      "Количество строк и столбцов: (354369, 16)\n",
      "\n",
      "Количество явных дубликатов: 4\n",
      "\n"
     ]
    }
   ],
   "source": [
    "dataframe_summary(data, 'Автомобили (data)')"
   ]
  },
  {
   "cell_type": "code",
   "execution_count": 12,
   "metadata": {},
   "outputs": [
    {
     "data": {
      "text/plain": [
       "{'Потери от исходного размера': 0,\n",
       " 'Потери с предыдущего раза': 0,\n",
       " 'Общие потери в процентах': 0}"
      ]
     },
     "execution_count": 12,
     "metadata": {},
     "output_type": "execute_result"
    }
   ],
   "source": [
    "tracker = DatasetSizeTracker()\n",
    "\n",
    "tracker.track(data)  # Посмотреть, сколько строк потеряно с исходного момента и с последнего вызова"
   ]
  },
  {
   "cell_type": "markdown",
   "metadata": {},
   "source": [
    "Изменим названия переменных, избавимся от дубликатов"
   ]
  },
  {
   "cell_type": "code",
   "execution_count": 13,
   "metadata": {},
   "outputs": [
    {
     "data": {
      "text/plain": [
       "Index(['date_crawled', 'price', 'vehicle_type', 'registration_year', 'gearbox',\n",
       "       'power', 'model', 'kilometer', 'registration_month', 'fuel_type',\n",
       "       'brand', 'repaired', 'date_created', 'number_of_pictures',\n",
       "       'postal_code', 'last_seen'],\n",
       "      dtype='object')"
      ]
     },
     "execution_count": 13,
     "metadata": {},
     "output_type": "execute_result"
    }
   ],
   "source": [
    "data.columns = [to_snake_case(name) for name in data.columns] \n",
    "data.columns"
   ]
  },
  {
   "cell_type": "code",
   "execution_count": 14,
   "metadata": {},
   "outputs": [],
   "source": [
    "# удалим явные дубликаты\n",
    "data.drop_duplicates(inplace=True)"
   ]
  },
  {
   "cell_type": "markdown",
   "metadata": {},
   "source": [
    "В данных есть объявления с ценой равной 0. Тк это целевой признак - менять нельзя, но лучше удалить строки с такой ценой."
   ]
  },
  {
   "cell_type": "code",
   "execution_count": 15,
   "metadata": {},
   "outputs": [
    {
     "name": "stdout",
     "output_type": "stream",
     "text": [
      "Сколько людей готовы \"подарить\" автомобиль: 10772\n",
      "Сколько людей готовы \"подарить\" автомобиль теперь: 0\n"
     ]
    }
   ],
   "source": [
    "print('Сколько людей готовы \"подарить\" автомобиль:',len(data.loc[data['price'] == 0]))\n",
    "data = data.loc[data['price'] != 0]\n",
    "print('Сколько людей готовы \"подарить\" автомобиль теперь:',len(data.loc[data['price'] == 0]))"
   ]
  },
  {
   "cell_type": "code",
   "execution_count": 16,
   "metadata": {},
   "outputs": [
    {
     "data": {
      "text/plain": [
       "{'Потери от исходного размера': 10776,\n",
       " 'Потери с предыдущего раза': 10776,\n",
       " 'Общие потери в процентах': 3.0408980469510594}"
      ]
     },
     "execution_count": 16,
     "metadata": {},
     "output_type": "execute_result"
    }
   ],
   "source": [
    "tracker.track(data) "
   ]
  },
  {
   "cell_type": "code",
   "execution_count": 17,
   "metadata": {},
   "outputs": [
    {
     "name": "stdout",
     "output_type": "stream",
     "text": [
      "Пропуски в датафрейме data:\n",
      "              Total  Percent\n",
      "repaired      65866    19.17\n",
      "vehicle_type  33750     9.82\n",
      "fuel_type     29459     8.57\n",
      "model         17521     5.10\n",
      "gearbox       17355     5.05\n",
      "\n"
     ]
    },
    {
     "data": {
      "image/png": "[encoded data removed]",
      "text/plain": [
       "<Figure size 1200x800 with 1 Axes>"
      ]
     },
     "metadata": {},
     "output_type": "display_data"
    }
   ],
   "source": [
    "analyze_missing_values(data, 'data')"
   ]
  },
  {
   "cell_type": "markdown",
   "metadata": {},
   "source": [
    "Избавимся от явных дубликатов, возможно, после обработки датасета и удаления ненужных переменных дубликатов станет больше."
   ]
  },
  {
   "cell_type": "code",
   "execution_count": 18,
   "metadata": {},
   "outputs": [],
   "source": [
    "data = data.drop(['date_crawled', 'registration_month', 'date_created', \n",
    "                  'number_of_pictures', 'postal_code', 'last_seen'], axis =1) "
   ]
  },
  {
   "cell_type": "code",
   "execution_count": 19,
   "metadata": {},
   "outputs": [
    {
     "data": {
      "text/plain": [
       "Index(['price', 'vehicle_type', 'registration_year', 'gearbox', 'power',\n",
       "       'model', 'kilometer', 'fuel_type', 'brand', 'repaired'],\n",
       "      dtype='object')"
      ]
     },
     "execution_count": 19,
     "metadata": {},
     "output_type": "execute_result"
    }
   ],
   "source": [
    "data.columns"
   ]
  },
  {
   "cell_type": "code",
   "execution_count": 20,
   "metadata": {},
   "outputs": [
    {
     "data": {
      "text/html": [
       "<div>\n",
       "<style scoped>\n",
       "    .dataframe tbody tr th:only-of-type {\n",
       "        vertical-align: middle;\n",
       "    }\n",
       "\n",
       "    .dataframe tbody tr th {\n",
       "        vertical-align: top;\n",
       "    }\n",
       "\n",
       "    .dataframe thead th {\n",
       "        text-align: right;\n",
       "    }\n",
       "</style>\n",
       "<table border=\"1\" class=\"dataframe\">\n",
       "  <thead>\n",
       "    <tr style=\"text-align: right;\">\n",
       "      <th></th>\n",
       "      <th>brand</th>\n",
       "      <th>model</th>\n",
       "      <th>vehicle_type</th>\n",
       "      <th>fuel_type</th>\n",
       "      <th>gearbox</th>\n",
       "      <th>power</th>\n",
       "      <th>repaired</th>\n",
       "      <th>price</th>\n",
       "    </tr>\n",
       "  </thead>\n",
       "  <tbody>\n",
       "    <tr>\n",
       "      <th>335483</th>\n",
       "      <td>volkswagen</td>\n",
       "      <td>golf</td>\n",
       "      <td>small</td>\n",
       "      <td>petrol</td>\n",
       "      <td>manual</td>\n",
       "      <td>59</td>\n",
       "      <td>no</td>\n",
       "      <td>300</td>\n",
       "    </tr>\n",
       "    <tr>\n",
       "      <th>178914</th>\n",
       "      <td>renault</td>\n",
       "      <td>twingo</td>\n",
       "      <td>small</td>\n",
       "      <td>petrol</td>\n",
       "      <td>manual</td>\n",
       "      <td>58</td>\n",
       "      <td>no</td>\n",
       "      <td>850</td>\n",
       "    </tr>\n",
       "    <tr>\n",
       "      <th>348461</th>\n",
       "      <td>mercedes_benz</td>\n",
       "      <td>c_klasse</td>\n",
       "      <td>sedan</td>\n",
       "      <td>gasoline</td>\n",
       "      <td>manual</td>\n",
       "      <td>136</td>\n",
       "      <td>no</td>\n",
       "      <td>10500</td>\n",
       "    </tr>\n",
       "    <tr>\n",
       "      <th>215959</th>\n",
       "      <td>bmw</td>\n",
       "      <td>3er</td>\n",
       "      <td>wagon</td>\n",
       "      <td>petrol</td>\n",
       "      <td>auto</td>\n",
       "      <td>150</td>\n",
       "      <td>no</td>\n",
       "      <td>1450</td>\n",
       "    </tr>\n",
       "    <tr>\n",
       "      <th>188565</th>\n",
       "      <td>audi</td>\n",
       "      <td>a3</td>\n",
       "      <td>sedan</td>\n",
       "      <td>petrol</td>\n",
       "      <td>manual</td>\n",
       "      <td>101</td>\n",
       "      <td>no</td>\n",
       "      <td>2199</td>\n",
       "    </tr>\n",
       "    <tr>\n",
       "      <th>262653</th>\n",
       "      <td>audi</td>\n",
       "      <td>a4</td>\n",
       "      <td>wagon</td>\n",
       "      <td>petrol</td>\n",
       "      <td>auto</td>\n",
       "      <td>0</td>\n",
       "      <td>no</td>\n",
       "      <td>4850</td>\n",
       "    </tr>\n",
       "    <tr>\n",
       "      <th>295082</th>\n",
       "      <td>mercedes_benz</td>\n",
       "      <td>e_klasse</td>\n",
       "      <td>wagon</td>\n",
       "      <td>NaN</td>\n",
       "      <td>manual</td>\n",
       "      <td>177</td>\n",
       "      <td>yes</td>\n",
       "      <td>4500</td>\n",
       "    </tr>\n",
       "    <tr>\n",
       "      <th>14872</th>\n",
       "      <td>bmw</td>\n",
       "      <td>3er</td>\n",
       "      <td>sedan</td>\n",
       "      <td>NaN</td>\n",
       "      <td>NaN</td>\n",
       "      <td>101</td>\n",
       "      <td>NaN</td>\n",
       "      <td>1180</td>\n",
       "    </tr>\n",
       "    <tr>\n",
       "      <th>320789</th>\n",
       "      <td>seat</td>\n",
       "      <td>exeo</td>\n",
       "      <td>sedan</td>\n",
       "      <td>gasoline</td>\n",
       "      <td>manual</td>\n",
       "      <td>143</td>\n",
       "      <td>no</td>\n",
       "      <td>8000</td>\n",
       "    </tr>\n",
       "    <tr>\n",
       "      <th>189868</th>\n",
       "      <td>renault</td>\n",
       "      <td>megane</td>\n",
       "      <td>sedan</td>\n",
       "      <td>petrol</td>\n",
       "      <td>manual</td>\n",
       "      <td>113</td>\n",
       "      <td>NaN</td>\n",
       "      <td>2499</td>\n",
       "    </tr>\n",
       "  </tbody>\n",
       "</table>\n",
       "</div>"
      ],
      "text/plain": [
       "                brand     model vehicle_type fuel_type gearbox  power  \\\n",
       "335483     volkswagen      golf        small    petrol  manual     59   \n",
       "178914        renault    twingo        small    petrol  manual     58   \n",
       "348461  mercedes_benz  c_klasse        sedan  gasoline  manual    136   \n",
       "215959            bmw       3er        wagon    petrol    auto    150   \n",
       "188565           audi        a3        sedan    petrol  manual    101   \n",
       "262653           audi        a4        wagon    petrol    auto      0   \n",
       "295082  mercedes_benz  e_klasse        wagon       NaN  manual    177   \n",
       "14872             bmw       3er        sedan       NaN     NaN    101   \n",
       "320789           seat      exeo        sedan  gasoline  manual    143   \n",
       "189868        renault    megane        sedan    petrol  manual    113   \n",
       "\n",
       "       repaired  price  \n",
       "335483       no    300  \n",
       "178914       no    850  \n",
       "348461       no  10500  \n",
       "215959       no   1450  \n",
       "188565       no   2199  \n",
       "262653       no   4850  \n",
       "295082      yes   4500  \n",
       "14872       NaN   1180  \n",
       "320789       no   8000  \n",
       "189868      NaN   2499  "
      ]
     },
     "metadata": {},
     "output_type": "display_data"
    }
   ],
   "source": [
    "display(data[['brand', 'model','vehicle_type', 'fuel_type', 'gearbox', 'power' ,'repaired','price']].sample(10))"
   ]
  },
  {
   "cell_type": "markdown",
   "metadata": {},
   "source": [
    "#### Работа с пропусками"
   ]
  },
  {
   "cell_type": "markdown",
   "metadata": {},
   "source": [
    "##### Пропуски в `model`"
   ]
  },
  {
   "cell_type": "markdown",
   "metadata": {},
   "source": [
    "Пропуски в `model`, на мой взгляд, критичны. Фактор модели может играть значительную роль в определении цены машины. Восполнить пропуски здесь никак, заглушка тоже может в данном случае не подойти или нарушить связи. "
   ]
  },
  {
   "cell_type": "code",
   "execution_count": 21,
   "metadata": {},
   "outputs": [
    {
     "data": {
      "text/plain": [
       "{'Потери от исходного размера': 28297,\n",
       " 'Потери с предыдущего раза': 17521,\n",
       " 'Общие потери в процентах': 7.985179290513561}"
      ]
     },
     "execution_count": 21,
     "metadata": {},
     "output_type": "execute_result"
    }
   ],
   "source": [
    "data = data.loc[~data['model'].isna()]\n",
    "tracker.track(data) "
   ]
  },
  {
   "cell_type": "markdown",
   "metadata": {},
   "source": [
    "##### Пропуски в `repaired`"
   ]
  },
  {
   "cell_type": "markdown",
   "metadata": {},
   "source": [
    "Пропусков в repaired довольно много, порядка 20% от изначального размера данных.\\\n",
    "Фактор довольно важный, при написании объявления обязательно указывать, если машина ремонтировалась. Возможно, значения в этом столбце пропущены, если машина не чинилась и продавцы оставляли незаполненным этот пропуск. \\\n",
    "Если качество модели будет неудовлетворительным, можно попробовать применить заглушку.\n"
   ]
  },
  {
   "cell_type": "code",
   "execution_count": 22,
   "metadata": {},
   "outputs": [
    {
     "data": {
      "text/plain": [
       "repaired\n",
       "no     235821\n",
       "yes     31958\n",
       "Name: count, dtype: int64"
      ]
     },
     "execution_count": 22,
     "metadata": {},
     "output_type": "execute_result"
    }
   ],
   "source": [
    "data.repaired.value_counts()"
   ]
  },
  {
   "cell_type": "code",
   "execution_count": 23,
   "metadata": {},
   "outputs": [],
   "source": [
    "data.repaired.fillna('no', inplace=True)"
   ]
  },
  {
   "cell_type": "code",
   "execution_count": 24,
   "metadata": {},
   "outputs": [
    {
     "name": "stdout",
     "output_type": "stream",
     "text": [
      "Пропуски в датафрейме data:\n",
      "              Total  Percent\n",
      "vehicle_type  28166     8.64\n",
      "fuel_type     23551     7.22\n",
      "gearbox       14270     4.38\n",
      "\n"
     ]
    },
    {
     "data": {
      "image/png": "[encoded data removed]",
      "text/plain": [
       "<Figure size 1200x800 with 1 Axes>"
      ]
     },
     "metadata": {},
     "output_type": "display_data"
    }
   ],
   "source": [
    "analyze_missing_values(data, 'data')"
   ]
  },
  {
   "cell_type": "markdown",
   "metadata": {},
   "source": [
    "Остались пропуски в `vehicle_type`,  `fuel_type` и `gearbox` - их заполним на основе данных из `model` и `brand`. "
   ]
  },
  {
   "cell_type": "code",
   "execution_count": 25,
   "metadata": {},
   "outputs": [
    {
     "name": "stdout",
     "output_type": "stream",
     "text": [
      "vehicle_type\n",
      "sedan          86339\n",
      "small          74907\n",
      "wagon          61703\n",
      "bus            27427\n",
      "convertible    19038\n",
      "coupe          14774\n",
      "suv            11067\n",
      "other           2651\n",
      "Name: count, dtype: int64\n",
      "fuel_type\n",
      "petrol      202251\n",
      "gasoline     94503\n",
      "lpg           4845\n",
      "cng            534\n",
      "hybrid         204\n",
      "other          119\n",
      "electric        65\n",
      "Name: count, dtype: int64\n",
      "gearbox\n",
      "manual    249988\n",
      "auto       61814\n",
      "Name: count, dtype: int64\n"
     ]
    }
   ],
   "source": [
    "print(data['vehicle_type'].value_counts())\n",
    "print(data['fuel_type'].value_counts())\n",
    "print(data['gearbox'].value_counts())"
   ]
  },
  {
   "cell_type": "code",
   "execution_count": 26,
   "metadata": {},
   "outputs": [],
   "source": [
    "# используем функцию для заполнения пропусков на основе сгрупиированных данных по brand и model\n",
    "missing_list = ['vehicle_type', 'fuel_type', 'gearbox']\n",
    "for i in missing_list:\n",
    "    data = fill_missing_values_by_brand_and_model(data, i)\n"
   ]
  },
  {
   "cell_type": "code",
   "execution_count": 27,
   "metadata": {},
   "outputs": [
    {
     "name": "stdout",
     "output_type": "stream",
     "text": [
      "vehicle_type\n",
      "sedan          97918\n",
      "small          83363\n",
      "wagon          64900\n",
      "bus            30942\n",
      "convertible    19283\n",
      "coupe          15323\n",
      "suv            11669\n",
      "other           2674\n",
      "Name: count, dtype: int64\n",
      "fuel_type\n",
      "petrol      221317\n",
      "gasoline     98988\n",
      "lpg           4845\n",
      "cng            534\n",
      "hybrid         204\n",
      "other          119\n",
      "electric        65\n",
      "Name: count, dtype: int64\n",
      "gearbox\n",
      "manual    262435\n",
      "auto       63637\n",
      "Name: count, dtype: int64\n"
     ]
    }
   ],
   "source": [
    "print(data['vehicle_type'].value_counts())\n",
    "print(data['fuel_type'].value_counts())\n",
    "print(data['gearbox'].value_counts())"
   ]
  },
  {
   "cell_type": "markdown",
   "metadata": {},
   "source": [
    "#### Обработка аномальных значений"
   ]
  },
  {
   "cell_type": "code",
   "execution_count": 28,
   "metadata": {},
   "outputs": [
    {
     "data": {
      "text/html": [
       "<div>\n",
       "<style scoped>\n",
       "    .dataframe tbody tr th:only-of-type {\n",
       "        vertical-align: middle;\n",
       "    }\n",
       "\n",
       "    .dataframe tbody tr th {\n",
       "        vertical-align: top;\n",
       "    }\n",
       "\n",
       "    .dataframe thead th {\n",
       "        text-align: right;\n",
       "    }\n",
       "</style>\n",
       "<table border=\"1\" class=\"dataframe\">\n",
       "  <thead>\n",
       "    <tr style=\"text-align: right;\">\n",
       "      <th></th>\n",
       "      <th>price</th>\n",
       "      <th>registration_year</th>\n",
       "      <th>power</th>\n",
       "      <th>kilometer</th>\n",
       "    </tr>\n",
       "  </thead>\n",
       "  <tbody>\n",
       "    <tr>\n",
       "      <th>count</th>\n",
       "      <td>326,072.00</td>\n",
       "      <td>326,072.00</td>\n",
       "      <td>326,072.00</td>\n",
       "      <td>326,072.00</td>\n",
       "    </tr>\n",
       "    <tr>\n",
       "      <th>mean</th>\n",
       "      <td>4,623.01</td>\n",
       "      <td>2,003.95</td>\n",
       "      <td>111.98</td>\n",
       "      <td>128,565.73</td>\n",
       "    </tr>\n",
       "    <tr>\n",
       "      <th>std</th>\n",
       "      <td>4,530.62</td>\n",
       "      <td>66.76</td>\n",
       "      <td>182.97</td>\n",
       "      <td>37,010.32</td>\n",
       "    </tr>\n",
       "    <tr>\n",
       "      <th>min</th>\n",
       "      <td>1.00</td>\n",
       "      <td>1,000.00</td>\n",
       "      <td>0.00</td>\n",
       "      <td>5,000.00</td>\n",
       "    </tr>\n",
       "    <tr>\n",
       "      <th>25%</th>\n",
       "      <td>1,200.00</td>\n",
       "      <td>1,999.00</td>\n",
       "      <td>71.00</td>\n",
       "      <td>125,000.00</td>\n",
       "    </tr>\n",
       "    <tr>\n",
       "      <th>50%</th>\n",
       "      <td>2,950.00</td>\n",
       "      <td>2,003.00</td>\n",
       "      <td>105.00</td>\n",
       "      <td>150,000.00</td>\n",
       "    </tr>\n",
       "    <tr>\n",
       "      <th>75%</th>\n",
       "      <td>6,649.00</td>\n",
       "      <td>2,008.00</td>\n",
       "      <td>143.00</td>\n",
       "      <td>150,000.00</td>\n",
       "    </tr>\n",
       "    <tr>\n",
       "      <th>max</th>\n",
       "      <td>20,000.00</td>\n",
       "      <td>9,999.00</td>\n",
       "      <td>20,000.00</td>\n",
       "      <td>150,000.00</td>\n",
       "    </tr>\n",
       "  </tbody>\n",
       "</table>\n",
       "</div>"
      ],
      "text/plain": [
       "           price  registration_year      power  kilometer\n",
       "count 326,072.00         326,072.00 326,072.00 326,072.00\n",
       "mean    4,623.01           2,003.95     111.98 128,565.73\n",
       "std     4,530.62              66.76     182.97  37,010.32\n",
       "min         1.00           1,000.00       0.00   5,000.00\n",
       "25%     1,200.00           1,999.00      71.00 125,000.00\n",
       "50%     2,950.00           2,003.00     105.00 150,000.00\n",
       "75%     6,649.00           2,008.00     143.00 150,000.00\n",
       "max    20,000.00           9,999.00  20,000.00 150,000.00"
      ]
     },
     "execution_count": 28,
     "metadata": {},
     "output_type": "execute_result"
    }
   ],
   "source": [
    "data.describe()"
   ]
  },
  {
   "cell_type": "code",
   "execution_count": 29,
   "metadata": {},
   "outputs": [
    {
     "data": {
      "image/png": "[encoded data removed]",
      "text/plain": [
       "<Figure size 1000x600 with 1 Axes>"
      ]
     },
     "metadata": {},
     "output_type": "display_data"
    }
   ],
   "source": [
    "sns.set(style=\"whitegrid\")\n",
    "\n",
    "# Создание графика распределения значений по годам\n",
    "plt.figure(figsize=(10, 6))\n",
    "sns.violinplot(data['registration_year'])\n",
    "\n",
    "plt.title('Распределение автомобилей по году регистрации') \n",
    "plt.xlabel('Год регистрации') \n",
    "plt.ylabel('Количество автомобилей') \n",
    "plt.xticks(rotation=45) \n",
    "\n",
    "plt.show() "
   ]
  },
  {
   "cell_type": "markdown",
   "metadata": {},
   "source": [
    "В данном столбце много выбросов, обработаем выбивающиеся значения. \\\n",
    "Границы отбора данных на изменение предлагаю определить такие:\n",
    " * Верхний потолок - 2024 год (машины из 2025года+ пока не производят, к сожалению не придумали)\n",
    " * Нижний потолок - машины старше 1980 года. Машин с более поздним годом выпуска совсем немного. "
   ]
  },
  {
   "cell_type": "code",
   "execution_count": 30,
   "metadata": {},
   "outputs": [
    {
     "name": "stdout",
     "output_type": "stream",
     "text": [
      "Строки с годом регистрации до 1980 или после 2024 составляют 0.76% от всего датасета.\n"
     ]
    }
   ],
   "source": [
    "print(f\"Строки с годом регистрации до 1980 или после 2024 составляют {(len(data[(data['registration_year'] < 1980) |  (data['registration_year'] > 2024)]) / len(data)) * 100:.2f}% от всего датасета.\")"
   ]
  },
  {
   "cell_type": "code",
   "execution_count": 31,
   "metadata": {},
   "outputs": [
    {
     "data": {
      "text/plain": [
       "{'Потери от исходного размера': 28297,\n",
       " 'Потери с предыдущего раза': 0,\n",
       " 'Общие потери в процентах': 7.985179290513561}"
      ]
     },
     "execution_count": 31,
     "metadata": {},
     "output_type": "execute_result"
    }
   ],
   "source": [
    "tracker.track(data) "
   ]
  },
  {
   "cell_type": "code",
   "execution_count": 32,
   "metadata": {},
   "outputs": [],
   "source": [
    "data = data[(data['registration_year'] >= 1985) & (data['registration_year'] <= 2024)]"
   ]
  },
  {
   "cell_type": "code",
   "execution_count": 33,
   "metadata": {},
   "outputs": [
    {
     "data": {
      "text/plain": [
       "{'Потери от исходного размера': 32323,\n",
       " 'Потери с предыдущего раза': 4026,\n",
       " 'Общие потери в процентах': 9.121283182219663}"
      ]
     },
     "execution_count": 33,
     "metadata": {},
     "output_type": "execute_result"
    }
   ],
   "source": [
    "tracker.track(data) "
   ]
  },
  {
   "cell_type": "code",
   "execution_count": 34,
   "metadata": {},
   "outputs": [
    {
     "data": {
      "image/png": "[encoded data removed]",
      "text/plain": [
       "<Figure size 1000x600 with 1 Axes>"
      ]
     },
     "metadata": {},
     "output_type": "display_data"
    }
   ],
   "source": [
    "sns.set(style=\"whitegrid\")\n",
    "plt.figure(figsize=(10, 6))\n",
    "sns.boxplot(data['registration_year'])\n",
    "plt.title('Распределение автомобилей по году регистрации')\n",
    "plt.xlabel('Год регистрации') \n",
    "plt.ylabel('Количество автомобилей') \n",
    "plt.xticks(rotation=45)\n",
    "plt.show() "
   ]
  },
  {
   "cell_type": "code",
   "execution_count": 35,
   "metadata": {},
   "outputs": [
    {
     "data": {
      "image/png": "[encoded data removed]",
      "text/plain": [
       "<Figure size 1000x600 with 1 Axes>"
      ]
     },
     "metadata": {},
     "output_type": "display_data"
    }
   ],
   "source": [
    "sns.set(style=\"whitegrid\")\n",
    "plt.figure(figsize=(10, 6))\n",
    "sns.boxplot(data['power'])\n",
    "plt.title('Распределение автомобилей по году регистрации')\n",
    "plt.xlabel('Год регистрации') \n",
    "plt.ylabel('Количество автомобилей') \n",
    "plt.xticks(rotation=45)\n",
    "plt.show() "
   ]
  },
  {
   "cell_type": "code",
   "execution_count": 36,
   "metadata": {},
   "outputs": [
    {
     "name": "stdout",
     "output_type": "stream",
     "text": [
      "Строки с слишком большой или малой мощностью составляют 10.11% от всего датасета.\n"
     ]
    }
   ],
   "source": [
    "print(f\"Строки с слишком большой или малой мощностью составляют {(len(data[(data['power'] < 45) |   (data['power'] > 450)]) / len(data)) * 100:.2f}% от всего датасета.\")"
   ]
  },
  {
   "cell_type": "code",
   "execution_count": 37,
   "metadata": {},
   "outputs": [],
   "source": [
    "data_grp = data.groupby(['brand', 'model', 'vehicle_type'])['power'].apply(lambda x: x.median())"
   ]
  },
  {
   "cell_type": "code",
   "execution_count": 38,
   "metadata": {},
   "outputs": [],
   "source": [
    "def replace_outliers(data, column_name):\n",
    "    # Считаем самое частое значение для каждой группы 'brand' и 'model'\n",
    "    most_frequent_values = data.groupby(['brand', 'model', 'vehicle_type'])[column_name].apply(lambda x: x.mode().iloc[0] if not x.mode().empty else None)\n",
    "    \n",
    "    # Функция для заполнения пропуска\n",
    "    def fill_value(row):\n",
    "        if row['power'] < 45 or row['power'] > 450:\n",
    "            return most_frequent_values.get((row['brand'], row['model'], row['vehicle_type']), row[column_name])\n",
    "        else:\n",
    "            return row[column_name]\n",
    "    \n",
    "    # Заполнение пропусков\n",
    "    data[column_name] = data.apply(fill_value, axis=1)\n",
    "\n",
    "    return data"
   ]
  },
  {
   "cell_type": "code",
   "execution_count": 39,
   "metadata": {},
   "outputs": [
    {
     "data": {
      "text/html": [
       "<div>\n",
       "<style scoped>\n",
       "    .dataframe tbody tr th:only-of-type {\n",
       "        vertical-align: middle;\n",
       "    }\n",
       "\n",
       "    .dataframe tbody tr th {\n",
       "        vertical-align: top;\n",
       "    }\n",
       "\n",
       "    .dataframe thead th {\n",
       "        text-align: right;\n",
       "    }\n",
       "</style>\n",
       "<table border=\"1\" class=\"dataframe\">\n",
       "  <thead>\n",
       "    <tr style=\"text-align: right;\">\n",
       "      <th></th>\n",
       "      <th>price</th>\n",
       "      <th>vehicle_type</th>\n",
       "      <th>registration_year</th>\n",
       "      <th>gearbox</th>\n",
       "      <th>power</th>\n",
       "      <th>model</th>\n",
       "      <th>kilometer</th>\n",
       "      <th>fuel_type</th>\n",
       "      <th>brand</th>\n",
       "      <th>repaired</th>\n",
       "    </tr>\n",
       "  </thead>\n",
       "  <tbody>\n",
       "    <tr>\n",
       "      <th>0</th>\n",
       "      <td>480</td>\n",
       "      <td>sedan</td>\n",
       "      <td>1993</td>\n",
       "      <td>manual</td>\n",
       "      <td>75</td>\n",
       "      <td>golf</td>\n",
       "      <td>150000</td>\n",
       "      <td>petrol</td>\n",
       "      <td>volkswagen</td>\n",
       "      <td>no</td>\n",
       "    </tr>\n",
       "    <tr>\n",
       "      <th>2</th>\n",
       "      <td>9800</td>\n",
       "      <td>suv</td>\n",
       "      <td>2004</td>\n",
       "      <td>auto</td>\n",
       "      <td>163</td>\n",
       "      <td>grand</td>\n",
       "      <td>125000</td>\n",
       "      <td>gasoline</td>\n",
       "      <td>jeep</td>\n",
       "      <td>no</td>\n",
       "    </tr>\n",
       "    <tr>\n",
       "      <th>3</th>\n",
       "      <td>1500</td>\n",
       "      <td>small</td>\n",
       "      <td>2001</td>\n",
       "      <td>manual</td>\n",
       "      <td>75</td>\n",
       "      <td>golf</td>\n",
       "      <td>150000</td>\n",
       "      <td>petrol</td>\n",
       "      <td>volkswagen</td>\n",
       "      <td>no</td>\n",
       "    </tr>\n",
       "    <tr>\n",
       "      <th>4</th>\n",
       "      <td>3600</td>\n",
       "      <td>small</td>\n",
       "      <td>2008</td>\n",
       "      <td>manual</td>\n",
       "      <td>69</td>\n",
       "      <td>fabia</td>\n",
       "      <td>90000</td>\n",
       "      <td>gasoline</td>\n",
       "      <td>skoda</td>\n",
       "      <td>no</td>\n",
       "    </tr>\n",
       "    <tr>\n",
       "      <th>5</th>\n",
       "      <td>650</td>\n",
       "      <td>sedan</td>\n",
       "      <td>1995</td>\n",
       "      <td>manual</td>\n",
       "      <td>102</td>\n",
       "      <td>3er</td>\n",
       "      <td>150000</td>\n",
       "      <td>petrol</td>\n",
       "      <td>bmw</td>\n",
       "      <td>yes</td>\n",
       "    </tr>\n",
       "    <tr>\n",
       "      <th>6</th>\n",
       "      <td>2200</td>\n",
       "      <td>convertible</td>\n",
       "      <td>2004</td>\n",
       "      <td>manual</td>\n",
       "      <td>109</td>\n",
       "      <td>2_reihe</td>\n",
       "      <td>150000</td>\n",
       "      <td>petrol</td>\n",
       "      <td>peugeot</td>\n",
       "      <td>no</td>\n",
       "    </tr>\n",
       "    <tr>\n",
       "      <th>8</th>\n",
       "      <td>14500</td>\n",
       "      <td>bus</td>\n",
       "      <td>2014</td>\n",
       "      <td>manual</td>\n",
       "      <td>125</td>\n",
       "      <td>c_max</td>\n",
       "      <td>30000</td>\n",
       "      <td>petrol</td>\n",
       "      <td>ford</td>\n",
       "      <td>no</td>\n",
       "    </tr>\n",
       "    <tr>\n",
       "      <th>...</th>\n",
       "      <td>...</td>\n",
       "      <td>...</td>\n",
       "      <td>...</td>\n",
       "      <td>...</td>\n",
       "      <td>...</td>\n",
       "      <td>...</td>\n",
       "      <td>...</td>\n",
       "      <td>...</td>\n",
       "      <td>...</td>\n",
       "      <td>...</td>\n",
       "    </tr>\n",
       "    <tr>\n",
       "      <th>354360</th>\n",
       "      <td>3999</td>\n",
       "      <td>wagon</td>\n",
       "      <td>2005</td>\n",
       "      <td>manual</td>\n",
       "      <td>150</td>\n",
       "      <td>3er</td>\n",
       "      <td>150000</td>\n",
       "      <td>gasoline</td>\n",
       "      <td>bmw</td>\n",
       "      <td>no</td>\n",
       "    </tr>\n",
       "    <tr>\n",
       "      <th>354361</th>\n",
       "      <td>5250</td>\n",
       "      <td>wagon</td>\n",
       "      <td>2016</td>\n",
       "      <td>auto</td>\n",
       "      <td>150</td>\n",
       "      <td>159</td>\n",
       "      <td>150000</td>\n",
       "      <td>gasoline</td>\n",
       "      <td>alfa_romeo</td>\n",
       "      <td>no</td>\n",
       "    </tr>\n",
       "    <tr>\n",
       "      <th>354362</th>\n",
       "      <td>3200</td>\n",
       "      <td>sedan</td>\n",
       "      <td>2004</td>\n",
       "      <td>manual</td>\n",
       "      <td>225</td>\n",
       "      <td>leon</td>\n",
       "      <td>150000</td>\n",
       "      <td>petrol</td>\n",
       "      <td>seat</td>\n",
       "      <td>yes</td>\n",
       "    </tr>\n",
       "    <tr>\n",
       "      <th>354363</th>\n",
       "      <td>1150</td>\n",
       "      <td>bus</td>\n",
       "      <td>2000</td>\n",
       "      <td>manual</td>\n",
       "      <td>125</td>\n",
       "      <td>zafira</td>\n",
       "      <td>150000</td>\n",
       "      <td>petrol</td>\n",
       "      <td>opel</td>\n",
       "      <td>no</td>\n",
       "    </tr>\n",
       "    <tr>\n",
       "      <th>354366</th>\n",
       "      <td>1199</td>\n",
       "      <td>convertible</td>\n",
       "      <td>2000</td>\n",
       "      <td>auto</td>\n",
       "      <td>101</td>\n",
       "      <td>fortwo</td>\n",
       "      <td>125000</td>\n",
       "      <td>petrol</td>\n",
       "      <td>smart</td>\n",
       "      <td>no</td>\n",
       "    </tr>\n",
       "    <tr>\n",
       "      <th>354367</th>\n",
       "      <td>9200</td>\n",
       "      <td>bus</td>\n",
       "      <td>1996</td>\n",
       "      <td>manual</td>\n",
       "      <td>102</td>\n",
       "      <td>transporter</td>\n",
       "      <td>150000</td>\n",
       "      <td>gasoline</td>\n",
       "      <td>volkswagen</td>\n",
       "      <td>no</td>\n",
       "    </tr>\n",
       "    <tr>\n",
       "      <th>354368</th>\n",
       "      <td>3400</td>\n",
       "      <td>wagon</td>\n",
       "      <td>2002</td>\n",
       "      <td>manual</td>\n",
       "      <td>100</td>\n",
       "      <td>golf</td>\n",
       "      <td>150000</td>\n",
       "      <td>gasoline</td>\n",
       "      <td>volkswagen</td>\n",
       "      <td>no</td>\n",
       "    </tr>\n",
       "  </tbody>\n",
       "</table>\n",
       "<p>322046 rows × 10 columns</p>\n",
       "</div>"
      ],
      "text/plain": [
       "        price vehicle_type  registration_year gearbox  power        model  \\\n",
       "0         480        sedan               1993  manual     75         golf   \n",
       "2        9800          suv               2004    auto    163        grand   \n",
       "3        1500        small               2001  manual     75         golf   \n",
       "4        3600        small               2008  manual     69        fabia   \n",
       "5         650        sedan               1995  manual    102          3er   \n",
       "6        2200  convertible               2004  manual    109      2_reihe   \n",
       "8       14500          bus               2014  manual    125        c_max   \n",
       "...       ...          ...                ...     ...    ...          ...   \n",
       "354360   3999        wagon               2005  manual    150          3er   \n",
       "354361   5250        wagon               2016    auto    150          159   \n",
       "354362   3200        sedan               2004  manual    225         leon   \n",
       "354363   1150          bus               2000  manual    125       zafira   \n",
       "354366   1199  convertible               2000    auto    101       fortwo   \n",
       "354367   9200          bus               1996  manual    102  transporter   \n",
       "354368   3400        wagon               2002  manual    100         golf   \n",
       "\n",
       "        kilometer fuel_type       brand repaired  \n",
       "0          150000    petrol  volkswagen       no  \n",
       "2          125000  gasoline        jeep       no  \n",
       "3          150000    petrol  volkswagen       no  \n",
       "4           90000  gasoline       skoda       no  \n",
       "5          150000    petrol         bmw      yes  \n",
       "6          150000    petrol     peugeot       no  \n",
       "8           30000    petrol        ford       no  \n",
       "...           ...       ...         ...      ...  \n",
       "354360     150000  gasoline         bmw       no  \n",
       "354361     150000  gasoline  alfa_romeo       no  \n",
       "354362     150000    petrol        seat      yes  \n",
       "354363     150000    petrol        opel       no  \n",
       "354366     125000    petrol       smart       no  \n",
       "354367     150000  gasoline  volkswagen       no  \n",
       "354368     150000  gasoline  volkswagen       no  \n",
       "\n",
       "[322046 rows x 10 columns]"
      ]
     },
     "execution_count": 39,
     "metadata": {},
     "output_type": "execute_result"
    }
   ],
   "source": [
    "replace_outliers(data, 'power')"
   ]
  },
  {
   "cell_type": "code",
   "execution_count": 40,
   "metadata": {},
   "outputs": [
    {
     "data": {
      "text/plain": [
       "{'Потери от исходного размера': 35164,\n",
       " 'Потери с предыдущего раза': 2841,\n",
       " 'Общие потери в процентах': 9.922989877782763}"
      ]
     },
     "execution_count": 40,
     "metadata": {},
     "output_type": "execute_result"
    }
   ],
   "source": [
    "data = data[(data['power'] <= 450) & (data['power'] >= 45)]\n",
    "\n",
    "tracker.track(data) "
   ]
  },
  {
   "cell_type": "code",
   "execution_count": 41,
   "metadata": {},
   "outputs": [
    {
     "data": {
      "image/png": "[encoded data removed]",
      "text/plain": [
       "<Figure size 1000x600 with 1 Axes>"
      ]
     },
     "metadata": {},
     "output_type": "display_data"
    }
   ],
   "source": [
    "replace_outliers(data, 'power')\n",
    "sns.set(style=\"whitegrid\")\n",
    "plt.figure(figsize=(10, 6))\n",
    "sns.boxplot(data['power'])\n",
    "plt.title('Распределение автомобилей по году регистрации')\n",
    "plt.xlabel('Год регистрации') \n",
    "plt.ylabel('Количество автомобилей') \n",
    "plt.xticks(rotation=45)\n",
    "plt.show() "
   ]
  },
  {
   "cell_type": "code",
   "execution_count": 42,
   "metadata": {},
   "outputs": [
    {
     "name": "stdout",
     "output_type": "stream",
     "text": [
      "Общая информация по таблице: data\n",
      "<class 'pandas.core.frame.DataFrame'>\n",
      "Index: 319205 entries, 0 to 354368\n",
      "Data columns (total 10 columns):\n",
      " #   Column             Non-Null Count   Dtype \n",
      "---  ------             --------------   ----- \n",
      " 0   price              319205 non-null  int64 \n",
      " 1   vehicle_type       319205 non-null  object\n",
      " 2   registration_year  319205 non-null  int64 \n",
      " 3   gearbox            319205 non-null  object\n",
      " 4   power              319205 non-null  int64 \n",
      " 5   model              319205 non-null  object\n",
      " 6   kilometer          319205 non-null  int64 \n",
      " 7   fuel_type          319205 non-null  object\n",
      " 8   brand              319205 non-null  object\n",
      " 9   repaired           319205 non-null  object\n",
      "dtypes: int64(4), object(6)\n",
      "memory usage: 26.8+ MB\n",
      "\n",
      " Статистическое описание:\n"
     ]
    },
    {
     "data": {
      "text/html": [
       "<div>\n",
       "<style scoped>\n",
       "    .dataframe tbody tr th:only-of-type {\n",
       "        vertical-align: middle;\n",
       "    }\n",
       "\n",
       "    .dataframe tbody tr th {\n",
       "        vertical-align: top;\n",
       "    }\n",
       "\n",
       "    .dataframe thead th {\n",
       "        text-align: right;\n",
       "    }\n",
       "</style>\n",
       "<table border=\"1\" class=\"dataframe\">\n",
       "  <thead>\n",
       "    <tr style=\"text-align: right;\">\n",
       "      <th></th>\n",
       "      <th>count</th>\n",
       "      <th>mean</th>\n",
       "      <th>std</th>\n",
       "      <th>min</th>\n",
       "      <th>25%</th>\n",
       "      <th>50%</th>\n",
       "      <th>75%</th>\n",
       "      <th>max</th>\n",
       "    </tr>\n",
       "  </thead>\n",
       "  <tbody>\n",
       "    <tr>\n",
       "      <th>price</th>\n",
       "      <td>319,205.00</td>\n",
       "      <td>4,620.53</td>\n",
       "      <td>4,525.41</td>\n",
       "      <td>1.00</td>\n",
       "      <td>1,200.00</td>\n",
       "      <td>2,950.00</td>\n",
       "      <td>6,600.00</td>\n",
       "      <td>20,000.00</td>\n",
       "    </tr>\n",
       "    <tr>\n",
       "      <th>registration_year</th>\n",
       "      <td>319,205.00</td>\n",
       "      <td>2,003.64</td>\n",
       "      <td>6.24</td>\n",
       "      <td>1,985.00</td>\n",
       "      <td>1,999.00</td>\n",
       "      <td>2,003.00</td>\n",
       "      <td>2,008.00</td>\n",
       "      <td>2,019.00</td>\n",
       "    </tr>\n",
       "    <tr>\n",
       "      <th>power</th>\n",
       "      <td>319,205.00</td>\n",
       "      <td>118.96</td>\n",
       "      <td>51.93</td>\n",
       "      <td>45.00</td>\n",
       "      <td>75.00</td>\n",
       "      <td>110.00</td>\n",
       "      <td>147.00</td>\n",
       "      <td>450.00</td>\n",
       "    </tr>\n",
       "    <tr>\n",
       "      <th>kilometer</th>\n",
       "      <td>319,205.00</td>\n",
       "      <td>129,039.33</td>\n",
       "      <td>36,481.35</td>\n",
       "      <td>5,000.00</td>\n",
       "      <td>125,000.00</td>\n",
       "      <td>150,000.00</td>\n",
       "      <td>150,000.00</td>\n",
       "      <td>150,000.00</td>\n",
       "    </tr>\n",
       "  </tbody>\n",
       "</table>\n",
       "</div>"
      ],
      "text/plain": [
       "                       count       mean       std      min        25%  \\\n",
       "price             319,205.00   4,620.53  4,525.41     1.00   1,200.00   \n",
       "registration_year 319,205.00   2,003.64      6.24 1,985.00   1,999.00   \n",
       "power             319,205.00     118.96     51.93    45.00      75.00   \n",
       "kilometer         319,205.00 129,039.33 36,481.35 5,000.00 125,000.00   \n",
       "\n",
       "                         50%        75%        max  \n",
       "price               2,950.00   6,600.00  20,000.00  \n",
       "registration_year   2,003.00   2,008.00   2,019.00  \n",
       "power                 110.00     147.00     450.00  \n",
       "kilometer         150,000.00 150,000.00 150,000.00  "
      ]
     },
     "metadata": {},
     "output_type": "display_data"
    },
    {
     "name": "stdout",
     "output_type": "stream",
     "text": [
      "\n",
      "Случайные примеры:\n"
     ]
    },
    {
     "data": {
      "text/html": [
       "<div>\n",
       "<style scoped>\n",
       "    .dataframe tbody tr th:only-of-type {\n",
       "        vertical-align: middle;\n",
       "    }\n",
       "\n",
       "    .dataframe tbody tr th {\n",
       "        vertical-align: top;\n",
       "    }\n",
       "\n",
       "    .dataframe thead th {\n",
       "        text-align: right;\n",
       "    }\n",
       "</style>\n",
       "<table border=\"1\" class=\"dataframe\">\n",
       "  <thead>\n",
       "    <tr style=\"text-align: right;\">\n",
       "      <th></th>\n",
       "      <th>price</th>\n",
       "      <th>vehicle_type</th>\n",
       "      <th>registration_year</th>\n",
       "      <th>gearbox</th>\n",
       "      <th>power</th>\n",
       "      <th>model</th>\n",
       "      <th>kilometer</th>\n",
       "      <th>fuel_type</th>\n",
       "      <th>brand</th>\n",
       "      <th>repaired</th>\n",
       "    </tr>\n",
       "  </thead>\n",
       "  <tbody>\n",
       "    <tr>\n",
       "      <th>163716</th>\n",
       "      <td>1790</td>\n",
       "      <td>sedan</td>\n",
       "      <td>1990</td>\n",
       "      <td>manual</td>\n",
       "      <td>179</td>\n",
       "      <td>other</td>\n",
       "      <td>150000</td>\n",
       "      <td>petrol</td>\n",
       "      <td>mercedes_benz</td>\n",
       "      <td>no</td>\n",
       "    </tr>\n",
       "    <tr>\n",
       "      <th>177570</th>\n",
       "      <td>500</td>\n",
       "      <td>small</td>\n",
       "      <td>1997</td>\n",
       "      <td>manual</td>\n",
       "      <td>50</td>\n",
       "      <td>polo</td>\n",
       "      <td>150000</td>\n",
       "      <td>petrol</td>\n",
       "      <td>volkswagen</td>\n",
       "      <td>yes</td>\n",
       "    </tr>\n",
       "    <tr>\n",
       "      <th>117754</th>\n",
       "      <td>4899</td>\n",
       "      <td>small</td>\n",
       "      <td>2007</td>\n",
       "      <td>manual</td>\n",
       "      <td>65</td>\n",
       "      <td>other</td>\n",
       "      <td>70000</td>\n",
       "      <td>petrol</td>\n",
       "      <td>fiat</td>\n",
       "      <td>no</td>\n",
       "    </tr>\n",
       "    <tr>\n",
       "      <th>59104</th>\n",
       "      <td>10500</td>\n",
       "      <td>small</td>\n",
       "      <td>2013</td>\n",
       "      <td>manual</td>\n",
       "      <td>105</td>\n",
       "      <td>500</td>\n",
       "      <td>10000</td>\n",
       "      <td>petrol</td>\n",
       "      <td>fiat</td>\n",
       "      <td>no</td>\n",
       "    </tr>\n",
       "    <tr>\n",
       "      <th>62213</th>\n",
       "      <td>700</td>\n",
       "      <td>small</td>\n",
       "      <td>2002</td>\n",
       "      <td>manual</td>\n",
       "      <td>60</td>\n",
       "      <td>micra</td>\n",
       "      <td>150000</td>\n",
       "      <td>petrol</td>\n",
       "      <td>nissan</td>\n",
       "      <td>no</td>\n",
       "    </tr>\n",
       "  </tbody>\n",
       "</table>\n",
       "</div>"
      ],
      "text/plain": [
       "        price vehicle_type  registration_year gearbox  power  model  \\\n",
       "163716   1790        sedan               1990  manual    179  other   \n",
       "177570    500        small               1997  manual     50   polo   \n",
       "117754   4899        small               2007  manual     65  other   \n",
       "59104   10500        small               2013  manual    105    500   \n",
       "62213     700        small               2002  manual     60  micra   \n",
       "\n",
       "        kilometer fuel_type          brand repaired  \n",
       "163716     150000    petrol  mercedes_benz       no  \n",
       "177570     150000    petrol     volkswagen      yes  \n",
       "117754      70000    petrol           fiat       no  \n",
       "59104       10000    petrol           fiat       no  \n",
       "62213      150000    petrol         nissan       no  "
      ]
     },
     "metadata": {},
     "output_type": "display_data"
    },
    {
     "name": "stdout",
     "output_type": "stream",
     "text": [
      "\n",
      "Количество строк и столбцов: (319205, 10)\n",
      "\n",
      "Количество явных дубликатов: 56647\n",
      "\n"
     ]
    }
   ],
   "source": [
    "dataframe_summary(data, 'data')"
   ]
  },
  {
   "cell_type": "code",
   "execution_count": 43,
   "metadata": {},
   "outputs": [
    {
     "data": {
      "text/plain": [
       "array(['petrol', 'gasoline', 'lpg', 'other', 'hybrid', 'cng', 'electric'],\n",
       "      dtype=object)"
      ]
     },
     "execution_count": 43,
     "metadata": {},
     "output_type": "execute_result"
    }
   ],
   "source": [
    "data.fuel_type\t.unique()"
   ]
  },
  {
   "cell_type": "markdown",
   "metadata": {},
   "source": [
    "Для оптимизации рабочих процессов компиьютера предлагаю уменьшить размерность данных где это возможно:\n",
    "1) Можно перевести столбцы repaired и gearbox из разряда категориального в факторный, выразив как 1 и 0. \n",
    "2) Затем можно провести downсast всех числовых столбцов."
   ]
  },
  {
   "cell_type": "code",
   "execution_count": 44,
   "metadata": {},
   "outputs": [],
   "source": [
    "# Переименование столбца 'repaired' в 'is_repaired'\n",
    "data.rename(columns={'repaired': 'is_repaired'}, inplace=True)\n",
    "\n",
    "# Замена значений 'no' на 0 и 'yes' на 1 в столбце 'is_repaired'\n",
    "data['is_repaired'] = data['is_repaired'].map({'no': 0, 'yes': 1})"
   ]
  },
  {
   "cell_type": "code",
   "execution_count": 45,
   "metadata": {},
   "outputs": [],
   "source": [
    "# Переименование столбца 'gearbox' в 'is_automatic'\n",
    "data.rename(columns={'gearbox': 'is_automatic'}, inplace=True)\n",
    "\n",
    "# Замена значений 'manual' на 0 и 'auto' на 1 в столбце 'is_automatic'\n",
    "data['is_automatic'] = data['is_automatic'].map({'manual': 0, 'auto': 1})"
   ]
  },
  {
   "cell_type": "code",
   "execution_count": 46,
   "metadata": {},
   "outputs": [],
   "source": [
    "numeric_cols = data.select_dtypes(include=['int64', 'float64']).columns\n",
    "\n",
    "# Применяем downcast для каждого числового столбца\n",
    "for col in numeric_cols:\n",
    "    if data[col].dtype == 'int64':\n",
    "        data[col] = pd.to_numeric(data[col], downcast='integer')  # Downcast целочисленных значений\n",
    "    elif data[col].dtype == 'float64':\n",
    "        data[col] = pd.to_numeric(data[col], downcast='float')"
   ]
  },
  {
   "cell_type": "code",
   "execution_count": 47,
   "metadata": {},
   "outputs": [
    {
     "name": "stdout",
     "output_type": "stream",
     "text": [
      "<class 'pandas.core.frame.DataFrame'>\n",
      "Index: 319205 entries, 0 to 354368\n",
      "Data columns (total 10 columns):\n",
      " #   Column             Non-Null Count   Dtype \n",
      "---  ------             --------------   ----- \n",
      " 0   price              319205 non-null  int16 \n",
      " 1   vehicle_type       319205 non-null  object\n",
      " 2   registration_year  319205 non-null  int16 \n",
      " 3   is_automatic       319205 non-null  int8  \n",
      " 4   power              319205 non-null  int16 \n",
      " 5   model              319205 non-null  object\n",
      " 6   kilometer          319205 non-null  int32 \n",
      " 7   fuel_type          319205 non-null  object\n",
      " 8   brand              319205 non-null  object\n",
      " 9   is_repaired        319205 non-null  int8  \n",
      "dtypes: int16(3), int32(1), int8(2), object(4)\n",
      "memory usage: 15.8+ MB\n"
     ]
    }
   ],
   "source": [
    "data.info()"
   ]
  },
  {
   "cell_type": "markdown",
   "metadata": {},
   "source": [
    "Удалось снизить потребление памяти на 10 MB"
   ]
  },
  {
   "cell_type": "markdown",
   "metadata": {},
   "source": [
    "## Обучение моделей"
   ]
  },
  {
   "cell_type": "markdown",
   "metadata": {},
   "source": [
    "Разобъем данные на тренировочную и тестовую выборки:"
   ]
  },
  {
   "cell_type": "code",
   "execution_count": 49,
   "metadata": {},
   "outputs": [
    {
     "name": "stdout",
     "output_type": "stream",
     "text": [
      "Тренировочная выборка: X_train: (255364, 9), y_train: (255364,)\n",
      "Тестовая выборка: X_test: (63841, 9), y_test: (63841,)\n"
     ]
    }
   ],
   "source": [
    "X = data.drop('price', axis=1)  # Входные признаки (все кроме 'price')\n",
    "y = data['price']  # Целевая переменная\n",
    "\n",
    "# Разбиение на тренировочную и тестовую выборки с соотношением 80% к 20%\n",
    "X_train, X_test, y_train, y_test = train_test_split(X, y, test_size=0.2, random_state=42)\n",
    "\n",
    "# Вывод размеров полученных выборок для проверки\n",
    "print(f\"Тренировочная выборка: X_train: {X_train.shape}, y_train: {y_train.shape}\")\n",
    "print(f\"Тестовая выборка: X_test: {X_test.shape}, y_test: {y_test.shape}\")"
   ]
  },
  {
   "cell_type": "markdown",
   "metadata": {},
   "source": [
    "Зададим названия переменных"
   ]
  },
  {
   "cell_type": "code",
   "execution_count": 50,
   "metadata": {},
   "outputs": [],
   "source": [
    "numeric_features = ['registration_year', 'is_automatic', 'power', 'is_repaired']\n",
    "categorical_features = list(data.select_dtypes(include=['object']).columns)\n",
    "# Определение колонок для каждого типа кодирования\n",
    "ohe_features = ['vehicle_type', 'fuel_type']\n",
    "ordinal_features = ['brand', 'model']"
   ]
  },
  {
   "cell_type": "markdown",
   "metadata": {},
   "source": [
    "Настроим пайплайн последовательной трасформации данных"
   ]
  },
  {
   "cell_type": "code",
   "execution_count": 51,
   "metadata": {},
   "outputs": [],
   "source": [
    "# Создание трансформера для числовых переменных\n",
    "numeric_transformer = Pipeline(steps=[\n",
    "    ('scaler', StandardScaler())\n",
    "])\n",
    "\n",
    "# Определение колонок для каждого типа кодирования\n",
    "ohe_features = ['vehicle_type', 'fuel_type']\n",
    "ordinal_features = ['brand', 'model']\n",
    "\n",
    "# Создание трансформеров\n",
    "ohe_transformer = Pipeline(steps=[\n",
    "    ('onehot', OneHotEncoder(handle_unknown='ignore'))\n",
    "])\n",
    "\n",
    "ordinal_transformer = Pipeline(steps=[\n",
    "    ('ordinal', OrdinalEncoder(handle_unknown='use_encoded_value', unknown_value=-1))\n",
    "])\n",
    "\n",
    "# Создание препроцессора, который применяет ohe и oe\n",
    "preprocessor1 = ColumnTransformer(\n",
    "    transformers=[\n",
    "        ('num', numeric_transformer, numeric_features),\n",
    "        ('ohe', ohe_transformer, ohe_features),\n",
    "        ('ordinal', ordinal_transformer, ordinal_features)\n",
    "    ])\n",
    "\n",
    "# Создание препроцессора, который применяет ohe\n",
    "preprocessor = ColumnTransformer(\n",
    "    transformers=[\n",
    "        ('num', numeric_transformer, numeric_features),\n",
    "        ('cat', ohe_transformer, categorical_features)])"
   ]
  },
  {
   "cell_type": "markdown",
   "metadata": {},
   "source": [
    "#### Model 1 RandomizedSearchCV + lgb.LGBMRegressor"
   ]
  },
  {
   "cell_type": "code",
   "execution_count": 52,
   "metadata": {},
   "outputs": [],
   "source": [
    "# Параметры\n",
    "param_dist = {\n",
    "    'model__n_estimators': sp_randint(50, 150),\n",
    "    'model__learning_rate': uniform(0.1, 0.2),\n",
    "    'model__num_leaves': sp_randint(20, 150),\n",
    "    'model__max_depth': sp_randint(-1, 10),\n",
    "}"
   ]
  },
  {
   "cell_type": "code",
   "execution_count": 53,
   "metadata": {},
   "outputs": [
    {
     "name": "stdout",
     "output_type": "stream",
     "text": [
      "Fitting 3 folds for each of 50 candidates, totalling 150 fits\n"
     ]
    },
    {
     "name": "stdout",
     "output_type": "stream",
     "text": [
      "[LightGBM] [Info] Auto-choosing row-wise multi-threading, the overhead of testing was 0.004713 seconds.\n",
      "You can set `force_row_wise=true` to remove the overhead.\n",
      "And if memory is not enough, you can set `force_col_wise=true`.\n",
      "[LightGBM] [Info] Total Bins 831\n",
      "[LightGBM] [Info] Number of data points in the train set: 255364, number of used features: 289\n",
      "[LightGBM] [Info] Start training from score 4624.261662\n",
      "Общее время выполнения: 87.00 секунд\n",
      "Лучшее значение RMSE: 1705.740412055495\n",
      "Лучшие параметры: {'model__learning_rate': 0.26526816010136667, 'model__max_depth': 0, 'model__n_estimators': 101, 'model__num_leaves': 137}\n",
      "CPU times: total: 16.4 s\n",
      "Wall time: 1min 26s\n"
     ]
    }
   ],
   "source": [
    "%%time\n",
    "\n",
    "start_time = time.time()  \n",
    "\n",
    "\n",
    "pipeline = Pipeline([\n",
    "    ('preprocessor', preprocessor),  \n",
    "    ('model', lgb.LGBMRegressor(random_state=123))\n",
    "])\n",
    "\n",
    "\n",
    "\n",
    "\n",
    "random_search = RandomizedSearchCV(\n",
    "    pipeline,\n",
    "    param_distributions=param_dist,\n",
    "    n_iter=50,\n",
    "    cv=3,\n",
    "    scoring='neg_mean_squared_error',\n",
    "    verbose=1,\n",
    "    random_state=123,\n",
    "    n_jobs=-2\n",
    ")\n",
    "random_search.fit(X_train, y_train)  \n",
    "\n",
    "end_time = time.time()  \n",
    "\n",
    "total_time = end_time - start_time\n",
    "print(\"Общее время выполнения: {:.2f} секунд\".format(total_time))\n",
    "print(\"Лучшее значение RMSE:\",np.sqrt(-random_search.best_score_))\n",
    "print(\"Лучшие параметры:\", random_search.best_params_)\n"
   ]
  },
  {
   "cell_type": "code",
   "execution_count": 54,
   "metadata": {},
   "outputs": [],
   "source": [
    "model1_time = total_time\n",
    "model1_params = random_search.best_params_\n",
    "model1_rmse = np.sqrt(-random_search.best_score_)"
   ]
  },
  {
   "cell_type": "code",
   "execution_count": 55,
   "metadata": {},
   "outputs": [
    {
     "data": {
      "text/plain": [
       "{'model__learning_rate': 0.26526816010136667,\n",
       " 'model__max_depth': 0,\n",
       " 'model__n_estimators': 101,\n",
       " 'model__num_leaves': 137}"
      ]
     },
     "execution_count": 55,
     "metadata": {},
     "output_type": "execute_result"
    }
   ],
   "source": [
    "model1_params"
   ]
  },
  {
   "cell_type": "markdown",
   "metadata": {},
   "source": [
    "#### Model 2 RandomizedSearchCV + CatboostReg."
   ]
  },
  {
   "cell_type": "code",
   "execution_count": 56,
   "metadata": {},
   "outputs": [
    {
     "name": "stdout",
     "output_type": "stream",
     "text": [
      "Fitting 3 folds for each of 5 candidates, totalling 15 fits\n"
     ]
    },
    {
     "name": "stdout",
     "output_type": "stream",
     "text": [
      "Общее время выполнения: 45.40 секунд\n",
      "Лучшее значение RMSE: 1946.1360118938992\n",
      "Лучшие параметры: {'regressor__learning_rate': 0.021544346900318832, 'regressor__l2_leaf_reg': 0.0774263682681127, 'regressor__iterations': 400, 'regressor__depth': 6}\n",
      "CPU times: total: 40.4 s\n",
      "Wall time: 45.4 s\n"
     ]
    }
   ],
   "source": [
    "%%time\n",
    "\n",
    "start_time = time.time()  \n",
    "\n",
    "pipeline = Pipeline([\n",
    "    ('preprocessor', preprocessor),  \n",
    "    ('regressor', CatBoostRegressor(silent=True))\n",
    "])\n",
    "\n",
    "\n",
    "param_distributions = {\n",
    "    'regressor__depth': np.arange(4, 10),\n",
    "    'regressor__learning_rate': np.logspace(-3, -1, 10),\n",
    "    'regressor__iterations': [100, 200, 300, 400, 500],\n",
    "    'regressor__l2_leaf_reg': np.logspace(-2, 0, 10)\n",
    "}\n",
    "\n",
    "\n",
    "random_search_cat = RandomizedSearchCV(\n",
    "    estimator=pipeline,\n",
    "    param_distributions=param_distributions,\n",
    "    n_iter=5, \n",
    "    cv=3,  \n",
    "    scoring='neg_mean_squared_error',  \n",
    "    verbose=1,\n",
    "    random_state=123,\n",
    "    n_jobs=-2  \n",
    ")\n",
    "\n",
    "\n",
    "random_search_cat.fit(X_train, y_train)\n",
    "\n",
    "end_time = time.time() \n",
    "\n",
    "\n",
    "total_time = end_time - start_time\n",
    "\n",
    "\n",
    "print(\"Общее время выполнения: {:.2f} секунд\".format(total_time))\n",
    "print(\"Лучшее значение RMSE:\", np.sqrt(-random_search_cat.best_score_))\n",
    "print(\"Лучшие параметры:\", random_search_cat.best_params_)"
   ]
  },
  {
   "cell_type": "code",
   "execution_count": 57,
   "metadata": {},
   "outputs": [],
   "source": [
    "model2_time = total_time\n",
    "model2_params = random_search_cat.best_params_\n",
    "model2_rmse = np.sqrt(-random_search_cat.best_score_)"
   ]
  },
  {
   "cell_type": "markdown",
   "metadata": {},
   "source": [
    "#### Model 3 RandomizedSearchCV + RandomForestRegressor."
   ]
  },
  {
   "cell_type": "code",
   "execution_count": 59,
   "metadata": {},
   "outputs": [
    {
     "name": "stdout",
     "output_type": "stream",
     "text": [
      "Fitting 3 folds for each of 2 candidates, totalling 6 fits\n"
     ]
    },
    {
     "name": "stdout",
     "output_type": "stream",
     "text": [
      "Лучшие параметры: {'regressor__max_depth': 8, 'regressor__min_samples_leaf': 4, 'regressor__min_samples_split': 9, 'regressor__n_estimators': 16}\n",
      "Лучшее значение метрики (RMSE): 2067.938455325221\n",
      "Лучшие параметры: {'regressor__max_depth': 8, 'regressor__min_samples_leaf': 4, 'regressor__min_samples_split': 9, 'regressor__n_estimators': 16}\n",
      "CPU times: total: 22 s\n",
      "Wall time: 43.6 s\n"
     ]
    }
   ],
   "source": [
    "%%time\n",
    "\n",
    "\n",
    "# Создание пайплайна, включающего предобработчик и RandomForestRegressor\n",
    "pipeline = Pipeline([\n",
    "    ('preprocessor', preprocessor),  # preprocessor уже определен ранее\n",
    "    ('regressor', RandomForestRegressor(random_state=42))\n",
    "])\n",
    "\n",
    "# Определение диапазона гиперпараметров для RandomizedSearchCV\n",
    "param_distributions = {\n",
    "    'regressor__n_estimators': randint(10, 30),  # Количество деревьев в лесу\n",
    "    'regressor__max_depth': randint(2, 10),  # Максимальная глубина дерева\n",
    "    'regressor__min_samples_split': randint(2, 11),  # Минимальное количество образцов, необходимое для разделения внутреннего узла\n",
    "    'regressor__min_samples_leaf': randint(1, 11)  # Минимальное количество образцов, необходимое в листовом узле\n",
    "}\n",
    "start_time = time.time()  # Начало замера времени\n",
    "# Создание и запуск RandomizedSearchCV\n",
    "forest_reg = RandomizedSearchCV(\n",
    "    estimator=pipeline,\n",
    "    param_distributions=param_distributions,\n",
    "    n_iter=2,  # Количество итераций поиска (можете увеличить для лучшего подбора)\n",
    "    cv=3,  # Количество фолдов кросс-валидации\n",
    "    scoring='neg_mean_squared_error',  # Метрика для оценки\n",
    "    verbose=1,\n",
    "    random_state=42,\n",
    "    n_jobs=-2  # Использование всех доступных ядер\n",
    ")\n",
    "\n",
    "# Обучение модели\n",
    "forest_reg.fit(X_train, y_train)\n",
    "\n",
    "end_time = time.time()  # Конец замера времени\n",
    "\n",
    "# Вычисление и сохранение общего времени выполнения\n",
    "total_time = end_time - start_time\n",
    "\n",
    "# Вывод лучших параметров и соответствующего им значения метрики\n",
    "print(\"Лучшие параметры:\", forest_reg.best_params_)\n",
    "print(\"Лучшее значение метрики (RMSE):\", np.sqrt((-forest_reg.best_score_)))\n",
    "print(\"Лучшие параметры:\", forest_reg.best_params_)"
   ]
  },
  {
   "cell_type": "code",
   "execution_count": 60,
   "metadata": {},
   "outputs": [],
   "source": [
    "model3_time = total_time\n",
    "model3_params = forest_reg.best_params_\n",
    "model3_rmse = np.sqrt(-forest_reg.best_score_)"
   ]
  },
  {
   "cell_type": "markdown",
   "metadata": {},
   "source": [
    "## Анализ моделей"
   ]
  },
  {
   "cell_type": "markdown",
   "metadata": {},
   "source": [
    "Соберем всю нашу инфорамацию о моделях в один датафрейм:"
   ]
  },
  {
   "cell_type": "code",
   "execution_count": 61,
   "metadata": {},
   "outputs": [
    {
     "data": {
      "text/html": [
       "<div>\n",
       "<style scoped>\n",
       "    .dataframe tbody tr th:only-of-type {\n",
       "        vertical-align: middle;\n",
       "    }\n",
       "\n",
       "    .dataframe tbody tr th {\n",
       "        vertical-align: top;\n",
       "    }\n",
       "\n",
       "    .dataframe thead th {\n",
       "        text-align: right;\n",
       "    }\n",
       "</style>\n",
       "<table border=\"1\" class=\"dataframe\">\n",
       "  <thead>\n",
       "    <tr style=\"text-align: right;\">\n",
       "      <th></th>\n",
       "      <th>Model</th>\n",
       "      <th>Execution Time (sec)</th>\n",
       "      <th>Best Parameters</th>\n",
       "      <th>RMSE</th>\n",
       "    </tr>\n",
       "  </thead>\n",
       "  <tbody>\n",
       "    <tr>\n",
       "      <th>0</th>\n",
       "      <td>RandomizedSearchCV + LGBM</td>\n",
       "      <td>87.00</td>\n",
       "      <td>{'model__learning_rate': 0.26526816010136667, ...</td>\n",
       "      <td>1,705.74</td>\n",
       "    </tr>\n",
       "    <tr>\n",
       "      <th>1</th>\n",
       "      <td>RandomizedSearchCV + CatBoost</td>\n",
       "      <td>45.40</td>\n",
       "      <td>{'regressor__learning_rate': 0.021544346900318...</td>\n",
       "      <td>1,946.14</td>\n",
       "    </tr>\n",
       "    <tr>\n",
       "      <th>2</th>\n",
       "      <td>RandomizedSearchCV + RandomForest</td>\n",
       "      <td>43.65</td>\n",
       "      <td>{'regressor__max_depth': 8, 'regressor__min_sa...</td>\n",
       "      <td>2,067.94</td>\n",
       "    </tr>\n",
       "  </tbody>\n",
       "</table>\n",
       "</div>"
      ],
      "text/plain": [
       "                               Model  Execution Time (sec)  \\\n",
       "0          RandomizedSearchCV + LGBM                 87.00   \n",
       "1      RandomizedSearchCV + CatBoost                 45.40   \n",
       "2  RandomizedSearchCV + RandomForest                 43.65   \n",
       "\n",
       "                                     Best Parameters     RMSE  \n",
       "0  {'model__learning_rate': 0.26526816010136667, ... 1,705.74  \n",
       "1  {'regressor__learning_rate': 0.021544346900318... 1,946.14  \n",
       "2  {'regressor__max_depth': 8, 'regressor__min_sa... 2,067.94  "
      ]
     },
     "metadata": {},
     "output_type": "display_data"
    }
   ],
   "source": [
    "# Сборка результатов в DataFrame\n",
    "results_df = pd.DataFrame({\n",
    "    'Model': ['RandomizedSearchCV + LGBM', 'RandomizedSearchCV + CatBoost', 'RandomizedSearchCV + RandomForest'],\n",
    "    'Execution Time (sec)': [model1_time, model2_time, model3_time],\n",
    "    'Best Parameters': [model1_params, model2_params, model3_params],\n",
    "    'RMSE': [model1_rmse, model2_rmse, model3_rmse]\n",
    "})\n",
    "\n",
    "# Вывод таблицы на экран\n",
    "display(results_df)"
   ]
  },
  {
   "cell_type": "markdown",
   "metadata": {},
   "source": [
    "Лучше всего себя показала модель RandomizedSearchCV + LGBM, проверим ее на тестовых данных."
   ]
  },
  {
   "cell_type": "code",
   "execution_count": 62,
   "metadata": {},
   "outputs": [
    {
     "name": "stdout",
     "output_type": "stream",
     "text": [
      "RMSE финальной модели на тестовой выборке: 1681.8746847088357\n",
      "CPU times: total: 609 ms\n",
      "Wall time: 213 ms\n"
     ]
    }
   ],
   "source": [
    "%%time\n",
    "\n",
    "# Предсказание значений для тестового набора данных\n",
    "y_pred = random_search.predict(X_test)\n",
    "\n",
    "# Расчет Mean Squared Error (MSE)\n",
    "mse = mean_squared_error(y_test, y_pred)\n",
    "\n",
    "# Расчет Root Mean Squared Error (RMSE)\n",
    "rmse = np.sqrt(mse)\n",
    "\n",
    "\n",
    "print(\"RMSE финальной модели на тестовой выборке:\", rmse)"
   ]
  },
  {
   "cell_type": "markdown",
   "metadata": {},
   "source": [
    "#### **Итоги работы с моделями машинного обучения**\n",
    "\n",
    "**Обзор моделей**\n",
    "\n",
    "Были обучены и оптимизированы три различные модели машинного обучения для задачи регрессии с использованием RandomizedSearchCV:\n",
    "\n",
    "* `LightGBM Regressor`\n",
    "\n",
    "  * Время выполнения: 87 секунд\n",
    "  * Лучшие параметры: {model__learning_rate: 0.265, model__max_depth: 0, model__n_estimators: 101, model__num_leaves: 137}\n",
    "  * RMSE: 1705.74\n",
    "* `CatBoost Regressor`\n",
    "\n",
    "  * Время выполнения: 45.4 секунд\n",
    "  * Лучшие параметры: {regressor__learning_rate: 0.0215}\n",
    "  * RMSE: 1946.14\n",
    "* `Random Forest Regressor`\n",
    "\n",
    "  * Время выполнения: 43.65 секунд\n",
    "  * Лучшие параметры: {regressor__max_depth: 8, regressor__min_samples_leaf: 4, regressor__min_samples_split: 9, regressor__n_estimators: 16}\n",
    "  * RMSE: 2067.94\n",
    "\n",
    "**Финальная модель**\n",
    "Из трех рассмотренных моделей, LightGBM Regressor показал лучший результат по метрике RMSE (1705.74) на кросс-валидации. Это делает её предпочтительным выбором для данной задачи регрессии среди рассмотренных моделей.\n",
    "\n",
    "**Время выполнения и эффективность** \n",
    "\n",
    "Несмотря на то, что LightGBM показал наилучшую производительность с точки зрения RMSE, модель также требовала наибольшее время для выполнения среди всех трех.\n",
    "CatBoost и Random Forest показали себя как более быстрые модели, но с более высоким RMSE, что указывает на потенциальное ухудшение качества предсказаний.\n",
    "Выводы\n",
    "LightGBM Regressor стал лучшим выбором для решения поставленной задачи благодаря оптимальному сочетанию точности предсказаний и времени выполнения, несмотря на то, что он занял больше времени по сравнению с другими моделями.\n",
    "Однако, при выборе модели для внедрения в продакшн следует также учитывать другие факторы, такие как интерпретируемость модели, время инференса и ресурсы на обучение.\n",
    "\n",
    "**Рекомендации**\n",
    "\n",
    "Для дальнейшего улучшения модели и минимизации RMSE рекомендуется:\n",
    "\n",
    "* Дополнительно исследовать пространство гиперпараметров.\n",
    "* Провести анализ важности признаков и исключить менее важные, что может улучшить качество модели и уменьшить время обучения.\n",
    "* Рассмотреть возможность использования ансамблевых методов, объединяющих предсказания нескольких моделей."
   ]
  },
  {
   "cell_type": "markdown",
   "metadata": {},
   "source": [
    "## Чек-лист проверки"
   ]
  },
  {
   "cell_type": "markdown",
   "metadata": {},
   "source": [
    "Поставьте 'x' в выполненных пунктах. Далее нажмите Shift+Enter."
   ]
  },
  {
   "cell_type": "markdown",
   "metadata": {},
   "source": [
    "- [x]  Jupyter Notebook открыт\n",
    "- [x]  Весь код выполняется без ошибок\n",
    "- [x]  Ячейки с кодом расположены в порядке исполнения\n",
    "- [x]  Выполнена загрузка и подготовка данных\n",
    "- [x]  Выполнено обучение моделей\n",
    "- [x]  Есть анализ скорости работы и качества моделей"
   ]
  }
 ],
 "metadata": {
  "kernelspec": {
   "display_name": "Python 3 (ipykernel)",
   "language": "python",
   "name": "python3"
  },
  "language_info": {
   "codemirror_mode": {
    "name": "ipython",
    "version": 3
   },
   "file_extension": ".py",
   "mimetype": "text/x-python",
   "name": "python",
   "nbconvert_exporter": "python",
   "pygments_lexer": "ipython3",
   "version": "3.9.18"
  },
  "toc": {
   "base_numbering": 1,
   "nav_menu": {},
   "number_sections": true,
   "sideBar": true,
   "skip_h1_title": true,
   "title_cell": "Table of Contents",
   "title_sidebar": "Contents",
   "toc_cell": false,
   "toc_position": {},
   "toc_section_display": true,
   "toc_window_display": false
  }
 },
 "nbformat": 4,
 "nbformat_minor": 2
}
