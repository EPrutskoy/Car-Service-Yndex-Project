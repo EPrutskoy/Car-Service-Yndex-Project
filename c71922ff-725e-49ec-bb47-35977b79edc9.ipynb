{
 "cells": [
  {
   "cell_type": "markdown",
   "metadata": {},
   "source": [
    "# Определение стоимости автомобилей"
   ]
  },
  {
   "cell_type": "markdown",
   "metadata": {},
   "source": [
    "Сервис по продаже автомобилей с пробегом «Не бит, не крашен» разрабатывает приложение для привлечения новых клиентов. В нём можно быстро узнать рыночную стоимость своего автомобиля. В вашем распоряжении исторические данные: технические характеристики, комплектации и цены автомобилей. Вам нужно построить модель для определения стоимости. \n",
    "\n",
    "Заказчику важны:\n",
    "\n",
    "- качество предсказания;\n",
    "- скорость предсказания;\n",
    "- время обучения."
   ]
  },
  {
   "cell_type": "markdown",
   "metadata": {},
   "source": [
    "## Описание данных\n",
    "\n",
    "**Признаки**\n",
    "* `DateCrawled` — дата скачивания анкеты из базы\n",
    "* `VehicleType` — тип автомобильного кузова\n",
    "* `RegistrationYear` — год регистрации автомобиля\n",
    "* `Gearbox` — тип коробки передач\n",
    "* `Power` — мощность (л. с.)\n",
    "* `Model` — модель автомобиля\n",
    "* `Kilometer` — пробег (км)\n",
    "* `RegistrationMonth` — месяц регистрации автомобиля\n",
    "* `FuelType` — тип топлива\n",
    "* `Brand` — марка автомобиля\n",
    "* `Repaired` — была машина в ремонте или нет\n",
    "* `DateCreated` — дата создания анкеты\n",
    "* `NumberOfPictures` — количество фотографий автомобиля\n",
    "* `PostalCode` — почтовый индекс владельца анкеты (пользователя)\n",
    "* `LastSeen` — дата последней активности пользователя\n",
    "\n",
    "**Целевой признак**\n",
    "* Price — цена (евро)"
   ]
  },
  {
   "cell_type": "markdown",
   "metadata": {},
   "source": [
    "## Подготовка данных"
   ]
  },
  {
   "cell_type": "code",
   "execution_count": 2,
   "metadata": {},
   "outputs": [],
   "source": [
    "#pip install shap"
   ]
  },
  {
   "cell_type": "code",
   "execution_count": 3,
   "metadata": {},
   "outputs": [],
   "source": [
    "#pip install catboost"
   ]
  },
  {
   "cell_type": "markdown",
   "metadata": {},
   "source": [
    "### Установка библиотек и настройка окружения"
   ]
  },
  {
   "cell_type": "code",
   "execution_count": 14,
   "metadata": {},
   "outputs": [],
   "source": [
    "import pandas as pd \n",
    "import numpy as np\n",
    "import seaborn as sns \n",
    "import matplotlib.pyplot as plt\n",
    "import warnings\n",
    "import shap\n",
    "\n",
    "from IPython.display import display\n",
    "\n",
    "from sklearn.metrics import make_scorer, f1_score\n",
    "from sklearn.preprocessing import StandardScaler, OneHotEncoder, FunctionTransformer\n",
    "from sklearn.model_selection import RandomizedSearchCV, GridSearchCV, train_test_split, cross_val_score\n",
    "from sklearn.ensemble import RandomForestClassifier\n",
    "from sklearn.pipeline import Pipeline\n",
    "from sklearn.compose import ColumnTransformer\n",
    "from sklearn.impute import SimpleImputer\n",
    "from sklearn.tree import DecisionTreeClassifier\n",
    "\n",
    "from catboost import CatBoostClassifier\n",
    "\n",
    "import scipy\n",
    "import scipy.stats as stats\n",
    "from scipy.stats import poisson\n",
    "\n",
    "import phik\n",
    "from phik import resources, report\n",
    "\n",
    "warnings.filterwarnings('ignore')"
   ]
  },
  {
   "cell_type": "code",
   "execution_count": 5,
   "metadata": {},
   "outputs": [],
   "source": [
    "pd.set_option('display.min_rows', 20)\n",
    "pd.set_option('display.max_rows', 20)\n",
    "pd.options.display.float_format = '{:,.2f}'.format"
   ]
  },
  {
   "cell_type": "markdown",
   "metadata": {},
   "source": [
    "### Инициализация полезных функций"
   ]
  },
  {
   "cell_type": "code",
   "execution_count": 6,
   "metadata": {},
   "outputs": [],
   "source": [
    "# функция информации по таблице\n",
    "def dataframe_summary(df, string):\n",
    "    # Вывод общей информации\n",
    "    print(\"Общая информация по таблице:\", string)\n",
    "    df.info()\n",
    "\n",
    "    # Вывод статистического описания\n",
    "    print(\"\\n Статистическое описание:\")\n",
    "    display(df.describe().transpose())\n",
    "\n",
    "    # Вывод случайных примеров\n",
    "    print(\"\\nСлучайные примеры:\")\n",
    "    display(df.sample(5))\n",
    "\n",
    "    # Вывод количества строк и столбцов\n",
    "    print(\"\\nКоличество строк и столбцов:\", df.shape)\n",
    "    \n",
    "    # Вывод количества явных дубликатов\n",
    "    print(\"\\nКоличество явных дубликатов:\", df.duplicated().sum())\n",
    "    print('')"
   ]
  },
  {
   "cell_type": "code",
   "execution_count": 7,
   "metadata": {},
   "outputs": [],
   "source": [
    "# функция поиска пропусков\n",
    "def analyze_missing_values(df, string):\n",
    "        total = df.isnull().sum().sort_values(ascending=False)\n",
    "        percent = (df.isnull().sum()/df.isnull().count()*100).sort_values(ascending=False)\n",
    "        missing_data = pd.concat([total, percent], axis=1, keys=['Total', 'Percent'])\n",
    "        missing_data = missing_data.query('Total > 0')\n",
    "\n",
    "        # Вывод информации о пропусках\n",
    "        print(f\"Пропуски в датафрейме {string}:\\n{missing_data}\\n\")\n",
    "\n",
    "        # Создание и отображение тепловой карты\n",
    "        plt.figure(figsize=(12, 8))\n",
    "        sns.heatmap(df.isnull(), cbar=False, yticklabels=False)\n",
    "        plt.title(f\"Heatmap пропусков для {string}\")\n",
    "        plt.show()"
   ]
  },
  {
   "cell_type": "code",
   "execution_count": null,
   "metadata": {},
   "outputs": [],
   "source": [
    "# Функция для преобразования названий в змеиный регистр (snake_case) \n",
    "def to_snake_case(name): \n",
    "    s1 = name[0].lower() \n",
    "    for c in name[1:]: \n",
    "        if c.isupper(): \n",
    "            s1 += '_' \n",
    "            s1 += c.lower() \n",
    "        else: \n",
    "            s1 += c \n",
    "    return s1 \n",
    " "
   ]
  },
  {
   "cell_type": "markdown",
   "metadata": {},
   "source": [
    "### Обзор данных, работа с дубликатами, пропусками и выбросами"
   ]
  },
  {
   "cell_type": "markdown",
   "metadata": {},
   "source": [
    "План работы:\n",
    "1) Анализ описательной статитстики по данным;\n",
    "2) Очистка явных дубликатов;\n",
    "3) Обработка пропусков;\n",
    "4) Обработка выбросов;\n",
    "5) Анализ визуальной статистики."
   ]
  },
  {
   "cell_type": "code",
   "execution_count": 8,
   "metadata": {},
   "outputs": [],
   "source": [
    "data = pd.read_csv('autos.csv')\n",
    "\n",
    "# Создадим отдельный датасет, который мы оставим в исходном состоянии. \n",
    "# Все необходимые преобразования\n",
    "# data_model = data.copy()"
   ]
  },
  {
   "cell_type": "code",
   "execution_count": 9,
   "metadata": {},
   "outputs": [
    {
     "name": "stdout",
     "output_type": "stream",
     "text": [
      "Общая информация по таблице: Автомобили (data)\n",
      "<class 'pandas.core.frame.DataFrame'>\n",
      "RangeIndex: 354369 entries, 0 to 354368\n",
      "Data columns (total 16 columns):\n",
      " #   Column             Non-Null Count   Dtype \n",
      "---  ------             --------------   ----- \n",
      " 0   DateCrawled        354369 non-null  object\n",
      " 1   Price              354369 non-null  int64 \n",
      " 2   VehicleType        316879 non-null  object\n",
      " 3   RegistrationYear   354369 non-null  int64 \n",
      " 4   Gearbox            334536 non-null  object\n",
      " 5   Power              354369 non-null  int64 \n",
      " 6   Model              334664 non-null  object\n",
      " 7   Kilometer          354369 non-null  int64 \n",
      " 8   RegistrationMonth  354369 non-null  int64 \n",
      " 9   FuelType           321474 non-null  object\n",
      " 10  Brand              354369 non-null  object\n",
      " 11  Repaired           283215 non-null  object\n",
      " 12  DateCreated        354369 non-null  object\n",
      " 13  NumberOfPictures   354369 non-null  int64 \n",
      " 14  PostalCode         354369 non-null  int64 \n",
      " 15  LastSeen           354369 non-null  object\n",
      "dtypes: int64(7), object(9)\n",
      "memory usage: 43.3+ MB\n",
      "\n",
      " Статистическое описание:\n"
     ]
    },
    {
     "data": {
      "text/html": [
       "<div>\n",
       "<style scoped>\n",
       "    .dataframe tbody tr th:only-of-type {\n",
       "        vertical-align: middle;\n",
       "    }\n",
       "\n",
       "    .dataframe tbody tr th {\n",
       "        vertical-align: top;\n",
       "    }\n",
       "\n",
       "    .dataframe thead th {\n",
       "        text-align: right;\n",
       "    }\n",
       "</style>\n",
       "<table border=\"1\" class=\"dataframe\">\n",
       "  <thead>\n",
       "    <tr style=\"text-align: right;\">\n",
       "      <th></th>\n",
       "      <th>count</th>\n",
       "      <th>mean</th>\n",
       "      <th>std</th>\n",
       "      <th>min</th>\n",
       "      <th>25%</th>\n",
       "      <th>50%</th>\n",
       "      <th>75%</th>\n",
       "      <th>max</th>\n",
       "    </tr>\n",
       "  </thead>\n",
       "  <tbody>\n",
       "    <tr>\n",
       "      <th>Price</th>\n",
       "      <td>354,369.00</td>\n",
       "      <td>4,416.66</td>\n",
       "      <td>4,514.16</td>\n",
       "      <td>0.00</td>\n",
       "      <td>1,050.00</td>\n",
       "      <td>2,700.00</td>\n",
       "      <td>6,400.00</td>\n",
       "      <td>20,000.00</td>\n",
       "    </tr>\n",
       "    <tr>\n",
       "      <th>RegistrationYear</th>\n",
       "      <td>354,369.00</td>\n",
       "      <td>2,004.23</td>\n",
       "      <td>90.23</td>\n",
       "      <td>1,000.00</td>\n",
       "      <td>1,999.00</td>\n",
       "      <td>2,003.00</td>\n",
       "      <td>2,008.00</td>\n",
       "      <td>9,999.00</td>\n",
       "    </tr>\n",
       "    <tr>\n",
       "      <th>Power</th>\n",
       "      <td>354,369.00</td>\n",
       "      <td>110.09</td>\n",
       "      <td>189.85</td>\n",
       "      <td>0.00</td>\n",
       "      <td>69.00</td>\n",
       "      <td>105.00</td>\n",
       "      <td>143.00</td>\n",
       "      <td>20,000.00</td>\n",
       "    </tr>\n",
       "    <tr>\n",
       "      <th>Kilometer</th>\n",
       "      <td>354,369.00</td>\n",
       "      <td>128,211.17</td>\n",
       "      <td>37,905.34</td>\n",
       "      <td>5,000.00</td>\n",
       "      <td>125,000.00</td>\n",
       "      <td>150,000.00</td>\n",
       "      <td>150,000.00</td>\n",
       "      <td>150,000.00</td>\n",
       "    </tr>\n",
       "    <tr>\n",
       "      <th>RegistrationMonth</th>\n",
       "      <td>354,369.00</td>\n",
       "      <td>5.71</td>\n",
       "      <td>3.73</td>\n",
       "      <td>0.00</td>\n",
       "      <td>3.00</td>\n",
       "      <td>6.00</td>\n",
       "      <td>9.00</td>\n",
       "      <td>12.00</td>\n",
       "    </tr>\n",
       "    <tr>\n",
       "      <th>NumberOfPictures</th>\n",
       "      <td>354,369.00</td>\n",
       "      <td>0.00</td>\n",
       "      <td>0.00</td>\n",
       "      <td>0.00</td>\n",
       "      <td>0.00</td>\n",
       "      <td>0.00</td>\n",
       "      <td>0.00</td>\n",
       "      <td>0.00</td>\n",
       "    </tr>\n",
       "    <tr>\n",
       "      <th>PostalCode</th>\n",
       "      <td>354,369.00</td>\n",
       "      <td>50,508.69</td>\n",
       "      <td>25,783.10</td>\n",
       "      <td>1,067.00</td>\n",
       "      <td>30,165.00</td>\n",
       "      <td>49,413.00</td>\n",
       "      <td>71,083.00</td>\n",
       "      <td>99,998.00</td>\n",
       "    </tr>\n",
       "  </tbody>\n",
       "</table>\n",
       "</div>"
      ],
      "text/plain": [
       "                       count       mean       std      min        25%  \\\n",
       "Price             354,369.00   4,416.66  4,514.16     0.00   1,050.00   \n",
       "RegistrationYear  354,369.00   2,004.23     90.23 1,000.00   1,999.00   \n",
       "Power             354,369.00     110.09    189.85     0.00      69.00   \n",
       "Kilometer         354,369.00 128,211.17 37,905.34 5,000.00 125,000.00   \n",
       "RegistrationMonth 354,369.00       5.71      3.73     0.00       3.00   \n",
       "NumberOfPictures  354,369.00       0.00      0.00     0.00       0.00   \n",
       "PostalCode        354,369.00  50,508.69 25,783.10 1,067.00  30,165.00   \n",
       "\n",
       "                         50%        75%        max  \n",
       "Price               2,700.00   6,400.00  20,000.00  \n",
       "RegistrationYear    2,003.00   2,008.00   9,999.00  \n",
       "Power                 105.00     143.00  20,000.00  \n",
       "Kilometer         150,000.00 150,000.00 150,000.00  \n",
       "RegistrationMonth       6.00       9.00      12.00  \n",
       "NumberOfPictures        0.00       0.00       0.00  \n",
       "PostalCode         49,413.00  71,083.00  99,998.00  "
      ]
     },
     "metadata": {},
     "output_type": "display_data"
    },
    {
     "name": "stdout",
     "output_type": "stream",
     "text": [
      "\n",
      "Случайные примеры:\n"
     ]
    },
    {
     "data": {
      "text/html": [
       "<div>\n",
       "<style scoped>\n",
       "    .dataframe tbody tr th:only-of-type {\n",
       "        vertical-align: middle;\n",
       "    }\n",
       "\n",
       "    .dataframe tbody tr th {\n",
       "        vertical-align: top;\n",
       "    }\n",
       "\n",
       "    .dataframe thead th {\n",
       "        text-align: right;\n",
       "    }\n",
       "</style>\n",
       "<table border=\"1\" class=\"dataframe\">\n",
       "  <thead>\n",
       "    <tr style=\"text-align: right;\">\n",
       "      <th></th>\n",
       "      <th>DateCrawled</th>\n",
       "      <th>Price</th>\n",
       "      <th>VehicleType</th>\n",
       "      <th>RegistrationYear</th>\n",
       "      <th>Gearbox</th>\n",
       "      <th>Power</th>\n",
       "      <th>Model</th>\n",
       "      <th>Kilometer</th>\n",
       "      <th>RegistrationMonth</th>\n",
       "      <th>FuelType</th>\n",
       "      <th>Brand</th>\n",
       "      <th>Repaired</th>\n",
       "      <th>DateCreated</th>\n",
       "      <th>NumberOfPictures</th>\n",
       "      <th>PostalCode</th>\n",
       "      <th>LastSeen</th>\n",
       "    </tr>\n",
       "  </thead>\n",
       "  <tbody>\n",
       "    <tr>\n",
       "      <th>193905</th>\n",
       "      <td>2016-03-21 14:51:11</td>\n",
       "      <td>2990</td>\n",
       "      <td>coupe</td>\n",
       "      <td>1996</td>\n",
       "      <td>manual</td>\n",
       "      <td>125</td>\n",
       "      <td>a3</td>\n",
       "      <td>80000</td>\n",
       "      <td>11</td>\n",
       "      <td>petrol</td>\n",
       "      <td>audi</td>\n",
       "      <td>no</td>\n",
       "      <td>2016-03-21 00:00:00</td>\n",
       "      <td>0</td>\n",
       "      <td>74564</td>\n",
       "      <td>2016-03-26 21:17:23</td>\n",
       "    </tr>\n",
       "    <tr>\n",
       "      <th>332960</th>\n",
       "      <td>2016-03-19 01:49:20</td>\n",
       "      <td>2650</td>\n",
       "      <td>bus</td>\n",
       "      <td>1989</td>\n",
       "      <td>manual</td>\n",
       "      <td>69</td>\n",
       "      <td>transporter</td>\n",
       "      <td>150000</td>\n",
       "      <td>10</td>\n",
       "      <td>gasoline</td>\n",
       "      <td>volkswagen</td>\n",
       "      <td>no</td>\n",
       "      <td>2016-03-18 00:00:00</td>\n",
       "      <td>0</td>\n",
       "      <td>24103</td>\n",
       "      <td>2016-03-23 22:17:19</td>\n",
       "    </tr>\n",
       "    <tr>\n",
       "      <th>195776</th>\n",
       "      <td>2016-04-03 16:53:50</td>\n",
       "      <td>12500</td>\n",
       "      <td>sedan</td>\n",
       "      <td>2012</td>\n",
       "      <td>manual</td>\n",
       "      <td>165</td>\n",
       "      <td>astra</td>\n",
       "      <td>125000</td>\n",
       "      <td>3</td>\n",
       "      <td>gasoline</td>\n",
       "      <td>opel</td>\n",
       "      <td>no</td>\n",
       "      <td>2016-04-03 00:00:00</td>\n",
       "      <td>0</td>\n",
       "      <td>80992</td>\n",
       "      <td>2016-04-05 16:46:18</td>\n",
       "    </tr>\n",
       "    <tr>\n",
       "      <th>37288</th>\n",
       "      <td>2016-03-25 08:51:46</td>\n",
       "      <td>850</td>\n",
       "      <td>sedan</td>\n",
       "      <td>1996</td>\n",
       "      <td>manual</td>\n",
       "      <td>88</td>\n",
       "      <td>mondeo</td>\n",
       "      <td>125000</td>\n",
       "      <td>2</td>\n",
       "      <td>petrol</td>\n",
       "      <td>ford</td>\n",
       "      <td>no</td>\n",
       "      <td>2016-03-25 00:00:00</td>\n",
       "      <td>0</td>\n",
       "      <td>6311</td>\n",
       "      <td>2016-04-02 10:18:28</td>\n",
       "    </tr>\n",
       "    <tr>\n",
       "      <th>61614</th>\n",
       "      <td>2016-03-12 17:53:42</td>\n",
       "      <td>2499</td>\n",
       "      <td>sedan</td>\n",
       "      <td>2000</td>\n",
       "      <td>manual</td>\n",
       "      <td>125</td>\n",
       "      <td>astra</td>\n",
       "      <td>125000</td>\n",
       "      <td>12</td>\n",
       "      <td>petrol</td>\n",
       "      <td>opel</td>\n",
       "      <td>no</td>\n",
       "      <td>2016-03-12 00:00:00</td>\n",
       "      <td>0</td>\n",
       "      <td>85221</td>\n",
       "      <td>2016-03-24 17:18:40</td>\n",
       "    </tr>\n",
       "  </tbody>\n",
       "</table>\n",
       "</div>"
      ],
      "text/plain": [
       "                DateCrawled  Price VehicleType  RegistrationYear Gearbox  \\\n",
       "193905  2016-03-21 14:51:11   2990       coupe              1996  manual   \n",
       "332960  2016-03-19 01:49:20   2650         bus              1989  manual   \n",
       "195776  2016-04-03 16:53:50  12500       sedan              2012  manual   \n",
       "37288   2016-03-25 08:51:46    850       sedan              1996  manual   \n",
       "61614   2016-03-12 17:53:42   2499       sedan              2000  manual   \n",
       "\n",
       "        Power        Model  Kilometer  RegistrationMonth  FuelType  \\\n",
       "193905    125           a3      80000                 11    petrol   \n",
       "332960     69  transporter     150000                 10  gasoline   \n",
       "195776    165        astra     125000                  3  gasoline   \n",
       "37288      88       mondeo     125000                  2    petrol   \n",
       "61614     125        astra     125000                 12    petrol   \n",
       "\n",
       "             Brand Repaired          DateCreated  NumberOfPictures  \\\n",
       "193905        audi       no  2016-03-21 00:00:00                 0   \n",
       "332960  volkswagen       no  2016-03-18 00:00:00                 0   \n",
       "195776        opel       no  2016-04-03 00:00:00                 0   \n",
       "37288         ford       no  2016-03-25 00:00:00                 0   \n",
       "61614         opel       no  2016-03-12 00:00:00                 0   \n",
       "\n",
       "        PostalCode             LastSeen  \n",
       "193905       74564  2016-03-26 21:17:23  \n",
       "332960       24103  2016-03-23 22:17:19  \n",
       "195776       80992  2016-04-05 16:46:18  \n",
       "37288         6311  2016-04-02 10:18:28  \n",
       "61614        85221  2016-03-24 17:18:40  "
      ]
     },
     "metadata": {},
     "output_type": "display_data"
    },
    {
     "name": "stdout",
     "output_type": "stream",
     "text": [
      "\n",
      "Количество строк и столбцов: (354369, 16)\n",
      "\n",
      "Количество явных дубликатов: 4\n",
      "\n"
     ]
    }
   ],
   "source": [
    "dataframe_summary(data, 'Автомобили (data)')"
   ]
  },
  {
   "cell_type": "markdown",
   "metadata": {},
   "source": [
    "Изменим названия переменных, избавимся от дубликатов"
   ]
  },
  {
   "cell_type": "code",
   "execution_count": 18,
   "metadata": {},
   "outputs": [
    {
     "data": {
      "text/plain": [
       "Index(['date_crawled', 'price', 'vehicle_type', 'registration_year', 'gearbox',\n",
       "       'power', 'model', 'kilometer', 'registration_month', 'fuel_type',\n",
       "       'brand', 'repaired', 'date_created', 'number_of_pictures',\n",
       "       'postal_code', 'last_seen'],\n",
       "      dtype='object')"
      ]
     },
     "execution_count": 18,
     "metadata": {},
     "output_type": "execute_result"
    }
   ],
   "source": [
    "data.columns = [to_snake_case(name) for name in data.columns] \n",
    "data.columns"
   ]
  },
  {
   "cell_type": "code",
   "execution_count": 10,
   "metadata": {},
   "outputs": [],
   "source": [
    "# удалим явные дубликаты\n",
    "data.drop_duplicates(inplace=True)"
   ]
  },
  {
   "cell_type": "code",
   "execution_count": 11,
   "metadata": {},
   "outputs": [
    {
     "name": "stdout",
     "output_type": "stream",
     "text": [
      "Пропуски в датафрейме data:\n",
      "             Total  Percent\n",
      "Repaired     71154    20.08\n",
      "VehicleType  37490    10.58\n",
      "FuelType     32895     9.28\n",
      "Gearbox      19833     5.60\n",
      "Model        19705     5.56\n",
      "\n"
     ]
    },
    {
     "data": {
      "image/png": "[encoded data removed]",
      "text/plain": [
       "<Figure size 864x576 with 1 Axes>"
      ]
     },
     "metadata": {
      "needs_background": "light"
     },
     "output_type": "display_data"
    }
   ],
   "source": [
    "analyze_missing_values(data, 'data')"
   ]
  },
  {
   "cell_type": "markdown",
   "metadata": {},
   "source": [
    "Избавимся от явных дубликатов, возможно, после обработки датасета и удаления ненужных переменных дубликатов станет больше."
   ]
  },
  {
   "cell_type": "code",
   "execution_count": null,
   "metadata": {},
   "outputs": [],
   "source": [
    "data = data.drop(['date_crawled', 'registration_month', 'date_created', \n",
    "                  'number_of_pictures', 'postal_code', 'last_seen']"
   ]
  },
  {
   "cell_type": "code",
   "execution_count": 13,
   "metadata": {},
   "outputs": [
    {
     "data": {
      "text/html": [
       "<div>\n",
       "<style scoped>\n",
       "    .dataframe tbody tr th:only-of-type {\n",
       "        vertical-align: middle;\n",
       "    }\n",
       "\n",
       "    .dataframe tbody tr th {\n",
       "        vertical-align: top;\n",
       "    }\n",
       "\n",
       "    .dataframe thead th {\n",
       "        text-align: right;\n",
       "    }\n",
       "</style>\n",
       "<table border=\"1\" class=\"dataframe\">\n",
       "  <thead>\n",
       "    <tr style=\"text-align: right;\">\n",
       "      <th></th>\n",
       "      <th>Repaired</th>\n",
       "      <th>VehicleType</th>\n",
       "      <th>FuelType</th>\n",
       "      <th>Gearbox</th>\n",
       "      <th>Model</th>\n",
       "    </tr>\n",
       "  </thead>\n",
       "  <tbody>\n",
       "    <tr>\n",
       "      <th>220154</th>\n",
       "      <td>NaN</td>\n",
       "      <td>bus</td>\n",
       "      <td>gasoline</td>\n",
       "      <td>auto</td>\n",
       "      <td>voyager</td>\n",
       "    </tr>\n",
       "    <tr>\n",
       "      <th>340191</th>\n",
       "      <td>no</td>\n",
       "      <td>small</td>\n",
       "      <td>petrol</td>\n",
       "      <td>auto</td>\n",
       "      <td>fortwo</td>\n",
       "    </tr>\n",
       "    <tr>\n",
       "      <th>118771</th>\n",
       "      <td>no</td>\n",
       "      <td>sedan</td>\n",
       "      <td>petrol</td>\n",
       "      <td>manual</td>\n",
       "      <td>other</td>\n",
       "    </tr>\n",
       "    <tr>\n",
       "      <th>338130</th>\n",
       "      <td>no</td>\n",
       "      <td>sedan</td>\n",
       "      <td>petrol</td>\n",
       "      <td>manual</td>\n",
       "      <td>focus</td>\n",
       "    </tr>\n",
       "    <tr>\n",
       "      <th>25100</th>\n",
       "      <td>no</td>\n",
       "      <td>wagon</td>\n",
       "      <td>petrol</td>\n",
       "      <td>manual</td>\n",
       "      <td>2_reihe</td>\n",
       "    </tr>\n",
       "    <tr>\n",
       "      <th>175610</th>\n",
       "      <td>no</td>\n",
       "      <td>sedan</td>\n",
       "      <td>petrol</td>\n",
       "      <td>manual</td>\n",
       "      <td>golf</td>\n",
       "    </tr>\n",
       "    <tr>\n",
       "      <th>43266</th>\n",
       "      <td>NaN</td>\n",
       "      <td>NaN</td>\n",
       "      <td>petrol</td>\n",
       "      <td>manual</td>\n",
       "      <td>NaN</td>\n",
       "    </tr>\n",
       "    <tr>\n",
       "      <th>323563</th>\n",
       "      <td>no</td>\n",
       "      <td>sedan</td>\n",
       "      <td>petrol</td>\n",
       "      <td>manual</td>\n",
       "      <td>astra</td>\n",
       "    </tr>\n",
       "    <tr>\n",
       "      <th>81005</th>\n",
       "      <td>no</td>\n",
       "      <td>wagon</td>\n",
       "      <td>gasoline</td>\n",
       "      <td>auto</td>\n",
       "      <td>3er</td>\n",
       "    </tr>\n",
       "    <tr>\n",
       "      <th>110889</th>\n",
       "      <td>no</td>\n",
       "      <td>sedan</td>\n",
       "      <td>petrol</td>\n",
       "      <td>manual</td>\n",
       "      <td>3er</td>\n",
       "    </tr>\n",
       "  </tbody>\n",
       "</table>\n",
       "</div>"
      ],
      "text/plain": [
       "       Repaired VehicleType  FuelType Gearbox    Model\n",
       "220154      NaN         bus  gasoline    auto  voyager\n",
       "340191       no       small    petrol    auto   fortwo\n",
       "118771       no       sedan    petrol  manual    other\n",
       "338130       no       sedan    petrol  manual    focus\n",
       "25100        no       wagon    petrol  manual  2_reihe\n",
       "175610       no       sedan    petrol  manual     golf\n",
       "43266       NaN         NaN    petrol  manual      NaN\n",
       "323563       no       sedan    petrol  manual    astra\n",
       "81005        no       wagon  gasoline    auto      3er\n",
       "110889       no       sedan    petrol  manual      3er"
      ]
     },
     "metadata": {},
     "output_type": "display_data"
    }
   ],
   "source": [
    "display(data[['Repaired','VehicleType', 'FuelType', 'Gearbox', 'Model']].sample(10))"
   ]
  },
  {
   "cell_type": "markdown",
   "metadata": {},
   "source": [
    "## Обучение моделей"
   ]
  },
  {
   "cell_type": "code",
   "execution_count": null,
   "metadata": {},
   "outputs": [],
   "source": []
  },
  {
   "cell_type": "markdown",
   "metadata": {},
   "source": [
    "## Анализ моделей"
   ]
  },
  {
   "cell_type": "code",
   "execution_count": null,
   "metadata": {},
   "outputs": [],
   "source": []
  },
  {
   "cell_type": "markdown",
   "metadata": {},
   "source": [
    "## Чек-лист проверки"
   ]
  },
  {
   "cell_type": "markdown",
   "metadata": {},
   "source": [
    "Поставьте 'x' в выполненных пунктах. Далее нажмите Shift+Enter."
   ]
  },
  {
   "cell_type": "markdown",
   "metadata": {},
   "source": [
    "- [x]  Jupyter Notebook открыт\n",
    "- [ ]  Весь код выполняется без ошибок\n",
    "- [ ]  Ячейки с кодом расположены в порядке исполнения\n",
    "- [ ]  Выполнена загрузка и подготовка данных\n",
    "- [ ]  Выполнено обучение моделей\n",
    "- [ ]  Есть анализ скорости работы и качества моделей"
   ]
  },
  {
   "cell_type": "code",
   "execution_count": null,
   "metadata": {},
   "outputs": [],
   "source": []
  }
 ],
 "metadata": {
  "kernelspec": {
   "display_name": "Python 3 (ipykernel)",
   "language": "python",
   "name": "python3"
  },
  "language_info": {
   "codemirror_mode": {
    "name": "ipython",
    "version": 3
   },
   "file_extension": ".py",
   "mimetype": "text/x-python",
   "name": "python",
   "nbconvert_exporter": "python",
   "pygments_lexer": "ipython3",
   "version": "3.9.12"
  },
  "toc": {
   "base_numbering": 1,
   "nav_menu": {},
   "number_sections": true,
   "sideBar": true,
   "skip_h1_title": true,
   "title_cell": "Table of Contents",
   "title_sidebar": "Contents",
   "toc_cell": false,
   "toc_position": {},
   "toc_section_display": true,
   "toc_window_display": false
  }
 },
 "nbformat": 4,
 "nbformat_minor": 2
}
