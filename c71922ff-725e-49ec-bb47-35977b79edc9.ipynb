{
 "cells": [
  {
   "cell_type": "markdown",
   "metadata": {},
   "source": [
    "# Определение стоимости автомобилей"
   ]
  },
  {
   "cell_type": "markdown",
   "metadata": {},
   "source": [
    "Сервис по продаже автомобилей с пробегом «Не бит, не крашен» разрабатывает приложение для привлечения новых клиентов. В нём можно быстро узнать рыночную стоимость своего автомобиля. В вашем распоряжении исторические данные: технические характеристики, комплектации и цены автомобилей. Вам нужно построить модель для определения стоимости. \n",
    "\n",
    "Заказчику важны:\n",
    "\n",
    "- качество предсказания;\n",
    "- скорость предсказания;\n",
    "- время обучения."
   ]
  },
  {
   "cell_type": "markdown",
   "metadata": {},
   "source": [
    "## Описание данных\n",
    "\n",
    "**Признаки**\n",
    "* `DateCrawled` — дата скачивания анкеты из базы\n",
    "* `VehicleType` — тип автомобильного кузова\n",
    "* `RegistrationYear` — год регистрации автомобиля\n",
    "* `Gearbox` — тип коробки передач\n",
    "* `Power` — мощность (л. с.)\n",
    "* `Model` — модель автомобиля\n",
    "* `Kilometer` — пробег (км)\n",
    "* `RegistrationMonth` — месяц регистрации автомобиля\n",
    "* `FuelType` — тип топлива\n",
    "* `Brand` — марка автомобиля\n",
    "* `Repaired` — была машина в ремонте или нет\n",
    "* `DateCreated` — дата создания анкеты\n",
    "* `NumberOfPictures` — количество фотографий автомобиля\n",
    "* `PostalCode` — почтовый индекс владельца анкеты (пользователя)\n",
    "* `LastSeen` — дата последней активности пользователя\n",
    "\n",
    "**Целевой признак**\n",
    "* Price — цена (евро)"
   ]
  },
  {
   "cell_type": "markdown",
   "metadata": {},
   "source": [
    "## Подготовка данных"
   ]
  },
  {
   "cell_type": "markdown",
   "metadata": {},
   "source": [
    "### Установка библиотек и настройка окружения"
   ]
  },
  {
   "cell_type": "code",
   "execution_count": null,
   "metadata": {},
   "outputs": [],
   "source": [
    "import pandas as pd \n",
    "import numpy as np\n",
    "import seaborn as sns \n",
    "import matplotlib.pyplot as plt\n",
    "import warnings\n",
    "import shap\n",
    "\n",
    "from IPython.display import display\n",
    "\n",
    "from sklearn.metrics import make_scorer, f1_score\n",
    "from sklearn.preprocessing import StandardScaler, OneHotEncoder, FunctionTransformer\n",
    "from sklearn.model_selection import RandomizedSearchCV, GridSearchCV, train_test_split, cross_val_score\n",
    "from sklearn.ensemble import RandomForestClassifier\n",
    "from sklearn.pipeline import Pipeline\n",
    "from sklearn.compose import ColumnTransformer\n",
    "from sklearn.impute import SimpleImputer\n",
    "from sklearn.tree import DecisionTreeClassifier\n",
    "\n",
    "from catboost import CatBoostClassifier\n",
    "\n",
    "import scipy\n",
    "import scipy.stats as stats\n",
    "from scipy.stats import poisson\n",
    "\n",
    "import phik\n",
    "from phik import resources, report\n",
    "\n",
    "warnings.filterwarnings('ignore')"
   ]
  },
  {
   "cell_type": "code",
   "execution_count": null,
   "metadata": {},
   "outputs": [],
   "source": [
    "pd.set_option('display.min_rows', 20)\n",
    "pd.set_option('display.max_rows', 20)\n",
    "pd.options.display.float_format = '{:,.2f}'.format"
   ]
  },
  {
   "cell_type": "markdown",
   "metadata": {},
   "source": [
    "### Инициализация полезных функций"
   ]
  },
  {
   "cell_type": "code",
   "execution_count": null,
   "metadata": {},
   "outputs": [],
   "source": [
    "class DatasetSizeTracker:\n",
    "    def __init__(self):\n",
    "        self.initial_size = None\n",
    "        self.previous_size = None\n",
    "\n",
    "    def track(self, data):\n",
    "        # Если исходный размер не был установлен, запоминаем его и текущий размер как первоначальный\n",
    "        if self.initial_size is None:\n",
    "            self.initial_size = len(data)\n",
    "            self.previous_size = len(data)\n",
    "            loss_from_initial = 0\n",
    "            loss_from_previous = 0\n",
    "            loss_percent_overoll = 0\n",
    "        else:\n",
    "            # Считаем, сколько строк потеряно относительно исходного размера и с прошлого вызова\n",
    "            current_size = len(data)\n",
    "            loss_from_initial = self.initial_size - current_size\n",
    "            loss_from_previous = self.previous_size - current_size\n",
    "            loss_percent_overoll = ((self.initial_size - current_size)/self.initial_size)*100\n",
    "            # Обновляем предыдущий размер для следующего вызова\n",
    "            self.previous_size = current_size\n",
    "        \n",
    "        return {\"Потери от исходного размера\": loss_from_initial, \"Потери с предыдущего раза\": loss_from_previous,\n",
    "                'Общие потери в процентах' : loss_percent_overoll}\n",
    "\n",
    "# Создание экземпляра класса для трекинга размера датасета\n",
    "tracker = DatasetSizeTracker()"
   ]
  },
  {
   "cell_type": "code",
   "execution_count": null,
   "metadata": {},
   "outputs": [],
   "source": [
    "# функция информации по таблице\n",
    "def dataframe_summary(df, string):\n",
    "    # Вывод общей информации\n",
    "    print(\"Общая информация по таблице:\", string)\n",
    "    df.info()\n",
    "\n",
    "    # Вывод статистического описания\n",
    "    print(\"\\n Статистическое описание:\")\n",
    "    display(df.describe().transpose())\n",
    "\n",
    "    # Вывод случайных примеров\n",
    "    print(\"\\nСлучайные примеры:\")\n",
    "    display(df.sample(5))\n",
    "\n",
    "    # Вывод количества строк и столбцов\n",
    "    print(\"\\nКоличество строк и столбцов:\", df.shape)\n",
    "    \n",
    "    # Вывод количества явных дубликатов\n",
    "    print(\"\\nКоличество явных дубликатов:\", df.duplicated().sum())\n",
    "    print('')"
   ]
  },
  {
   "cell_type": "code",
   "execution_count": null,
   "metadata": {},
   "outputs": [],
   "source": [
    "# функция поиска пропусков\n",
    "def analyze_missing_values(df, string):\n",
    "        total = df.isnull().sum().sort_values(ascending=False)\n",
    "        percent = (df.isnull().sum()/df.isnull().count()*100).sort_values(ascending=False)\n",
    "        missing_data = pd.concat([total, percent], axis=1, keys=['Total', 'Percent'])\n",
    "        missing_data = missing_data.query('Total > 0')\n",
    "\n",
    "        # Вывод информации о пропусках\n",
    "        print(f\"Пропуски в датафрейме {string}:\\n{missing_data}\\n\")\n",
    "\n",
    "        # Создание и отображение тепловой карты\n",
    "        plt.figure(figsize=(12, 8))\n",
    "        sns.heatmap(df.isnull(), cbar=False, yticklabels=False)\n",
    "        plt.title(f\"Heatmap пропусков для {string}\")\n",
    "        plt.show()"
   ]
  },
  {
   "cell_type": "code",
   "execution_count": null,
   "metadata": {},
   "outputs": [],
   "source": [
    "# Функция для преобразования названий в змеиный регистр (snake_case) \n",
    "def to_snake_case(name): \n",
    "    s1 = name[0].lower() \n",
    "    for c in name[1:]: \n",
    "        if c.isupper(): \n",
    "            s1 += '_' \n",
    "            s1 += c.lower() \n",
    "        else: \n",
    "            s1 += c \n",
    "    return s1 \n",
    " "
   ]
  },
  {
   "cell_type": "code",
   "execution_count": null,
   "metadata": {},
   "outputs": [],
   "source": [
    "def fill_missing_values_by_brand_and_model(data, column_name):\n",
    "    \"\"\"\n",
    "    Заполняет пропуски в указанной колонке на основе самого частого значения,\n",
    "    характерного для сгруппированных данных по 'brand' и 'model'.\n",
    "    \n",
    "    Parameters:\n",
    "    data (pd.DataFrame): Исходный датафрейм.\n",
    "    column_name (str): Название колонки, в которой нужно заполнить пропуски.\n",
    "    \n",
    "    Returns:\n",
    "    pd.DataFrame: Датафрейм с заполненными пропусками в указанной колонке.\n",
    "    \"\"\"\n",
    "    # Считаем самое частое значение для каждой группы 'brand' и 'model'\n",
    "    most_frequent_values = data.groupby(['brand', 'model'])[column_name].apply(lambda x: x.mode().iloc[0] if not x.mode().empty else None)\n",
    "    \n",
    "    # Функция для заполнения пропуска\n",
    "    def fill_value(row):\n",
    "        if pd.isnull(row[column_name]):\n",
    "            return most_frequent_values.get((row['brand'], row['model']), row[column_name])\n",
    "        else:\n",
    "            return row[column_name]\n",
    "    \n",
    "    # Заполнение пропусков\n",
    "    data[column_name] = data.apply(fill_value, axis=1)\n",
    "    \n",
    "    return data"
   ]
  },
  {
   "cell_type": "markdown",
   "metadata": {},
   "source": [
    "### Обзор данных, работа с дубликатами, пропусками и выбросами"
   ]
  },
  {
   "cell_type": "markdown",
   "metadata": {},
   "source": [
    "План работы:\n",
    "1) Анализ описательной статитстики по данным;\n",
    "2) Очистка явных дубликатов;\n",
    "3) Обработка пропусков;\n",
    "4) Обработка выбросов;\n",
    "5) Анализ визуальной статистики."
   ]
  },
  {
   "cell_type": "markdown",
   "metadata": {},
   "source": [
    "#### Обзор данных"
   ]
  },
  {
   "cell_type": "code",
   "execution_count": null,
   "metadata": {},
   "outputs": [],
   "source": [
    "data = pd.read_csv('autos.csv')\n",
    "\n",
    "# Создадим отдельный датасет, который мы оставим в исходном состоянии. \n",
    "# Все необходимые преобразования\n",
    "# data_model = data.copy()"
   ]
  },
  {
   "cell_type": "code",
   "execution_count": null,
   "metadata": {},
   "outputs": [],
   "source": [
    "from sklearn.model_selection import train_test_split\n",
    "\n",
    "def get_stratified_sample(data, stratify_column='column_for_stratification', sample_size=100000):\n",
    "    \"\"\"\n",
    "    Возвращает случайные sample_size строк из датафрейма data, сохраняя пропорциональное представление значений в stratify_column.\n",
    "    \n",
    "    Parameters:\n",
    "    data (pd.DataFrame): Исходный датафрейм.\n",
    "    stratify_column (str): Название колонки, по которой нужно стратифицировать выборку.\n",
    "    sample_size (int): Размер выборки.\n",
    "    \n",
    "    Returns:\n",
    "    pd.DataFrame: Датафрейм, содержащий случайную стратифицированную выборку указанного размера.\n",
    "    \"\"\"\n",
    "    # Разделение данных на \"обучающий\" набор (который будет отброшен) и \"тестовый\" набор, который является нужной выборкой\n",
    "    _, data_sample = train_test_split(data, test_size=sample_size, stratify=data[stratify_column], random_state=42)\n",
    "    \n",
    "    return data_sample\n",
    "\n",
    "# Для использования функции, укажите DataFrame, колонку для стратификации и желаемый размер выборки:\n",
    "sample_data = get_stratified_sample(data, 'Brand', 100000)"
   ]
  },
  {
   "cell_type": "code",
   "execution_count": null,
   "metadata": {},
   "outputs": [],
   "source": [
    "dataframe_summary(data, 'Автомобили (data)')"
   ]
  },
  {
   "cell_type": "code",
   "execution_count": null,
   "metadata": {},
   "outputs": [],
   "source": [
    "tracker = DatasetSizeTracker()\n",
    "\n",
    "tracker.track(data)  # Посмотреть, сколько строк потеряно с исходного момента и с последнего вызова"
   ]
  },
  {
   "cell_type": "markdown",
   "metadata": {},
   "source": [
    "Изменим названия переменных, избавимся от дубликатов"
   ]
  },
  {
   "cell_type": "code",
   "execution_count": null,
   "metadata": {},
   "outputs": [],
   "source": [
    "data.columns = [to_snake_case(name) for name in data.columns] \n",
    "data.columns"
   ]
  },
  {
   "cell_type": "code",
   "execution_count": null,
   "metadata": {},
   "outputs": [],
   "source": [
    "# удалим явные дубликаты\n",
    "data.drop_duplicates(inplace=True)"
   ]
  },
  {
   "cell_type": "markdown",
   "metadata": {},
   "source": [
    "В данных есть объявления с ценой равной 0. Тк это целевой признак - менять нельзя, но лучше удалить строки с такой ценой."
   ]
  },
  {
   "cell_type": "code",
   "execution_count": null,
   "metadata": {},
   "outputs": [],
   "source": [
    "print('Сколько людей готовы \"подарить\" автомобиль:',len(data.loc[data['price'] == 0]))\n",
    "data = data.loc[data['price'] != 0]\n",
    "print('Сколько людей готовы \"подарить\" автомобиль теперь:',len(data.loc[data['price'] == 0]))"
   ]
  },
  {
   "cell_type": "code",
   "execution_count": null,
   "metadata": {},
   "outputs": [],
   "source": [
    "tracker.track(data) "
   ]
  },
  {
   "cell_type": "code",
   "execution_count": null,
   "metadata": {},
   "outputs": [],
   "source": [
    "analyze_missing_values(data, 'data')"
   ]
  },
  {
   "cell_type": "markdown",
   "metadata": {},
   "source": [
    "Избавимся от явных дубликатов, возможно, после обработки датасета и удаления ненужных переменных дубликатов станет больше."
   ]
  },
  {
   "cell_type": "code",
   "execution_count": null,
   "metadata": {},
   "outputs": [],
   "source": [
    "data = data.drop(['date_crawled', 'registration_month', 'date_created', \n",
    "                  'number_of_pictures', 'postal_code', 'last_seen'], axis =1) "
   ]
  },
  {
   "cell_type": "code",
   "execution_count": null,
   "metadata": {},
   "outputs": [],
   "source": [
    "data.columns"
   ]
  },
  {
   "cell_type": "code",
   "execution_count": null,
   "metadata": {},
   "outputs": [],
   "source": [
    "display(data[['brand', 'model','vehicle_type', 'fuel_type', 'gearbox', 'power' ,'repaired','price']].sample(10))"
   ]
  },
  {
   "cell_type": "markdown",
   "metadata": {},
   "source": [
    "#### Работа с пропусками"
   ]
  },
  {
   "cell_type": "markdown",
   "metadata": {},
   "source": [
    "##### Пропуски в `model`"
   ]
  },
  {
   "cell_type": "markdown",
   "metadata": {},
   "source": [
    "Пропуски в `model`, на мой взгляд, критичны. Фактор модели может играть значительную роль в определении цены машины. Восполнить пропуски здесь никак, заглушка тоже может в данном случае не подойти или нарушить связи. "
   ]
  },
  {
   "cell_type": "code",
   "execution_count": null,
   "metadata": {},
   "outputs": [],
   "source": [
    "data = data.loc[~data['model'].isna()]\n",
    "tracker.track(data) "
   ]
  },
  {
   "cell_type": "markdown",
   "metadata": {},
   "source": [
    "##### Пропуски в `repaired`"
   ]
  },
  {
   "cell_type": "markdown",
   "metadata": {},
   "source": [
    "Пропусков в repaired довольно много, порядка 20% от изначального размера данных.\\\n",
    "Фактор довольно важный, при написании объявления обязательно указывать, если машина ремонтировалась. Возможно, значения в этом столбце пропущены, если машина не чинилась и продавцы оставляли незаполненным этот пропуск. \\\n",
    "Если качество модели будет неудовлетворительным, можно попробовать применить заглушку.\n"
   ]
  },
  {
   "cell_type": "code",
   "execution_count": null,
   "metadata": {},
   "outputs": [],
   "source": [
    "data.repaired.value_counts()"
   ]
  },
  {
   "cell_type": "code",
   "execution_count": null,
   "metadata": {},
   "outputs": [],
   "source": [
    "data.repaired.fillna('no', inplace=True)"
   ]
  },
  {
   "cell_type": "code",
   "execution_count": null,
   "metadata": {},
   "outputs": [],
   "source": [
    "analyze_missing_values(data, 'data')"
   ]
  },
  {
   "cell_type": "markdown",
   "metadata": {},
   "source": [
    "Остались пропуски в `vehicle_type`,  `fuel_type` и `gearbox` - их заполним на основе данных из `model` и `brand`. "
   ]
  },
  {
   "cell_type": "code",
   "execution_count": null,
   "metadata": {},
   "outputs": [],
   "source": [
    "print(data['vehicle_type'].value_counts())\n",
    "print(data['fuel_type'].value_counts())\n",
    "print(data['gearbox'].value_counts())"
   ]
  },
  {
   "cell_type": "code",
   "execution_count": null,
   "metadata": {},
   "outputs": [],
   "source": [
    "# используем функцию для заполнения пропусков на основе сгрупиированных данных по brand и model\n",
    "missing_list = ['vehicle_type', 'fuel_type', 'gearbox']\n",
    "for i in missing_list:\n",
    "    data = fill_missing_values_by_brand_and_model(data, i)\n"
   ]
  },
  {
   "cell_type": "code",
   "execution_count": null,
   "metadata": {},
   "outputs": [],
   "source": [
    "print(data['vehicle_type'].value_counts())\n",
    "print(data['fuel_type'].value_counts())\n",
    "print(data['gearbox'].value_counts())"
   ]
  },
  {
   "cell_type": "markdown",
   "metadata": {},
   "source": [
    "#### Обработка аномальных значений"
   ]
  },
  {
   "cell_type": "code",
   "execution_count": null,
   "metadata": {},
   "outputs": [],
   "source": [
    "data.describe()"
   ]
  },
  {
   "cell_type": "markdown",
   "metadata": {},
   "source": [
    "## Обучение моделей"
   ]
  },
  {
   "cell_type": "code",
   "execution_count": null,
   "metadata": {},
   "outputs": [],
   "source": []
  },
  {
   "cell_type": "markdown",
   "metadata": {},
   "source": [
    "## Анализ моделей"
   ]
  },
  {
   "cell_type": "code",
   "execution_count": null,
   "metadata": {},
   "outputs": [],
   "source": []
  },
  {
   "cell_type": "markdown",
   "metadata": {},
   "source": [
    "## Чек-лист проверки"
   ]
  },
  {
   "cell_type": "markdown",
   "metadata": {},
   "source": [
    "Поставьте 'x' в выполненных пунктах. Далее нажмите Shift+Enter."
   ]
  },
  {
   "cell_type": "markdown",
   "metadata": {},
   "source": [
    "- [x]  Jupyter Notebook открыт\n",
    "- [ ]  Весь код выполняется без ошибок\n",
    "- [ ]  Ячейки с кодом расположены в порядке исполнения\n",
    "- [ ]  Выполнена загрузка и подготовка данных\n",
    "- [ ]  Выполнено обучение моделей\n",
    "- [ ]  Есть анализ скорости работы и качества моделей"
   ]
  },
  {
   "cell_type": "code",
   "execution_count": null,
   "metadata": {},
   "outputs": [],
   "source": []
  }
 ],
 "metadata": {
  "kernelspec": {
   "display_name": "Python 3 (ipykernel)",
   "language": "python",
   "name": "python3"
  },
  "language_info": {
   "codemirror_mode": {
    "name": "ipython",
    "version": 3
   },
   "file_extension": ".py",
   "mimetype": "text/x-python",
   "name": "python",
   "nbconvert_exporter": "python",
   "pygments_lexer": "ipython3",
   "version": "3.9.12"
  },
  "toc": {
   "base_numbering": 1,
   "nav_menu": {},
   "number_sections": true,
   "sideBar": true,
   "skip_h1_title": true,
   "title_cell": "Table of Contents",
   "title_sidebar": "Contents",
   "toc_cell": false,
   "toc_position": {},
   "toc_section_display": true,
   "toc_window_display": false
  }
 },
 "nbformat": 4,
 "nbformat_minor": 2
}
